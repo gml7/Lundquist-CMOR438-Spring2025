{
 "cells": [
  {
   "cell_type": "code",
   "execution_count": null,
   "id": "08c1d06e",
   "metadata": {},
   "outputs": [],
   "source": [
    "import Pkg\n",
    "Pkg.activate(\"..\\\\..\\\\juMLia\")\n",
    "import MLDatasets: Wine\n",
    "using Plots, DataFrames, JSON3\n",
    "wine = Wine()"
   ]
  },
  {
   "cell_type": "code",
   "execution_count": null,
   "id": "36fad92b",
   "metadata": {},
   "outputs": [],
   "source": [
    "wine.dataframe"
   ]
  },
  {
   "cell_type": "markdown",
   "id": "1e4bb7ec",
   "metadata": {},
   "source": [
    "---\n",
    "\n",
    "The Wine dataset contains a chemical analysis of many different wines grown from one of three grape cultivars. While the perceptron isn't equipped to classify data into one of three groups, we can cut down our data to only consider two cultivars.\n",
    "\n",
    "---"
   ]
  },
  {
   "cell_type": "code",
   "execution_count": null,
   "id": "1525af1b",
   "metadata": {},
   "outputs": [],
   "source": [
    "perceptrondata = subset(wine.dataframe, :Wine => x -> (x .== 1 .|| x .== 2)) # Only select cultivars 1 and 2\n",
    "perceptrondata = perceptrondata[:, [:OD, :Proline, :Wine]]\n",
    "perceptronfeatures = perceptrondata[:, [:OD, :Proline]]\n",
    "perceptronlabels = perceptrondata[:, :Wine]"
   ]
  },
  {
   "cell_type": "code",
   "execution_count": null,
   "id": "8b127aa5",
   "metadata": {},
   "outputs": [],
   "source": [
    "wine1 = subset(perceptrondata, :Wine => x -> x .== 1) # Only select cultivar 1\n",
    "wine2 = subset(perceptrondata, :Wine => x -> x .== 2)"
   ]
  },
  {
   "cell_type": "code",
   "execution_count": null,
   "id": "db4bfb39",
   "metadata": {},
   "outputs": [],
   "source": [
    "scatter(wine1[:, :OD], wine1[:, :Proline], mc=\"red\")\n",
    "scatter!(wine2[:, :OD], wine2[:, :Proline], mc=\"blue\")"
   ]
  },
  {
   "cell_type": "markdown",
   "id": "348b9ae1",
   "metadata": {},
   "source": [
    "One thing you'll notice is you can't actually draw a straight line here perfectly separating the two categories. I.e., they're not linearly separable. The perceptron is only able to classify across linear separations. So we do a little data filtering to remove the inseparable data.\n",
    "\n",
    "---"
   ]
  },
  {
   "cell_type": "code",
   "execution_count": null,
   "id": "d78cddd1",
   "metadata": {},
   "outputs": [],
   "source": [
    "wine1vec = Vector.(eachrow(wine1)) # Only select cultivar 1\n",
    "wine2vec = Vector.(eachrow(wine2))\n",
    "filter!(x -> !(x[1] <= 3 && x[2] < 800), wine1vec)\n",
    "filter!(x -> !(x[1] > 2.5 && x[2] > 800), wine2vec)\n",
    "scatter([x[1] for x in wine1vec], [y[2] for y in wine1vec], mc=\"red\")\n",
    "scatter!([x[1] for x in wine2vec], [y[2] for y in wine2vec], mc=\"blue\")"
   ]
  },
  {
   "cell_type": "markdown",
   "id": "f1d658ee",
   "metadata": {},
   "source": [
    "Much better!\n",
    "\n",
    "---"
   ]
  },
  {
   "cell_type": "code",
   "execution_count": null,
   "id": "af797357",
   "metadata": {},
   "outputs": [],
   "source": [
    "trainfeatures = [x[1:2] for x in [wine1vec; wine2vec]]\n",
    "# The perceptron trains on labels either +1 or -1\n",
    "trainlabels = map(val -> (val == 1) ? -1 : 1, [x[3] for x in [wine1vec; wine2vec]])"
   ]
  },
  {
   "cell_type": "code",
   "execution_count": null,
   "id": "a04c8256",
   "metadata": {},
   "outputs": [],
   "source": [
    "include(\"SingleNeuron.jl\")"
   ]
  },
  {
   "cell_type": "code",
   "execution_count": null,
   "id": "fd6130fd",
   "metadata": {},
   "outputs": [],
   "source": [
    "perceptronmodel = SingleNeuron(2, :perceptron)"
   ]
  },
  {
   "cell_type": "markdown",
   "id": "7aaed343",
   "metadata": {},
   "source": [
    "This SingleNeuron constructor automatically instantiates a two-dimensional perceptron: it can take in a two-dimensional vector and spit out a binary value (either -1 or 1) depending on its current weights and bias. It starts with weights and bias set to 0, so it will output 1 for any input."
   ]
  },
  {
   "cell_type": "code",
   "execution_count": null,
   "id": "4d3069d2",
   "metadata": {},
   "outputs": [],
   "source": [
    "predict(perceptronmodel, trainfeatures)"
   ]
  },
  {
   "cell_type": "code",
   "execution_count": null,
   "id": "2a2026ad",
   "metadata": {},
   "outputs": [],
   "source": [
    "trainlabels"
   ]
  },
  {
   "cell_type": "code",
   "execution_count": null,
   "id": "8c3e7aea",
   "metadata": {},
   "outputs": [],
   "source": [
    "plotneuron(perceptronmodel; leftbound=1, rightbound=4)\n",
    "scatter!([x[1] for x in wine1vec], [y[2] for y in wine1vec], mc=\"red\")\n",
    "scatter!([x[1] for x in wine2vec], [y[2] for y in wine2vec], mc=\"blue\")"
   ]
  },
  {
   "cell_type": "markdown",
   "id": "6972aff9",
   "metadata": {},
   "source": [
    "We train the perceptron by defining a loss function--in the perceptron's case, just the euclidean norm of the difference between a set of predicted labels and actual training labels--and descending down the gradient of the loss function at a particular prediction. We do this iteratively over a set of features and associated labels."
   ]
  },
  {
   "cell_type": "code",
   "execution_count": null,
   "id": "889ee9f1",
   "metadata": {},
   "outputs": [],
   "source": [
    "train!(perceptronmodel, trainfeatures, trainlabels, numepochs=5)\n",
    "plotneuron(perceptronmodel; leftbound=1, rightbound=4)\n",
    "scatter!([x[1] for x in wine1vec], [y[2] for y in wine1vec], mc=\"red\")\n",
    "scatter!([x[1] for x in wine2vec], [y[2] for y in wine2vec], mc=\"blue\")"
   ]
  },
  {
   "cell_type": "markdown",
   "id": "ca8177af",
   "metadata": {},
   "source": [
    "There we go! The perceptron can find a dividing line between the two categories."
   ]
  }
 ],
 "metadata": {
  "kernelspec": {
   "display_name": "Julia 1.11.5",
   "language": "julia",
   "name": "julia-1.11"
  },
  "language_info": {
   "file_extension": ".jl",
   "mimetype": "application/julia",
   "name": "julia",
   "version": "1.11.5"
  }
 },
 "nbformat": 4,
 "nbformat_minor": 5
}
