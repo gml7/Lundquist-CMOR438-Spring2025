{
 "cells": [
  {
   "cell_type": "markdown",
   "id": "1a016104",
   "metadata": {},
   "source": [
    "Here we return to the problem we encountered while explaining the perceptron: sometimes there are two distinct groups of data, but each group has outliers such that the groups can't be perfectly divided by a line(ar object, e.g. a hyperplane)."
   ]
  },
  {
   "cell_type": "code",
   "execution_count": null,
   "id": "25375066",
   "metadata": {},
   "outputs": [],
   "source": [
    "import Pkg\n",
    "Pkg.activate(\"..\\\\..\\\\juMLia\")\n",
    "import MLDatasets: Wine\n",
    "using Plots, DataFrames, JSON3\n",
    "wine = Wine()\n",
    "logregdata = subset(wine.dataframe, :Wine => x -> (x .== 1 .|| x .== 2))[:, [:OD, :Proline, :Wine]]\n",
    "logregfeatures = logregdata[:, [:OD, :Proline]]"
   ]
  },
  {
   "cell_type": "code",
   "execution_count": null,
   "id": "3dbe3bce",
   "metadata": {},
   "outputs": [],
   "source": [
    "wine1 = subset(logregdata, :Wine => x -> x .== 1) # Only select cultivar 1\n",
    "wine2 = subset(logregdata, :Wine => x -> x .== 2)\n",
    "scatter(wine1[:, :OD], wine1[:, :Proline], mc=\"red\")\n",
    "scatter!(wine2[:, :OD], wine2[:, :Proline], mc=\"blue\")"
   ]
  },
  {
   "cell_type": "markdown",
   "id": "4b70fcac",
   "metadata": {},
   "source": [
    "Once again we have our clearly grouped but linearly inseparable data. This time we don't use any heuristics to comb out the inseparable parts--we just toss the whole thing into the machine."
   ]
  },
  {
   "cell_type": "code",
   "execution_count": null,
   "id": "541b6ca3",
   "metadata": {},
   "outputs": [],
   "source": [
    "include(\"SingleNeuron.jl\")"
   ]
  },
  {
   "cell_type": "code",
   "execution_count": null,
   "id": "dd982c32",
   "metadata": {},
   "outputs": [],
   "source": [
    "logreglabels = logregdata[:, :Wine] .- 1"
   ]
  },
  {
   "cell_type": "markdown",
   "id": "bf4a91c7",
   "metadata": {},
   "source": [
    "\"Logistic\" in this context refers to the sigmoid function, which is 0 at $-\\infty$ and 1 at $+\\infty$ but transitions from 0 to 1 in a narrow range around 0. "
   ]
  },
  {
   "cell_type": "code",
   "execution_count": null,
   "id": "ed091ddd",
   "metadata": {},
   "outputs": [],
   "source": [
    "domain = range(-10, 10, 100)\n",
    "plot(domain, sigmoid(domain))"
   ]
  },
  {
   "cell_type": "markdown",
   "id": "998b2233",
   "metadata": {},
   "source": [
    "This allows for \"probabilistic\" classification, because using the sigmoid as an activation function means you classify most features as either 0 or 1, but if they're close enough to the boundary between groups they get a classification somewhere between the two groups. Because preactivation still behaves linearly, we can visualize the \"border\" where the classification is exactly halfway between the two options."
   ]
  },
  {
   "cell_type": "code",
   "execution_count": null,
   "id": "6d5248f0",
   "metadata": {},
   "outputs": [],
   "source": [
    "logregmodel = SingleNeuron(2, :logisticregression)\n",
    "train!(logregmodel, logregfeatures, logreglabels)\n",
    "plotneuron(logregmodel; leftbound=1, rightbound=4)\n",
    "scatter!(wine1[:, :OD], wine1[:, :Proline], mc=\"red\")\n",
    "scatter!(wine2[:, :OD], wine2[:, :Proline], mc=\"blue\")"
   ]
  },
  {
   "cell_type": "markdown",
   "id": "b970b755",
   "metadata": {},
   "source": [
    "And there we go! \"Most\" of each group is on one side of the border."
   ]
  }
 ],
 "metadata": {
  "kernelspec": {
   "display_name": "Julia 1.11.5",
   "language": "julia",
   "name": "julia-1.11"
  },
  "language_info": {
   "file_extension": ".jl",
   "mimetype": "application/julia",
   "name": "julia",
   "version": "1.11.5"
  }
 },
 "nbformat": 4,
 "nbformat_minor": 5
}
