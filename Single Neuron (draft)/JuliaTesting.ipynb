{
 "cells": [
  {
   "cell_type": "code",
   "execution_count": 1,
   "id": "4f3c1e4b",
   "metadata": {},
   "outputs": [
    {
     "name": "stderr",
     "output_type": "stream",
     "text": [
      "\u001b[32m\u001b[1m  Activating\u001b[22m\u001b[39m project at `d:\\Users\\gabri\\Documents\\Data Science & Machine Learning Spring 2025\\Lundquist-CMOR438-Spring2025\\Single Neuron (draft)\\juMLia`\n"
     ]
    }
   ],
   "source": [
    "] activate juMLia"
   ]
  },
  {
   "cell_type": "code",
   "execution_count": null,
   "id": "eeb3d9db",
   "metadata": {},
   "outputs": [],
   "source": [
    "import MLDatasets: Iris\n",
    "using Plots, DataFrames\n",
    "irisdata = Iris()\n",
    "perceptrondata = subset(irisdata.dataframe, :class => species -> isequal.(species, \"Iris-setosa\") .|| isequal.(species, \"Iris-versicolor\"))\n",
    "perceptrontargets = map(perceptrondata[:, :class]) do species\n",
    "    if species == \"Iris-setosa\"\n",
    "        return 1\n",
    "    elseif species == \"Iris-versicolor\"\n",
    "        return -1\n",
    "    else\n",
    "        return NaN\n",
    "    end\n",
    "end\n",
    "perceptroninputs = perceptrondata[:, [:sepallength, :sepalwidth]]\n",
    "setosadata = subset(irisdata.dataframe, :class => species -> isequal.(species, \"Iris-setosa\"))\n",
    "versicolordata = subset(irisdata.dataframe, :class => species -> isequal.(species, \"Iris-versicolor\"))\n",
    "include(\"Single Neuron (draft)/SingleNeuronJulia.jl\")\n",
    "plotdomain = range(minimum(perceptrondata[:, :sepallength]), maximum(perceptrondata[:, :sepallength]), length=100)\n",
    "perceptronlinefunc(x, neur::SingleNeuron) = (neur.weights[1].*x .- neur.bias) ./ -neur.weights[2]\n",
    "function plotperceptron(neur::SingleNeuron)\n",
    "    scatter(setosadata[:, :sepallength], setosadata[:, :sepalwidth], label=\"Setosa\", mc=:blue, ms=3)\n",
    "    scatter!(versicolordata[:, :sepallength], versicolordata[:, :sepalwidth], label=\"Versicolor\", mc=:magenta, ms=3)\n",
    "    plot!(plotdomain, perceptronlinefunc(plotdomain, neur))\n",
    "end\n"
   ]
  },
  {
   "cell_type": "code",
   "execution_count": null,
   "id": "7881f22b",
   "metadata": {},
   "outputs": [],
   "source": [
    "perceptronmodel = SingleNeuron(2, :perceptron)\n",
    "predict(perceptronmodel, perceptroninputs)\n",
    "plotperceptron(perceptronmodel)"
   ]
  },
  {
   "cell_type": "code",
   "execution_count": null,
   "id": "55bab87d",
   "metadata": {},
   "outputs": [],
   "source": [
    "train!(perceptronmodel, perceptroninputs, perceptrontargets; learningrate=0.05, numepochs=5)"
   ]
  },
  {
   "cell_type": "code",
   "execution_count": null,
   "id": "72c04bfc",
   "metadata": {},
   "outputs": [],
   "source": [
    "using MLDatasets\n",
    "using Plots\n",
    "using DataFrames"
   ]
  },
  {
   "cell_type": "code",
   "execution_count": null,
   "id": "f29b892d",
   "metadata": {},
   "outputs": [],
   "source": [
    "irisdata = Iris()"
   ]
  },
  {
   "cell_type": "code",
   "execution_count": null,
   "id": "c5005243",
   "metadata": {},
   "outputs": [],
   "source": [
    "perceptrondata = subset(irisdata.dataframe, :class => species -> isequal.(species, \"Iris-setosa\") .|| isequal.(species, \"Iris-versicolor\"))\n",
    "perceptrontargets = map(perceptrondata[:, :class]) do species\n",
    "    if species == \"Iris-setosa\"\n",
    "        return 1\n",
    "    elseif species == \"Iris-versicolor\"\n",
    "        return -1\n",
    "    else\n",
    "        return NaN\n",
    "    end\n",
    "end\n",
    "perceptroninputs = perceptrondata[:, [:sepallength, :sepalwidth]]\n",
    "setosadata = subset(irisdata.dataframe, :class => species -> isequal.(species, \"Iris-setosa\"))\n",
    "versicolordata = subset(irisdata.dataframe, :class => species -> isequal.(species, \"Iris-versicolor\"))"
   ]
  },
  {
   "cell_type": "code",
   "execution_count": null,
   "id": "1cf326c0",
   "metadata": {},
   "outputs": [],
   "source": [
    "include(\"Single Neuron (draft)/SingleNeuronJulia.jl\")"
   ]
  },
  {
   "cell_type": "code",
   "execution_count": null,
   "id": "d708cc0d",
   "metadata": {},
   "outputs": [],
   "source": [
    "plotdomain = range(minimum(perceptrondata[:, :sepallength]), maximum(perceptrondata[:, :sepallength]), length=100)\n",
    "perceptronlinefunc(x, neur::SingleNeuron) = (neur.weights[1].*x .- neur.bias) ./ -neur.weights[2]\n",
    "function plotperceptron(neur::SingleNeuron)\n",
    "    scatter(setosadata[:, :sepallength], setosadata[:, :sepalwidth], label=\"Setosa\", mc=:blue, ms=3)\n",
    "    scatter!(versicolordata[:, :sepallength], versicolordata[:, :sepalwidth], label=\"Versicolor\", mc=:magenta, ms=3)\n",
    "    plot!(plotdomain, perceptronlinefunc(plotdomain, neur))\n",
    "end"
   ]
  },
  {
   "cell_type": "code",
   "execution_count": null,
   "id": "ae157fe0",
   "metadata": {},
   "outputs": [],
   "source": []
  },
  {
   "cell_type": "code",
   "execution_count": 3,
   "id": "5f5a524b",
   "metadata": {},
   "outputs": [
    {
     "data": {
      "text/plain": [
       "Plots.GRBackend()"
      ]
     },
     "execution_count": 3,
     "metadata": {},
     "output_type": "execute_result"
    }
   ],
   "source": [
    "gr()"
   ]
  },
  {
   "cell_type": "code",
   "execution_count": 4,
   "id": "eb222f1b",
   "metadata": {},
   "outputs": [],
   "source": [
    "include(\"SingleNeuronJulia.jl\")"
   ]
  },
  {
   "cell_type": "code",
   "execution_count": null,
   "id": "aa8af187",
   "metadata": {},
   "outputs": [
    {
     "data": {
      "text/plain": [
       "SingleNeuron{typeof(sign_zeropositive), typeof(perceptronstochasticgradient), typeof(perceptronloss)}(Main.SingleNeuronJulia.sign_zeropositive, Main.SingleNeuronJulia.perceptronstochasticgradient, Main.SingleNeuronJulia.perceptronloss, [0.0, 0.0], 0.0, [0.0, 0.0], 0.0, Float64[], Float64[])"
      ]
     },
     "execution_count": 5,
     "metadata": {},
     "output_type": "execute_result"
    }
   ],
   "source": [
    "perceptron_model = SingleNeuron(2, :perceptron)"
   ]
  },
  {
   "cell_type": "code",
   "execution_count": null,
   "id": "d544b64e",
   "metadata": {},
   "outputs": [],
   "source": []
  },
  {
   "cell_type": "code",
   "execution_count": 4,
   "id": "4256b7cb",
   "metadata": {},
   "outputs": [
    {
     "data": {
      "text/plain": [
       "Plots.PlotlyBackend()"
      ]
     },
     "execution_count": 4,
     "metadata": {},
     "output_type": "execute_result"
    }
   ],
   "source": [
    "plotly()"
   ]
  },
  {
   "cell_type": "code",
   "execution_count": 3,
   "id": "11c36ae7",
   "metadata": {},
   "outputs": [
    {
     "data": {
      "application/vnd.plotly.v1+json": {
       "data": [
        {
         "colorbar": {
          "len": 0.9525371828521435,
          "title": "",
          "x": 0.9934383202099738,
          "y": 0.513888888888889
         },
         "legendgroup": "y1",
         "line": {
          "color": "rgba(0, 154, 250, 1.000)",
          "dash": "solid",
          "shape": "linear",
          "width": 1
         },
         "mode": "lines",
         "name": "y1",
         "showlegend": true,
         "type": "scatter",
         "x": [
          0,
          0.10101010101010101,
          0.20202020202020202,
          0.30303030303030304,
          0.40404040404040403,
          0.5050505050505051,
          0.6060606060606061,
          0.7070707070707071,
          0.8080808080808081,
          0.9090909090909091,
          1.0101010101010102,
          1.1111111111111112,
          1.2121212121212122,
          1.3131313131313131,
          1.4141414141414141,
          1.5151515151515151,
          1.6161616161616161,
          1.7171717171717171,
          1.8181818181818181,
          1.9191919191919191,
          2.0202020202020203,
          2.121212121212121,
          2.2222222222222223,
          2.323232323232323,
          2.4242424242424243,
          2.525252525252525,
          2.6262626262626263,
          2.727272727272727,
          2.8282828282828283,
          2.9292929292929295,
          3.0303030303030303,
          3.1313131313131315,
          3.2323232323232323,
          3.3333333333333335,
          3.4343434343434343,
          3.5353535353535355,
          3.6363636363636362,
          3.7373737373737375,
          3.8383838383838382,
          3.9393939393939394,
          4.040404040404041,
          4.141414141414141,
          4.242424242424242,
          4.343434343434343,
          4.444444444444445,
          4.545454545454546,
          4.646464646464646,
          4.747474747474747,
          4.848484848484849,
          4.94949494949495,
          5.05050505050505,
          5.151515151515151,
          5.252525252525253,
          5.353535353535354,
          5.454545454545454,
          5.555555555555555,
          5.656565656565657,
          5.757575757575758,
          5.858585858585859,
          5.959595959595959,
          6.0606060606060606,
          6.161616161616162,
          6.262626262626263,
          6.363636363636363,
          6.4646464646464645,
          6.565656565656566,
          6.666666666666667,
          6.767676767676767,
          6.8686868686868685,
          6.96969696969697,
          7.070707070707071,
          7.171717171717172,
          7.2727272727272725,
          7.373737373737374,
          7.474747474747475,
          7.575757575757576,
          7.6767676767676765,
          7.777777777777778,
          7.878787878787879,
          7.97979797979798,
          8.080808080808081,
          8.181818181818182,
          8.282828282828282,
          8.383838383838384,
          8.484848484848484,
          8.585858585858587,
          8.686868686868687,
          8.787878787878787,
          8.88888888888889,
          8.98989898989899,
          9.090909090909092,
          9.191919191919192,
          9.292929292929292,
          9.393939393939394,
          9.494949494949495,
          9.595959595959595,
          9.696969696969697,
          9.797979797979798,
          9.8989898989899,
          10
         ],
         "xaxis": "x",
         "y": [
          0,
          0.1008384202581046,
          0.2006488565226854,
          0.2984138044476411,
          0.3931366121483298,
          0.48385164043793466,
          0.5696341069089657,
          0.6496095135057065,
          0.7229625614794605,
          0.7889454628442574,
          0.8468855636029834,
          0.8961922010299563,
          0.9363627251042848,
          0.9669876227092996,
          0.9877546923600838,
          0.9984522269003895,
          0.9989711717233568,
          0.9893062365143401,
          0.9695559491823237,
          0.9399216514301312,
          0.9007054462029555,
          0.8523071179396752,
          0.7952200570230491,
          0.7300262299764464,
          0.6573902466827755,
          0.5780525851065732,
          0.4928220425889235,
          0.40256749066949654,
          0.30820901749007684,
          0.21070854807719247,
          0.11106003812412972,
          0.010279341240534253,
          -0.09060614703340773,
          -0.19056796287548539,
          -0.28858705872043244,
          -0.38366419180611233,
          -0.47483011082223947,
          -0.5611554368152017,
          -0.6417601376193878,
          -0.7158224992291902,
          -0.7825875026542022,
          -0.8413745208608701,
          -0.8915842573351402,
          -0.9327048555318336,
          -0.9643171169287782,
          -0.9860987744909298,
          -0.9978277779792126,
          -0.9993845576124357,
          -0.9907532430056771,
          -0.9720218249588334,
          -0.9433812584459996,
          -0.9051235159501367,
          -0.8576386109880517,
          -0.8014106221689696,
          -0.7370127583189133,
          -0.6651015149788224,
          -0.586409981847235,
          -0.5017403693939113,
          -0.41195583083086196,
          -0.31797166281061867,
          -0.22074597455506334,
          -0.12126992053716677,
          -0.020557596287259176,
          0.08036429967028173,
          0.18046693235991093,
          0.27872981867755725,
          0.37415123057121996,
          0.4657584070256517,
          0.5526174707464059,
          0.6338429484489058,
          0.7086067976992182,
          0.776146848283581,
          0.8357745720522589,
          0.8868821020290788,
          0.9289484292312513,
          0.9615447140268237,
          0.9843386578838236,
          0.9970978909438748,
          0.9996923408861117,
          0.9920955589323227,
          0.9743849894755358,
          0.9467411805833543,
          0.9094459434244625,
          0.8628794793817836,
          0.8075165041395626,
          0.7439214082568444,
          0.6727425035622647,
          0.5947054140244975,
          0.510605678474283,
          0.4213006405886069,
          0.32770070881349816,
          0.23076007532505177,
          0.13146698864295842,
          0.03083367906114098,
          -0.07011396040064677,
          -0.1703468323280965,
          -0.26884312591038406,
          -0.3645987336558887,
          -0.45663748763377376,
          -0.5440211108893698
         ],
         "yaxis": "y"
        }
       ],
       "layout": {
        "annotations": [],
        "height": 400,
        "legend": {
         "bgcolor": "rgba(255, 255, 255, 1.000)",
         "bordercolor": "rgba(0, 0, 0, 1.000)",
         "borderwidth": 1,
         "font": {
          "color": "rgba(0, 0, 0, 1.000)",
          "family": "sans-serif",
          "size": 11
         },
         "title": {
          "font": {
           "color": "rgba(0, 0, 0, 1.000)",
           "family": "sans-serif",
           "size": 15
          },
          "text": ""
         },
         "tracegroupgap": 0,
         "traceorder": "normal",
         "x": 1,
         "xanchor": "auto",
         "y": 1,
         "yanchor": "auto"
        },
        "margin": {
         "b": 20,
         "l": 0,
         "r": 0,
         "t": 20
        },
        "paper_bgcolor": "rgba(255, 255, 255, 1.000)",
        "plot_bgcolor": "rgba(255, 255, 255, 1.000)",
        "showlegend": true,
        "width": 600,
        "xaxis": {
         "anchor": "y",
         "domain": [
          0.0658209390492855,
          0.9934383202099738
         ],
         "gridcolor": "rgba(0, 0, 0, 0.100)",
         "gridwidth": 0.5,
         "linecolor": "rgba(0, 0, 0, 1.000)",
         "mirror": false,
         "range": [
          -0.3000000000000007,
          10.3
         ],
         "showgrid": true,
         "showline": true,
         "showticklabels": true,
         "tickangle": 0,
         "tickcolor": "rgb(0, 0, 0)",
         "tickfont": {
          "color": "rgba(0, 0, 0, 1.000)",
          "family": "sans-serif",
          "size": 11
         },
         "tickmode": "array",
         "ticks": "inside",
         "ticktext": [
          "0.0",
          "2.5",
          "5.0",
          "7.5",
          "10.0"
         ],
         "tickvals": [
          0,
          2.5,
          5,
          7.5,
          10
         ],
         "title": "",
         "titlefont": {
          "color": "rgba(0, 0, 0, 1.000)",
          "family": "sans-serif",
          "size": 15
         },
         "type": "-",
         "visible": true,
         "zeroline": false,
         "zerolinecolor": "rgba(0, 0, 0, 1.000)"
        },
        "yaxis": {
         "anchor": "x",
         "domain": [
          0.03762029746281716,
          0.9901574803149606
         ],
         "gridcolor": "rgba(0, 0, 0, 0.100)",
         "gridwidth": 0.5,
         "linecolor": "rgba(0, 0, 0, 1.000)",
         "mirror": false,
         "range": [
          -1.059356864567392,
          1.059664647841068
         ],
         "showgrid": true,
         "showline": true,
         "showticklabels": true,
         "tickangle": 0,
         "tickcolor": "rgb(0, 0, 0)",
         "tickfont": {
          "color": "rgba(0, 0, 0, 1.000)",
          "family": "sans-serif",
          "size": 11
         },
         "tickmode": "array",
         "ticks": "inside",
         "ticktext": [
          "−1.0",
          "−0.5",
          "0.0",
          "0.5",
          "1.0"
         ],
         "tickvals": [
          -1,
          -0.5,
          0,
          0.5,
          1
         ],
         "title": "",
         "titlefont": {
          "color": "rgba(0, 0, 0, 1.000)",
          "family": "sans-serif",
          "size": 15
         },
         "type": "-",
         "visible": true,
         "zeroline": false,
         "zerolinecolor": "rgba(0, 0, 0, 1.000)"
        }
       }
      },
      "text/html": [
       "    <div id=\"ac425c8f-4678-4205-95c7-8f740d091958\" style=\"width:600px;height:400px;\"></div>\n",
       "    <script>\n",
       "        requirejs.config({\n",
       "        paths: {\n",
       "            plotly: 'https://cdn.plot.ly/plotly-2.6.3.min'\n",
       "        }\n",
       "    });\n",
       "    require(['plotly'], function (Plotly) {\n",
       "\n",
       "    Plotly.newPlot('ac425c8f-4678-4205-95c7-8f740d091958', [\n",
       "    {\n",
       "        \"xaxis\": \"x\",\n",
       "        \"colorbar\": {\n",
       "            \"y\": 0.513888888888889,\n",
       "            \"title\": \"\",\n",
       "            \"len\": 0.9525371828521435,\n",
       "            \"x\": 0.9934383202099738\n",
       "        },\n",
       "        \"yaxis\": \"y\",\n",
       "        \"x\": [\n",
       "            0.0,\n",
       "            0.10101010101010101,\n",
       "            0.20202020202020202,\n",
       "            0.30303030303030304,\n",
       "            0.40404040404040403,\n",
       "            0.5050505050505051,\n",
       "            0.6060606060606061,\n",
       "            0.7070707070707071,\n",
       "            0.8080808080808081,\n",
       "            0.9090909090909091,\n",
       "            1.0101010101010102,\n",
       "            1.1111111111111112,\n",
       "            1.2121212121212122,\n",
       "            1.3131313131313131,\n",
       "            1.4141414141414141,\n",
       "            1.5151515151515151,\n",
       "            1.6161616161616161,\n",
       "            1.7171717171717171,\n",
       "            1.8181818181818181,\n",
       "            1.9191919191919191,\n",
       "            2.0202020202020203,\n",
       "            2.121212121212121,\n",
       "            2.2222222222222223,\n",
       "            2.323232323232323,\n",
       "            2.4242424242424243,\n",
       "            2.525252525252525,\n",
       "            2.6262626262626263,\n",
       "            2.727272727272727,\n",
       "            2.8282828282828283,\n",
       "            2.9292929292929295,\n",
       "            3.0303030303030303,\n",
       "            3.1313131313131315,\n",
       "            3.2323232323232323,\n",
       "            3.3333333333333335,\n",
       "            3.4343434343434343,\n",
       "            3.5353535353535355,\n",
       "            3.6363636363636362,\n",
       "            3.7373737373737375,\n",
       "            3.8383838383838382,\n",
       "            3.9393939393939394,\n",
       "            4.040404040404041,\n",
       "            4.141414141414141,\n",
       "            4.242424242424242,\n",
       "            4.343434343434343,\n",
       "            4.444444444444445,\n",
       "            4.545454545454546,\n",
       "            4.646464646464646,\n",
       "            4.747474747474747,\n",
       "            4.848484848484849,\n",
       "            4.94949494949495,\n",
       "            5.05050505050505,\n",
       "            5.151515151515151,\n",
       "            5.252525252525253,\n",
       "            5.353535353535354,\n",
       "            5.454545454545454,\n",
       "            5.555555555555555,\n",
       "            5.656565656565657,\n",
       "            5.757575757575758,\n",
       "            5.858585858585859,\n",
       "            5.959595959595959,\n",
       "            6.0606060606060606,\n",
       "            6.161616161616162,\n",
       "            6.262626262626263,\n",
       "            6.363636363636363,\n",
       "            6.4646464646464645,\n",
       "            6.565656565656566,\n",
       "            6.666666666666667,\n",
       "            6.767676767676767,\n",
       "            6.8686868686868685,\n",
       "            6.96969696969697,\n",
       "            7.070707070707071,\n",
       "            7.171717171717172,\n",
       "            7.2727272727272725,\n",
       "            7.373737373737374,\n",
       "            7.474747474747475,\n",
       "            7.575757575757576,\n",
       "            7.6767676767676765,\n",
       "            7.777777777777778,\n",
       "            7.878787878787879,\n",
       "            7.97979797979798,\n",
       "            8.080808080808081,\n",
       "            8.181818181818182,\n",
       "            8.282828282828282,\n",
       "            8.383838383838384,\n",
       "            8.484848484848484,\n",
       "            8.585858585858587,\n",
       "            8.686868686868687,\n",
       "            8.787878787878787,\n",
       "            8.88888888888889,\n",
       "            8.98989898989899,\n",
       "            9.090909090909092,\n",
       "            9.191919191919192,\n",
       "            9.292929292929292,\n",
       "            9.393939393939394,\n",
       "            9.494949494949495,\n",
       "            9.595959595959595,\n",
       "            9.696969696969697,\n",
       "            9.797979797979798,\n",
       "            9.8989898989899,\n",
       "            10.0\n",
       "        ],\n",
       "        \"showlegend\": true,\n",
       "        \"mode\": \"lines\",\n",
       "        \"name\": \"y1\",\n",
       "        \"legendgroup\": \"y1\",\n",
       "        \"line\": {\n",
       "            \"color\": \"rgba(0, 154, 250, 1.000)\",\n",
       "            \"shape\": \"linear\",\n",
       "            \"dash\": \"solid\",\n",
       "            \"width\": 1\n",
       "        },\n",
       "        \"y\": [\n",
       "            0.0,\n",
       "            0.1008384202581046,\n",
       "            0.2006488565226854,\n",
       "            0.2984138044476411,\n",
       "            0.3931366121483298,\n",
       "            0.48385164043793466,\n",
       "            0.5696341069089657,\n",
       "            0.6496095135057065,\n",
       "            0.7229625614794605,\n",
       "            0.7889454628442574,\n",
       "            0.8468855636029834,\n",
       "            0.8961922010299563,\n",
       "            0.9363627251042848,\n",
       "            0.9669876227092996,\n",
       "            0.9877546923600838,\n",
       "            0.9984522269003895,\n",
       "            0.9989711717233568,\n",
       "            0.9893062365143401,\n",
       "            0.9695559491823237,\n",
       "            0.9399216514301312,\n",
       "            0.9007054462029555,\n",
       "            0.8523071179396752,\n",
       "            0.7952200570230491,\n",
       "            0.7300262299764464,\n",
       "            0.6573902466827755,\n",
       "            0.5780525851065732,\n",
       "            0.4928220425889235,\n",
       "            0.40256749066949654,\n",
       "            0.30820901749007684,\n",
       "            0.21070854807719247,\n",
       "            0.11106003812412972,\n",
       "            0.010279341240534253,\n",
       "            -0.09060614703340773,\n",
       "            -0.19056796287548539,\n",
       "            -0.28858705872043244,\n",
       "            -0.38366419180611233,\n",
       "            -0.47483011082223947,\n",
       "            -0.5611554368152017,\n",
       "            -0.6417601376193878,\n",
       "            -0.7158224992291902,\n",
       "            -0.7825875026542022,\n",
       "            -0.8413745208608701,\n",
       "            -0.8915842573351402,\n",
       "            -0.9327048555318336,\n",
       "            -0.9643171169287782,\n",
       "            -0.9860987744909298,\n",
       "            -0.9978277779792126,\n",
       "            -0.9993845576124357,\n",
       "            -0.9907532430056771,\n",
       "            -0.9720218249588334,\n",
       "            -0.9433812584459996,\n",
       "            -0.9051235159501367,\n",
       "            -0.8576386109880517,\n",
       "            -0.8014106221689696,\n",
       "            -0.7370127583189133,\n",
       "            -0.6651015149788224,\n",
       "            -0.586409981847235,\n",
       "            -0.5017403693939113,\n",
       "            -0.41195583083086196,\n",
       "            -0.31797166281061867,\n",
       "            -0.22074597455506334,\n",
       "            -0.12126992053716677,\n",
       "            -0.020557596287259176,\n",
       "            0.08036429967028173,\n",
       "            0.18046693235991093,\n",
       "            0.27872981867755725,\n",
       "            0.37415123057121996,\n",
       "            0.4657584070256517,\n",
       "            0.5526174707464059,\n",
       "            0.6338429484489058,\n",
       "            0.7086067976992182,\n",
       "            0.776146848283581,\n",
       "            0.8357745720522589,\n",
       "            0.8868821020290788,\n",
       "            0.9289484292312513,\n",
       "            0.9615447140268237,\n",
       "            0.9843386578838236,\n",
       "            0.9970978909438748,\n",
       "            0.9996923408861117,\n",
       "            0.9920955589323227,\n",
       "            0.9743849894755358,\n",
       "            0.9467411805833543,\n",
       "            0.9094459434244625,\n",
       "            0.8628794793817836,\n",
       "            0.8075165041395626,\n",
       "            0.7439214082568444,\n",
       "            0.6727425035622647,\n",
       "            0.5947054140244975,\n",
       "            0.510605678474283,\n",
       "            0.4213006405886069,\n",
       "            0.32770070881349816,\n",
       "            0.23076007532505177,\n",
       "            0.13146698864295842,\n",
       "            0.03083367906114098,\n",
       "            -0.07011396040064677,\n",
       "            -0.1703468323280965,\n",
       "            -0.26884312591038406,\n",
       "            -0.3645987336558887,\n",
       "            -0.45663748763377376,\n",
       "            -0.5440211108893698\n",
       "        ],\n",
       "        \"type\": \"scatter\"\n",
       "    }\n",
       "]\n",
       ", {\n",
       "    \"showlegend\": true,\n",
       "    \"xaxis\": {\n",
       "        \"showticklabels\": true,\n",
       "        \"gridwidth\": 0.5,\n",
       "        \"tickvals\": [\n",
       "            0.0,\n",
       "            2.5,\n",
       "            5.0,\n",
       "            7.5,\n",
       "            10.0\n",
       "        ],\n",
       "        \"range\": [\n",
       "            -0.3000000000000007,\n",
       "            10.3\n",
       "        ],\n",
       "        \"domain\": [\n",
       "            0.0658209390492855,\n",
       "            0.9934383202099738\n",
       "        ],\n",
       "        \"mirror\": false,\n",
       "        \"tickangle\": 0,\n",
       "        \"showline\": true,\n",
       "        \"ticktext\": [\n",
       "            \"0.0\",\n",
       "            \"2.5\",\n",
       "            \"5.0\",\n",
       "            \"7.5\",\n",
       "            \"10.0\"\n",
       "        ],\n",
       "        \"zeroline\": false,\n",
       "        \"tickfont\": {\n",
       "            \"color\": \"rgba(0, 0, 0, 1.000)\",\n",
       "            \"family\": \"sans-serif\",\n",
       "            \"size\": 11\n",
       "        },\n",
       "        \"zerolinecolor\": \"rgba(0, 0, 0, 1.000)\",\n",
       "        \"anchor\": \"y\",\n",
       "        \"visible\": true,\n",
       "        \"ticks\": \"inside\",\n",
       "        \"tickmode\": \"array\",\n",
       "        \"linecolor\": \"rgba(0, 0, 0, 1.000)\",\n",
       "        \"showgrid\": true,\n",
       "        \"title\": \"\",\n",
       "        \"gridcolor\": \"rgba(0, 0, 0, 0.100)\",\n",
       "        \"titlefont\": {\n",
       "            \"color\": \"rgba(0, 0, 0, 1.000)\",\n",
       "            \"family\": \"sans-serif\",\n",
       "            \"size\": 15\n",
       "        },\n",
       "        \"tickcolor\": \"rgb(0, 0, 0)\",\n",
       "        \"type\": \"-\"\n",
       "    },\n",
       "    \"paper_bgcolor\": \"rgba(255, 255, 255, 1.000)\",\n",
       "    \"annotations\": [],\n",
       "    \"height\": 400,\n",
       "    \"margin\": {\n",
       "        \"l\": 0,\n",
       "        \"b\": 20,\n",
       "        \"r\": 0,\n",
       "        \"t\": 20\n",
       "    },\n",
       "    \"plot_bgcolor\": \"rgba(255, 255, 255, 1.000)\",\n",
       "    \"yaxis\": {\n",
       "        \"showticklabels\": true,\n",
       "        \"gridwidth\": 0.5,\n",
       "        \"tickvals\": [\n",
       "            -1.0,\n",
       "            -0.5,\n",
       "            0.0,\n",
       "            0.5,\n",
       "            1.0\n",
       "        ],\n",
       "        \"range\": [\n",
       "            -1.059356864567392,\n",
       "            1.059664647841068\n",
       "        ],\n",
       "        \"domain\": [\n",
       "            0.03762029746281716,\n",
       "            0.9901574803149606\n",
       "        ],\n",
       "        \"mirror\": false,\n",
       "        \"tickangle\": 0,\n",
       "        \"showline\": true,\n",
       "        \"ticktext\": [\n",
       "            \"−1.0\",\n",
       "            \"−0.5\",\n",
       "            \"0.0\",\n",
       "            \"0.5\",\n",
       "            \"1.0\"\n",
       "        ],\n",
       "        \"zeroline\": false,\n",
       "        \"tickfont\": {\n",
       "            \"color\": \"rgba(0, 0, 0, 1.000)\",\n",
       "            \"family\": \"sans-serif\",\n",
       "            \"size\": 11\n",
       "        },\n",
       "        \"zerolinecolor\": \"rgba(0, 0, 0, 1.000)\",\n",
       "        \"anchor\": \"x\",\n",
       "        \"visible\": true,\n",
       "        \"ticks\": \"inside\",\n",
       "        \"tickmode\": \"array\",\n",
       "        \"linecolor\": \"rgba(0, 0, 0, 1.000)\",\n",
       "        \"showgrid\": true,\n",
       "        \"title\": \"\",\n",
       "        \"gridcolor\": \"rgba(0, 0, 0, 0.100)\",\n",
       "        \"titlefont\": {\n",
       "            \"color\": \"rgba(0, 0, 0, 1.000)\",\n",
       "            \"family\": \"sans-serif\",\n",
       "            \"size\": 15\n",
       "        },\n",
       "        \"tickcolor\": \"rgb(0, 0, 0)\",\n",
       "        \"type\": \"-\"\n",
       "    },\n",
       "    \"legend\": {\n",
       "        \"yanchor\": \"auto\",\n",
       "        \"xanchor\": \"auto\",\n",
       "        \"bordercolor\": \"rgba(0, 0, 0, 1.000)\",\n",
       "        \"bgcolor\": \"rgba(255, 255, 255, 1.000)\",\n",
       "        \"borderwidth\": 1,\n",
       "        \"tracegroupgap\": 0,\n",
       "        \"y\": 1.0,\n",
       "        \"font\": {\n",
       "            \"color\": \"rgba(0, 0, 0, 1.000)\",\n",
       "            \"family\": \"sans-serif\",\n",
       "            \"size\": 11\n",
       "        },\n",
       "        \"title\": {\n",
       "            \"font\": {\n",
       "                \"color\": \"rgba(0, 0, 0, 1.000)\",\n",
       "                \"family\": \"sans-serif\",\n",
       "                \"size\": 15\n",
       "            },\n",
       "            \"text\": \"\"\n",
       "        },\n",
       "        \"traceorder\": \"normal\",\n",
       "        \"x\": 1.0\n",
       "    },\n",
       "    \"width\": 600\n",
       "}\n",
       ");\n",
       "    });\n",
       "    </script>\n"
      ]
     },
     "execution_count": 3,
     "metadata": {},
     "output_type": "execute_result"
    }
   ],
   "source": [
    "x = range(0,10,100)\n",
    "y = sin.(x)\n",
    "p = plot(x,y)"
   ]
  },
  {
   "cell_type": "code",
   "execution_count": null,
   "id": "c6c89c13",
   "metadata": {},
   "outputs": [],
   "source": [
    "using LinearAlgebra"
   ]
  },
  {
   "cell_type": "code",
   "execution_count": null,
   "id": "ed51b4ed",
   "metadata": {},
   "outputs": [],
   "source": [
    "\"Returns -1 if the argument is less than 0, 1 otherwise.\"\n",
    "sign_zeropositive(value) = value < 0.0 ? -1 : 1\n",
    "\n",
    "\"Returns the argument.\"\n",
    "linear(value) = value\n",
    "\n",
    "\"\"\"\n",
    "Returns the value of the sigmoid function at input_value.\n",
    "    \n",
    "    https://en.wikipedia.org/wiki/Sigmoid_function \n",
    "\"\"\"\n",
    "sigmoid(value) = 1.0 / (1.0 + exp(-value))\n"
   ]
  },
  {
   "cell_type": "code",
   "execution_count": null,
   "id": "7b0c29b2",
   "metadata": {},
   "outputs": [],
   "source": [
    "mat = [1 2; 3 4]"
   ]
  },
  {
   "cell_type": "code",
   "execution_count": null,
   "id": "19f2d6c0",
   "metadata": {},
   "outputs": [],
   "source": [
    "2size([1,2,3])[end]"
   ]
  },
  {
   "cell_type": "code",
   "execution_count": null,
   "id": "7f8b833a",
   "metadata": {},
   "outputs": [],
   "source": [
    "function perceptronloss(predictions, targets)\n",
    "    return 0.25 * sum((predictions .- targets).^2)\n",
    "end\n",
    "\n",
    "function linearregressionloss(predictions::AbstractArray, targets::AbstractArray)\n",
    "    return ( (1 / 2(size(targets)[end])) * sum((predictions .- targets).^2) )\n",
    "end\n",
    "\n",
    "function linearregressionloss(prediction::Number, target::Number)\n",
    "    return ( 0.5 * (prediction - target)^2)\n",
    "end\n",
    "\n",
    "function binarycrossentropyloss(predictions::AbstractArray, targets::AbstractArray)\n",
    "    return ( (1 / size(targets)[end]) \n",
    "            * sum(-targets .* log.(predictions)\n",
    "                  - ((1 .- targets).*log.(1 .- predictions))) )\n",
    "end\n",
    "\n",
    "function binarycrossentropyloss(prediction::Number, target::Number)\n",
    "    return ( -target * log(prediction)\n",
    "                  - ((1 - target)*log(1 - prediction)) )\n",
    "end\n",
    "\n",
    "function meansquarederror(predictions, targets)\n",
    "    return 0.5 .* (predictions .- targets).^2\n",
    "end"
   ]
  },
  {
   "cell_type": "code",
   "execution_count": null,
   "id": "ca192194",
   "metadata": {},
   "outputs": [],
   "source": [
    "function perceptronstochasticgradient(prediction, target)\n",
    "    return 0.5 * (prediction .- target)\n",
    "end\n",
    "\n",
    "function regressionstochasticgradient(prediction, target)\n",
    "    return prediction .- target\n",
    "end"
   ]
  },
  {
   "cell_type": "code",
   "execution_count": null,
   "id": "9fc88e18",
   "metadata": {},
   "outputs": [],
   "source": [
    "function preactivation(input, weights, bias)\n",
    "    return dot(input, weights) + bias\n",
    "end"
   ]
  },
  {
   "cell_type": "code",
   "execution_count": null,
   "id": "9a34f856",
   "metadata": {},
   "outputs": [],
   "source": [
    "const type_perceptron = \"perceptron\"\n",
    "const type_linearregression = \"linear regression\"\n",
    "const type_logisticregression = \"logistic regression\""
   ]
  },
  {
   "cell_type": "code",
   "execution_count": null,
   "id": "164c6766",
   "metadata": {},
   "outputs": [],
   "source": [
    "mutable struct SingleNeuron{ActivatorF, GradientF, LossF}\n",
    "    const activationfunction::ActivatorF\n",
    "    const gradient::GradientF\n",
    "    const loss::LossF\n",
    "    weights::Vector{Float64}\n",
    "    bias::Float64\n",
    "    previousweights::Vector{Float64}\n",
    "    previousbias::Float64\n",
    "    losshistory::Array{Float64,1}\n",
    "    prevlosshistory::Array{Float64,1}\n",
    "end "
   ]
  },
  {
   "cell_type": "code",
   "execution_count": null,
   "id": "60a2ad02",
   "metadata": {},
   "outputs": [],
   "source": [
    "SingleNeuron(activationfunction::Function, \n",
    "             gradientfunction::Function, \n",
    "             lossfunction::Function, \n",
    "             weights::Vector{Float64}, \n",
    "             bias::Float64) = begin\n",
    "        SingleNeuron{typeof(activationfunction), \n",
    "                    typeof(gradientfunction), \n",
    "                    typeof(lossfunction)}(activationfunction, gradientfunction, lossfunction, \n",
    "                                        weights, bias, weights, bias, [], [])\n",
    "    end\n"
   ]
  },
  {
   "cell_type": "code",
   "execution_count": null,
   "id": "3f0310d2",
   "metadata": {},
   "outputs": [],
   "source": [
    "\n",
    "SingleNeuron(datadimension::Int; \n",
    "             modeltype::String, \n",
    "             weights::Vector{Float64}=zeros(Float64, datadimension), \n",
    "             bias::Float64=0.0) = begin\n",
    "        if length(weights) != datadimension\n",
    "            error(\"Provided weight vector has length $(length(weights)) \\\n",
    "                    not of the supplied dimension $datadimension\")\n",
    "        end\n",
    "        if modeltype == type_perceptron\n",
    "            return SingleNeuron(sign_zeropositive, perceptronstochasticgradient, \n",
    "                                perceptronloss, weights, bias)\n",
    "        elseif modeltype == type_linearregression\n",
    "            return SingleNeuron(linear, regressionstochasticgradient, \n",
    "                                linearregressionloss, weights, bias)\n",
    "        elseif modeltype == type_logisticregression\n",
    "            return SingleNeuron(sigmoid, regressionstochasticgradient, \n",
    "                                binarycrossentropyloss, weights, bias)\n",
    "        else\n",
    "            error(\"\\\"$modeltype\\\" not a recognized model.\")\n",
    "        end\n",
    "    end"
   ]
  },
  {
   "cell_type": "code",
   "execution_count": null,
   "id": "391990db",
   "metadata": {},
   "outputs": [],
   "source": [
    "perceptron = SingleNeuron(2; modeltype=\"perceptron\")"
   ]
  },
  {
   "cell_type": "code",
   "execution_count": null,
   "id": "6a7d2fd7",
   "metadata": {},
   "outputs": [],
   "source": [
    "struct Test{dimension}\n",
    "    a::Vector{Float64}\n",
    "end"
   ]
  },
  {
   "cell_type": "code",
   "execution_count": null,
   "id": "7b873385",
   "metadata": {},
   "outputs": [],
   "source": [
    "a = Array{Float64,3}(undef)"
   ]
  },
  {
   "cell_type": "code",
   "execution_count": null,
   "id": "bb309cd8",
   "metadata": {},
   "outputs": [],
   "source": [
    "isconcretetype(Vector{Float64})"
   ]
  },
  {
   "cell_type": "code",
   "execution_count": null,
   "id": "87aa362a",
   "metadata": {},
   "outputs": [],
   "source": [
    "x::Vector{Float64} = [1,2,3]"
   ]
  },
  {
   "cell_type": "code",
   "execution_count": null,
   "id": "48bc9463",
   "metadata": {},
   "outputs": [],
   "source": [
    "typeof(x)"
   ]
  },
  {
   "cell_type": "code",
   "execution_count": null,
   "id": "9d738ff8",
   "metadata": {},
   "outputs": [],
   "source": [
    "x[3] = pi"
   ]
  },
  {
   "cell_type": "code",
   "execution_count": null,
   "id": "a16344b2",
   "metadata": {},
   "outputs": [],
   "source": [
    "typeof(x)"
   ]
  },
  {
   "cell_type": "code",
   "execution_count": null,
   "id": "04250e13",
   "metadata": {},
   "outputs": [],
   "source": [
    "@show test = Test{3}([1,2,3])\n",
    "@show test.a[2] = pi\n",
    "@show test.af\n",
    "@show isconcretetype(test.a)\n",
    "b = Array{Float64, 3}(nothing, 3)\n",
    "@show isconcretetype(b)\n",
    "b[1] = 1"
   ]
  },
  {
   "cell_type": "code",
   "execution_count": null,
   "id": "0f8c258e",
   "metadata": {},
   "outputs": [],
   "source": [
    "typeof(regressionstochasticgradient)"
   ]
  },
  {
   "cell_type": "code",
   "execution_count": null,
   "id": "7e6629f7",
   "metadata": {},
   "outputs": [],
   "source": [
    "length([1,2,3])"
   ]
  },
  {
   "cell_type": "code",
   "execution_count": null,
   "id": "9fe48ade",
   "metadata": {},
   "outputs": [],
   "source": [
    "zeros(Float64, 5)"
   ]
  },
  {
   "cell_type": "code",
   "execution_count": null,
   "id": "6c026fcf",
   "metadata": {},
   "outputs": [],
   "source": [
    "preactivation(pred, [targ, 0], 0)"
   ]
  },
  {
   "cell_type": "code",
   "execution_count": null,
   "id": "0968bdae",
   "metadata": {},
   "outputs": [],
   "source": [
    "func = regressionstochasticgradient"
   ]
  },
  {
   "cell_type": "code",
   "execution_count": null,
   "id": "d328b841",
   "metadata": {},
   "outputs": [],
   "source": [
    "@show pred = [-5, 1.2]\n",
    "@show targ = [-4.9, pi]"
   ]
  },
  {
   "cell_type": "code",
   "execution_count": null,
   "id": "30913f5e",
   "metadata": {},
   "outputs": [],
   "source": [
    "func(pred, targ)"
   ]
  },
  {
   "cell_type": "code",
   "execution_count": null,
   "id": "b6d1ab1b",
   "metadata": {},
   "outputs": [],
   "source": [
    "testvals = (-5, 1.2, pi)"
   ]
  },
  {
   "cell_type": "code",
   "execution_count": null,
   "id": "112bad29",
   "metadata": {},
   "outputs": [],
   "source": [
    "size([1...])[end]"
   ]
  },
  {
   "cell_type": "code",
   "execution_count": null,
   "id": "71e70bb8",
   "metadata": {},
   "outputs": [],
   "source": [
    "1 .- (1,2,3)"
   ]
  },
  {
   "cell_type": "code",
   "execution_count": null,
   "id": "4b9bed2f",
   "metadata": {},
   "outputs": [],
   "source": [
    "using Random"
   ]
  },
  {
   "cell_type": "code",
   "execution_count": null,
   "id": "d5846a53",
   "metadata": {},
   "outputs": [],
   "source": [
    "func = sigmoid"
   ]
  },
  {
   "cell_type": "code",
   "execution_count": null,
   "id": "e44ea8d6",
   "metadata": {},
   "outputs": [],
   "source": [
    "[(func(val), val) for val in (-5, -0.1, pi)]"
   ]
  },
  {
   "cell_type": "code",
   "execution_count": null,
   "id": "3c57dcb2",
   "metadata": {},
   "outputs": [],
   "source": [
    "map(val -> [sign_zeropositive(val), val], randn(5))\n",
    "[(sign_zeropositive(val), val) for val in randn(5)]"
   ]
  },
  {
   "cell_type": "code",
   "execution_count": null,
   "id": "68772dc0",
   "metadata": {},
   "outputs": [],
   "source": [
    "sign_zeropositive(0)"
   ]
  },
  {
   "cell_type": "code",
   "execution_count": null,
   "id": "e1eb5aaa",
   "metadata": {},
   "outputs": [],
   "source": [
    "x = 3"
   ]
  },
  {
   "cell_type": "code",
   "execution_count": null,
   "id": "01839b19",
   "metadata": {},
   "outputs": [],
   "source": [
    "@show x"
   ]
  }
 ],
 "metadata": {
  "kernelspec": {
   "display_name": "Julia 1.11.5",
   "language": "julia",
   "name": "julia-1.11"
  },
  "language_info": {
   "file_extension": ".jl",
   "mimetype": "application/julia",
   "name": "julia",
   "version": "1.11.5"
  }
 },
 "nbformat": 4,
 "nbformat_minor": 5
}
