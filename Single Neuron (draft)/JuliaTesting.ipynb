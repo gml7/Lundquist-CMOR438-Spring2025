{
 "cells": [
  {
   "cell_type": "code",
   "execution_count": null,
   "id": "c6c89c13",
   "metadata": {},
   "outputs": [],
   "source": [
    "using LinearAlgebra"
   ]
  },
  {
   "cell_type": "code",
   "execution_count": 3,
   "id": "ed51b4ed",
   "metadata": {},
   "outputs": [
    {
     "data": {
      "text/plain": [
       "sigmoid"
      ]
     },
     "metadata": {},
     "output_type": "display_data"
    }
   ],
   "source": [
    "\"Returns -1 if the argument is less than 0, 1 otherwise.\"\n",
    "sign_zeropositive(value) = value < 0 ? -1 : 1\n",
    "\n",
    "\"Returns the argument.\"\n",
    "linear(value) = value\n",
    "\n",
    "\"\"\"\n",
    "Returns the value of the sigmoid function at input_value.\n",
    "    https://en.wikipedia.org/wiki/Sigmoid_function \n",
    "\"\"\"\n",
    "sigmoid(value) = 1 / (1 + exp(-value))\n"
   ]
  },
  {
   "cell_type": "code",
   "execution_count": 4,
   "id": "7b0c29b2",
   "metadata": {},
   "outputs": [
    {
     "data": {
      "text/plain": [
       "2×2 Matrix{Int64}:\n",
       " 1  2\n",
       " 3  4"
      ]
     },
     "metadata": {},
     "output_type": "display_data"
    }
   ],
   "source": [
    "mat = [1 2; 3 4]"
   ]
  },
  {
   "cell_type": "code",
   "execution_count": 5,
   "id": "19f2d6c0",
   "metadata": {},
   "outputs": [
    {
     "data": {
      "text/plain": [
       "6"
      ]
     },
     "metadata": {},
     "output_type": "display_data"
    }
   ],
   "source": [
    "2size([1,2,3])[end]"
   ]
  },
  {
   "cell_type": "code",
   "execution_count": 6,
   "id": "7f8b833a",
   "metadata": {},
   "outputs": [
    {
     "data": {
      "text/plain": [
       "meansquarederror (generic function with 1 method)"
      ]
     },
     "metadata": {},
     "output_type": "display_data"
    }
   ],
   "source": [
    "function perceptronloss(predictions, targets)\n",
    "    return 0.25 * sum((predictions .- targets).^2)\n",
    "end\n",
    "\n",
    "function linearregressionloss(predictions::AbstractArray, targets::AbstractArray)\n",
    "    return ( (1 / 2(size(targets)[end])) * sum((predictions .- targets).^2) )\n",
    "end\n",
    "\n",
    "function linearregressionloss(prediction::Number, target::Number)\n",
    "    return ( 0.5 * (prediction - target)^2)\n",
    "end\n",
    "\n",
    "function binarycrossentropyloss(predictions::AbstractArray, targets::AbstractArray)\n",
    "    return ( (1 / size(targets)[end]) \n",
    "            * sum(-targets .* log.(predictions)\n",
    "                  - ((1 .- targets).*log.(1 .- predictions))) )\n",
    "end\n",
    "\n",
    "function binarycrossentropyloss(prediction::Number, target::Number)\n",
    "    return ( -target * log(prediction)\n",
    "                  - ((1 - target)*log(1 - prediction)) )\n",
    "end\n",
    "\n",
    "function meansquarederror(predictions, targets)\n",
    "    return 0.5 .* (predictions .- targets).^2\n",
    "end"
   ]
  },
  {
   "cell_type": "code",
   "execution_count": 7,
   "id": "ca192194",
   "metadata": {},
   "outputs": [
    {
     "data": {
      "text/plain": [
       "regressionstochasticgradient (generic function with 1 method)"
      ]
     },
     "metadata": {},
     "output_type": "display_data"
    }
   ],
   "source": [
    "function perceptronstochasticgradient(prediction, target)\n",
    "    return 0.5 * (prediction .- target)\n",
    "end\n",
    "\n",
    "function regressionstochasticgradient(prediction, target)\n",
    "    return prediction .- target\n",
    "end"
   ]
  },
  {
   "cell_type": "code",
   "execution_count": null,
   "id": "9fc88e18",
   "metadata": {},
   "outputs": [
    {
     "data": {
      "text/plain": [
       "preactivation (generic function with 1 method)"
      ]
     },
     "metadata": {},
     "output_type": "display_data"
    }
   ],
   "source": [
    "function preactivation(input, weights, bias)\n",
    "    return dot(input, weights) + bias\n",
    "end"
   ]
  },
  {
   "cell_type": "code",
   "execution_count": 9,
   "id": "9a34f856",
   "metadata": {},
   "outputs": [
    {
     "data": {
      "text/plain": [
       "\"logistic regression\""
      ]
     },
     "metadata": {},
     "output_type": "display_data"
    }
   ],
   "source": [
    "const type_perceptron = \"perceptron\"\n",
    "const type_linearregression = \"linear regression\"\n",
    "const type_logisticregression = \"logistic regression\""
   ]
  },
  {
   "cell_type": "code",
   "execution_count": 1,
   "id": "6a7d2fd7",
   "metadata": {},
   "outputs": [],
   "source": [
    "struct Test{dimension}\n",
    "    a::Vector{Float64}\n",
    "end"
   ]
  },
  {
   "cell_type": "code",
   "execution_count": null,
   "id": "7b873385",
   "metadata": {},
   "outputs": [
    {
     "ename": "LoadError",
     "evalue": "MethodError: no method matching Array{Float64, 3}(::UndefInitializer, ::Int64, ::Int64)\nThe type `Array{Float64, 3}` exists, but no method is defined for this combination of argument types when trying to construct it.\n\n\u001b[0mClosest candidates are:\n\u001b[0m  Array{T, 3}(::UndefInitializer, ::Int64, ::Int64, \u001b[91m::Int64\u001b[39m) where T\n\u001b[0m\u001b[90m   @\u001b[39m \u001b[90mCore\u001b[39m \u001b[90m\u001b[4mboot.jl:584\u001b[24m\u001b[39m\n\u001b[0m  Array{T, N}(::UndefInitializer, ::Int64...) where {T, N}\n\u001b[0m\u001b[90m   @\u001b[39m \u001b[90mCore\u001b[39m \u001b[90m\u001b[4mboot.jl:587\u001b[24m\u001b[39m\n\u001b[0m  Array{T, N}(::UndefInitializer, ::Integer...) where {T, N}\n\u001b[0m\u001b[90m   @\u001b[39m \u001b[90mBase\u001b[39m \u001b[90m\u001b[4mbaseext.jl:25\u001b[24m\u001b[39m\n\u001b[0m  ...\n",
     "output_type": "error",
     "traceback": [
      "MethodError: no method matching Array{Float64, 3}(::UndefInitializer, ::Int64, ::Int64)\nThe type `Array{Float64, 3}` exists, but no method is defined for this combination of argument types when trying to construct it.\n\n\u001b[0mClosest candidates are:\n\u001b[0m  Array{T, 3}(::UndefInitializer, ::Int64, ::Int64, \u001b[91m::Int64\u001b[39m) where T\n\u001b[0m\u001b[90m   @\u001b[39m \u001b[90mCore\u001b[39m \u001b[90m\u001b[4mboot.jl:584\u001b[24m\u001b[39m\n\u001b[0m  Array{T, N}(::UndefInitializer, ::Int64...) where {T, N}\n\u001b[0m\u001b[90m   @\u001b[39m \u001b[90mCore\u001b[39m \u001b[90m\u001b[4mboot.jl:587\u001b[24m\u001b[39m\n\u001b[0m  Array{T, N}(::UndefInitializer, ::Integer...) where {T, N}\n\u001b[0m\u001b[90m   @\u001b[39m \u001b[90mBase\u001b[39m \u001b[90m\u001b[4mbaseext.jl:25\u001b[24m\u001b[39m\n\u001b[0m  ...\n",
      "",
      "Stacktrace:",
      " [1] top-level scope",
      "   @ In[30]:1"
     ]
    }
   ],
   "source": [
    "a = Array{Float64,3}(undef)"
   ]
  },
  {
   "cell_type": "code",
   "execution_count": 32,
   "id": "bb309cd8",
   "metadata": {},
   "outputs": [
    {
     "data": {
      "text/plain": [
       "true"
      ]
     },
     "execution_count": 32,
     "metadata": {},
     "output_type": "execute_result"
    }
   ],
   "source": [
    "isconcretetype(Vector{Float64})"
   ]
  },
  {
   "cell_type": "code",
   "execution_count": 37,
   "id": "87aa362a",
   "metadata": {},
   "outputs": [
    {
     "data": {
      "text/plain": [
       "3-element Vector{Int64}:\n",
       " 1\n",
       " 2\n",
       " 3"
      ]
     },
     "execution_count": 37,
     "metadata": {},
     "output_type": "execute_result"
    }
   ],
   "source": [
    "x::Vector{Float64} = [1,2,3]"
   ]
  },
  {
   "cell_type": "code",
   "execution_count": 38,
   "id": "48bc9463",
   "metadata": {},
   "outputs": [
    {
     "data": {
      "text/plain": [
       "Vector{Float64}\u001b[90m (alias for \u001b[39m\u001b[90mArray{Float64, 1}\u001b[39m\u001b[90m)\u001b[39m"
      ]
     },
     "execution_count": 38,
     "metadata": {},
     "output_type": "execute_result"
    }
   ],
   "source": [
    "typeof(x)"
   ]
  },
  {
   "cell_type": "code",
   "execution_count": 34,
   "id": "9d738ff8",
   "metadata": {},
   "outputs": [
    {
     "data": {
      "text/plain": [
       "π = 3.1415926535897..."
      ]
     },
     "execution_count": 34,
     "metadata": {},
     "output_type": "execute_result"
    }
   ],
   "source": [
    "x[3] = pi"
   ]
  },
  {
   "cell_type": "code",
   "execution_count": 35,
   "id": "a16344b2",
   "metadata": {},
   "outputs": [
    {
     "data": {
      "text/plain": [
       "Vector{Float64}\u001b[90m (alias for \u001b[39m\u001b[90mArray{Float64, 1}\u001b[39m\u001b[90m)\u001b[39m"
      ]
     },
     "execution_count": 35,
     "metadata": {},
     "output_type": "execute_result"
    }
   ],
   "source": [
    "typeof(x)"
   ]
  },
  {
   "cell_type": "code",
   "execution_count": null,
   "id": "04250e13",
   "metadata": {},
   "outputs": [
    {
     "name": "stdout",
     "output_type": "stream",
     "text": [
      "test = Test{3}([1, 2, 3]) = Test{3}([1.0, 2.0, 3.0])\n",
      "test.a[2] = pi = π\n",
      "test.a = [1.0, 3.141592653589793, 3.0]\n",
      "isconcretetype(test.a) = false\n"
     ]
    },
    {
     "ename": "LoadError",
     "evalue": "MethodError: no method matching Array{Float64, 3}(::UndefInitializer, ::Int64)\nThe type `Array{Float64, 3}` exists, but no method is defined for this combination of argument types when trying to construct it.\n\n\u001b[0mClosest candidates are:\n\u001b[0m  Array{T, 3}(::UndefInitializer, ::Int64, \u001b[91m::Int64\u001b[39m, \u001b[91m::Int64\u001b[39m) where T\n\u001b[0m\u001b[90m   @\u001b[39m \u001b[90mCore\u001b[39m \u001b[90m\u001b[4mboot.jl:584\u001b[24m\u001b[39m\n\u001b[0m  Array{T, N}(::UndefInitializer, ::Int64...) where {T, N}\n\u001b[0m\u001b[90m   @\u001b[39m \u001b[90mCore\u001b[39m \u001b[90m\u001b[4mboot.jl:587\u001b[24m\u001b[39m\n\u001b[0m  Array{T, N}(::UndefInitializer, ::Integer...) where {T, N}\n\u001b[0m\u001b[90m   @\u001b[39m \u001b[90mBase\u001b[39m \u001b[90m\u001b[4mbaseext.jl:25\u001b[24m\u001b[39m\n\u001b[0m  ...\n",
     "output_type": "error",
     "traceback": [
      "MethodError: no method matching Array{Float64, 3}(::UndefInitializer, ::Int64)\nThe type `Array{Float64, 3}` exists, but no method is defined for this combination of argument types when trying to construct it.\n\n\u001b[0mClosest candidates are:\n\u001b[0m  Array{T, 3}(::UndefInitializer, ::Int64, \u001b[91m::Int64\u001b[39m, \u001b[91m::Int64\u001b[39m) where T\n\u001b[0m\u001b[90m   @\u001b[39m \u001b[90mCore\u001b[39m \u001b[90m\u001b[4mboot.jl:584\u001b[24m\u001b[39m\n\u001b[0m  Array{T, N}(::UndefInitializer, ::Int64...) where {T, N}\n\u001b[0m\u001b[90m   @\u001b[39m \u001b[90mCore\u001b[39m \u001b[90m\u001b[4mboot.jl:587\u001b[24m\u001b[39m\n\u001b[0m  Array{T, N}(::UndefInitializer, ::Integer...) where {T, N}\n\u001b[0m\u001b[90m   @\u001b[39m \u001b[90mBase\u001b[39m \u001b[90m\u001b[4mbaseext.jl:25\u001b[24m\u001b[39m\n\u001b[0m  ...\n",
      "",
      "Stacktrace:",
      " [1] Array{Float64, 3}(::Nothing, d::Int64)",
      "   @ Base .\\baseext.jl:42",
      " [2] top-level scope",
      "   @ In[12]:5"
     ]
    }
   ],
   "source": [
    "@show test = Test{3}([1,2,3])\n",
    "@show test.a[2] = pi\n",
    "@show test.af\n",
    "@show isconcretetype(test.a)\n",
    "b = Array{Float64, 3}(nothing, 3)\n",
    "@show isconcretetype(b)\n",
    "b[1] = 1"
   ]
  },
  {
   "cell_type": "code",
   "execution_count": null,
   "id": "164c6766",
   "metadata": {},
   "outputs": [],
   "source": [
    "mutable struct SingleNeuron{Callable}\n",
    "    const activationfunction::Callable\n",
    "    const gradient::Callable\n",
    "    const loss::Callable\n",
    "    weights::Vector{Float64}\n",
    "    bias::Float64\n",
    "    previousweights::Vector{Float64}\n",
    "    previousbias::Float64\n",
    "    losshistory::Array{Float64,1}\n",
    "    prevlosshistory::Array{Float64,1}\n",
    "end "
   ]
  },
  {
   "cell_type": "code",
   "execution_count": null,
   "id": "60a2ad02",
   "metadata": {},
   "outputs": [
    {
     "data": {
      "text/plain": [
       "SingleNeuron"
      ]
     },
     "metadata": {},
     "output_type": "display_data"
    }
   ],
   "source": [
    "SingleNeuron(data_dimension::Int, \n",
    "             activationfunction::Function, \n",
    "             gradientfunction::Function, \n",
    "             lossfunction::Function, \n",
    "             weights::AbstractArray, \n",
    "             bias::Number) = begin\n",
    "    if size(weights)[end] != data_dimension\n",
    "        \n",
    "    SingleNeuron(data_dimension, activationfunction, gradientfunction, \n",
    "                 lossfunction, weights, bias, weights, bias, [], [])\n",
    "             end\n",
    "SingleNeuron(data_dimension::Int; modeltype::String, weights::AbstractArray=)"
   ]
  },
  {
   "cell_type": "code",
   "execution_count": 138,
   "id": "6c026fcf",
   "metadata": {},
   "outputs": [
    {
     "ename": "DimensionMismatch",
     "evalue": "DimensionMismatch: x and y are of different lengths!",
     "output_type": "error",
     "traceback": [
      "DimensionMismatch: x and y are of different lengths!\n",
      "\n",
      "Stacktrace:\n",
      " [1] dot(x::Float64, y::Vector{Float64})\n",
      "   @ LinearAlgebra C:\\Users\\gabri\\.julia\\juliaup\\julia-1.11.5+0.x64.w64.mingw32\\share\\julia\\stdlib\\v1.11\\LinearAlgebra\\src\\generic.jl:879\n",
      " [2] dot(x::Vector{Float64}, y::Vector{Any})\n",
      "   @ LinearAlgebra C:\\Users\\gabri\\.julia\\juliaup\\julia-1.11.5+0.x64.w64.mingw32\\share\\julia\\stdlib\\v1.11\\LinearAlgebra\\src\\generic.jl:894\n",
      " [3] preactivation(input::Vector{Float64}, weights::Vector{Any}, bias::Int64)\n",
      "   @ Main c:\\Users\\gabri\\Documents\\Lundquist-CMOR438-Spring2025\\Single Neuron (draft)\\jl_notebook_cell_df34fa98e69747e1a8f8a730347b8e2f_X30sZmlsZQ==.jl:2\n",
      " [4] top-level scope\n",
      "   @ c:\\Users\\gabri\\Documents\\Lundquist-CMOR438-Spring2025\\Single Neuron (draft)\\jl_notebook_cell_df34fa98e69747e1a8f8a730347b8e2f_X26sZmlsZQ==.jl:1"
     ]
    }
   ],
   "source": [
    "preactivation(pred, [targ, 0], 0)"
   ]
  },
  {
   "cell_type": "code",
   "execution_count": 131,
   "id": "0968bdae",
   "metadata": {},
   "outputs": [
    {
     "data": {
      "text/plain": [
       "regressionstochasticgradient (generic function with 1 method)"
      ]
     },
     "metadata": {},
     "output_type": "display_data"
    }
   ],
   "source": [
    "func = regressionstochasticgradient"
   ]
  },
  {
   "cell_type": "code",
   "execution_count": 136,
   "id": "d328b841",
   "metadata": {},
   "outputs": [
    {
     "name": "stdout",
     "output_type": "stream",
     "text": [
      "pred = [-5, 1.2] = [-5.0, 1.2]\n",
      "targ = [-4.9, pi] = [-4.9, 3.141592653589793]\n"
     ]
    },
    {
     "data": {
      "text/plain": [
       "2-element Vector{Float64}:\n",
       " -4.9\n",
       "  3.141592653589793"
      ]
     },
     "metadata": {},
     "output_type": "display_data"
    }
   ],
   "source": [
    "@show pred = [-5, 1.2]\n",
    "@show targ = [-4.9, pi]"
   ]
  },
  {
   "cell_type": "code",
   "execution_count": 133,
   "id": "30913f5e",
   "metadata": {},
   "outputs": [
    {
     "data": {
      "text/plain": [
       "2-element Vector{Float64}:\n",
       " -0.09999999999999964\n",
       " -1.9415926535897932"
      ]
     },
     "metadata": {},
     "output_type": "display_data"
    }
   ],
   "source": [
    "func(pred, targ)"
   ]
  },
  {
   "cell_type": "code",
   "execution_count": 85,
   "id": "b6d1ab1b",
   "metadata": {},
   "outputs": [
    {
     "data": {
      "text/plain": [
       "(-5, 1.2, π)"
      ]
     },
     "metadata": {},
     "output_type": "display_data"
    }
   ],
   "source": [
    "testvals = (-5, 1.2, pi)"
   ]
  },
  {
   "cell_type": "code",
   "execution_count": 80,
   "id": "112bad29",
   "metadata": {},
   "outputs": [
    {
     "data": {
      "text/plain": [
       "1"
      ]
     },
     "metadata": {},
     "output_type": "display_data"
    }
   ],
   "source": [
    "size([1...])[end]"
   ]
  },
  {
   "cell_type": "code",
   "execution_count": 63,
   "id": "71e70bb8",
   "metadata": {},
   "outputs": [
    {
     "data": {
      "text/plain": [
       "(0, -1, -2)"
      ]
     },
     "metadata": {},
     "output_type": "display_data"
    }
   ],
   "source": [
    "1 .- (1,2,3)"
   ]
  },
  {
   "cell_type": "code",
   "execution_count": null,
   "id": "4b9bed2f",
   "metadata": {},
   "outputs": [],
   "source": [
    "using Random"
   ]
  },
  {
   "cell_type": "code",
   "execution_count": 30,
   "id": "d5846a53",
   "metadata": {},
   "outputs": [
    {
     "data": {
      "text/plain": [
       "sigmoid (generic function with 1 method)"
      ]
     },
     "metadata": {},
     "output_type": "display_data"
    }
   ],
   "source": [
    "func = sigmoid"
   ]
  },
  {
   "cell_type": "code",
   "execution_count": 33,
   "id": "e44ea8d6",
   "metadata": {},
   "outputs": [
    {
     "data": {
      "text/plain": [
       "3-element Vector{Tuple{Float64, Real}}:\n",
       " (0.0066928509242848554, -5)\n",
       " (0.47502081252106, -0.1)\n",
       " (0.9585761678336371, π)"
      ]
     },
     "metadata": {},
     "output_type": "display_data"
    }
   ],
   "source": [
    "[(func(val), val) for val in (-5, -0.1, pi)]"
   ]
  },
  {
   "cell_type": "code",
   "execution_count": 23,
   "id": "3c57dcb2",
   "metadata": {},
   "outputs": [
    {
     "data": {
      "text/plain": [
       "5-element Vector{Tuple{Int64, Float64}}:\n",
       " (-1, -0.18053316742021588)\n",
       " (1, 0.3017642935270676)\n",
       " (-1, -0.25816280383615264)\n",
       " (1, 0.6489696413714939)\n",
       " (-1, -1.0999386269697282)"
      ]
     },
     "metadata": {},
     "output_type": "display_data"
    }
   ],
   "source": [
    "map(val -> [sign_zeropositive(val), val], randn(5))\n",
    "[(sign_zeropositive(val), val) for val in randn(5)]"
   ]
  },
  {
   "cell_type": "code",
   "execution_count": 9,
   "id": "68772dc0",
   "metadata": {},
   "outputs": [
    {
     "data": {
      "text/plain": [
       "1"
      ]
     },
     "metadata": {},
     "output_type": "display_data"
    }
   ],
   "source": [
    "sign_zeropositive(0)"
   ]
  },
  {
   "cell_type": "code",
   "execution_count": 1,
   "id": "e1eb5aaa",
   "metadata": {},
   "outputs": [
    {
     "data": {
      "text/plain": [
       "3"
      ]
     },
     "metadata": {},
     "output_type": "display_data"
    }
   ],
   "source": [
    "x = 3"
   ]
  },
  {
   "cell_type": "code",
   "execution_count": 2,
   "id": "01839b19",
   "metadata": {},
   "outputs": [
    {
     "name": "stdout",
     "output_type": "stream",
     "text": [
      "x = 3\n"
     ]
    },
    {
     "data": {
      "text/plain": [
       "3"
      ]
     },
     "metadata": {},
     "output_type": "display_data"
    }
   ],
   "source": [
    "@show x"
   ]
  }
 ],
 "metadata": {
  "kernelspec": {
   "display_name": "Julia 1.11.5",
   "language": "julia",
   "name": "julia-1.11"
  },
  "language_info": {
   "file_extension": ".jl",
   "mimetype": "application/julia",
   "name": "julia",
   "version": "1.11.5"
  }
 },
 "nbformat": 4,
 "nbformat_minor": 5
}
