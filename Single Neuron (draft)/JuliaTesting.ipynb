{
 "cells": [
  {
   "cell_type": "code",
   "execution_count": 1,
   "id": "4f3c1e4b",
   "metadata": {},
   "outputs": [
    {
     "name": "stderr",
     "output_type": "stream",
     "text": [
      "\u001b[32m\u001b[1m  Activating\u001b[22m\u001b[39m project at `d:\\Users\\gabri\\Documents\\Data Science & Machine Learning Spring 2025\\Lundquist-CMOR438-Spring2025\\Single Neuron (draft)\\juMLia`\n"
     ]
    }
   ],
   "source": [
    "] activate juMLia"
   ]
  },
  {
   "cell_type": "code",
   "execution_count": 6,
   "id": "ab2f6c4b",
   "metadata": {},
   "outputs": [
    {
     "name": "stderr",
     "output_type": "stream",
     "text": [
      "\u001b[32m\u001b[1m   Resolving\u001b[22m\u001b[39m package versions...\n",
      "\u001b[32m\u001b[1m    Updating\u001b[22m\u001b[39m `D:\\Users\\gabri\\Documents\\Data Science & Machine Learning Spring 2025\\Lundquist-CMOR438-Spring2025\\Single Neuron (draft)\\juMLia\\Project.toml`\n",
      "  \u001b[90m[a93c6f00] \u001b[39m\u001b[92m+ DataFrames v1.7.0\u001b[39m\n",
      "\u001b[32m\u001b[1m  No Changes\u001b[22m\u001b[39m to `D:\\Users\\gabri\\Documents\\Data Science & Machine Learning Spring 2025\\Lundquist-CMOR438-Spring2025\\Single Neuron (draft)\\juMLia\\Manifest.toml`\n"
     ]
    }
   ],
   "source": [
    "] add DataFrames"
   ]
  },
  {
   "cell_type": "code",
   "execution_count": null,
   "id": "eeb3d9db",
   "metadata": {},
   "outputs": [
    {
     "ename": "LoadError",
     "evalue": "SystemError: opening file \"d:\\\\Users\\\\gabri\\\\Documents\\\\Data Science & Machine Learning Spring 2025\\\\Lundquist-CMOR438-Spring2025\\\\Single Neuron (draft)\\\\Single Neuron (draft)\\\\SingleNeuronJulia.jl\": No such file or directory",
     "output_type": "error",
     "traceback": [
      "SystemError: opening file \"d:\\\\Users\\\\gabri\\\\Documents\\\\Data Science & Machine Learning Spring 2025\\\\Lundquist-CMOR438-Spring2025\\\\Single Neuron (draft)\\\\Single Neuron (draft)\\\\SingleNeuronJulia.jl\": No such file or directory",
      "",
      "Stacktrace:",
      " [1] include(fname::String)",
      "   @ Main .\\sysimg.jl:38",
      " [2] top-level scope",
      "   @ In[7]:7"
     ]
    }
   ],
   "source": [
    "import MLDatasets: Iris\n",
    "using Plots, DataFrames\n",
    "irisdata = Iris()\n",
    "\n",
    "setosadata = subset(irisdata.dataframe, :class => species -> isequal.(species, \"Iris-setosa\"))\n",
    "versicolordata = subset(irisdata.dataframe, :class => species -> isequal.(species, \"Iris-versicolor\"))\n"
   ]
  },
  {
   "cell_type": "code",
   "execution_count": 8,
   "id": "c5f21aaf",
   "metadata": {},
   "outputs": [],
   "source": [
    "include(\"SingleNeuronJulia.jl\")"
   ]
  },
  {
   "cell_type": "code",
   "execution_count": null,
   "id": "12e96bbf",
   "metadata": {},
   "outputs": [],
   "source": [
    "include(\"Single Neuron (draft)/SingleNeuronJulia.jl\")"
   ]
  },
  {
   "cell_type": "code",
   "execution_count": 9,
   "id": "d28b3a66",
   "metadata": {},
   "outputs": [
    {
     "data": {
      "image/png": "[encoded data removed]",
      "image/svg+xml": [
       "<?xml version=\"1.0\" encoding=\"utf-8\"?>\n",
       "<svg xmlns=\"http://www.w3.org/2000/svg\" xmlns:xlink=\"http://www.w3.org/1999/xlink\" width=\"600\" height=\"400\" viewBox=\"0 0 2400 1600\">\n",
       "<defs>\n",
       "  <clipPath id=\"clip060\">\n",
       "    <rect x=\"0\" y=\"0\" width=\"2400\" height=\"1600\"/>\n",
       "  </clipPath>\n",
       "</defs>\n",
       "<path clip-path=\"url(#clip060)\" d=\"M0 1600 L2400 1600 L2400 0 L0 0  Z\" fill=\"#ffffff\" fill-rule=\"evenodd\" fill-opacity=\"1\"/>\n",
       "<defs>\n",
       "  <clipPath id=\"clip061\">\n",
       "    <rect x=\"480\" y=\"0\" width=\"1681\" height=\"1600\"/>\n",
       "  </clipPath>\n",
       "</defs>\n",
       "<path clip-path=\"url(#clip060)\" d=\"M156.274 1486.45 L2352.76 1486.45 L2352.76 47.2441 L156.274 47.2441  Z\" fill=\"#ffffff\" fill-rule=\"evenodd\" fill-opacity=\"1\"/>\n",
       "<defs>\n",
       "  <clipPath id=\"clip062\">\n",
       "    <rect x=\"156\" y=\"47\" width=\"2197\" height=\"1440\"/>\n",
       "  </clipPath>\n",
       "</defs>\n",
       "<polyline clip-path=\"url(#clip062)\" style=\"stroke:#000000; stroke-linecap:round; stroke-linejoin:round; stroke-width:2; stroke-opacity:0.1; fill:none\" points=\"218.439,1486.45 218.439,47.2441 \"/>\n",
       "<polyline clip-path=\"url(#clip062)\" style=\"stroke:#000000; stroke-linecap:round; stroke-linejoin:round; stroke-width:2; stroke-opacity:0.1; fill:none\" points=\"736.477,1486.45 736.477,47.2441 \"/>\n",
       "<polyline clip-path=\"url(#clip062)\" style=\"stroke:#000000; stroke-linecap:round; stroke-linejoin:round; stroke-width:2; stroke-opacity:0.1; fill:none\" points=\"1254.52,1486.45 1254.52,47.2441 \"/>\n",
       "<polyline clip-path=\"url(#clip062)\" style=\"stroke:#000000; stroke-linecap:round; stroke-linejoin:round; stroke-width:2; stroke-opacity:0.1; fill:none\" points=\"1772.55,1486.45 1772.55,47.2441 \"/>\n",
       "<polyline clip-path=\"url(#clip062)\" style=\"stroke:#000000; stroke-linecap:round; stroke-linejoin:round; stroke-width:2; stroke-opacity:0.1; fill:none\" points=\"2290.59,1486.45 2290.59,47.2441 \"/>\n",
       "<polyline clip-path=\"url(#clip062)\" style=\"stroke:#000000; stroke-linecap:round; stroke-linejoin:round; stroke-width:2; stroke-opacity:0.1; fill:none\" points=\"156.274,1309.94 2352.76,1309.94 \"/>\n",
       "<polyline clip-path=\"url(#clip062)\" style=\"stroke:#000000; stroke-linecap:round; stroke-linejoin:round; stroke-width:2; stroke-opacity:0.1; fill:none\" points=\"156.274,1038.39 2352.76,1038.39 \"/>\n",
       "<polyline clip-path=\"url(#clip062)\" style=\"stroke:#000000; stroke-linecap:round; stroke-linejoin:round; stroke-width:2; stroke-opacity:0.1; fill:none\" points=\"156.274,766.846 2352.76,766.846 \"/>\n",
       "<polyline clip-path=\"url(#clip062)\" style=\"stroke:#000000; stroke-linecap:round; stroke-linejoin:round; stroke-width:2; stroke-opacity:0.1; fill:none\" points=\"156.274,495.298 2352.76,495.298 \"/>\n",
       "<polyline clip-path=\"url(#clip062)\" style=\"stroke:#000000; stroke-linecap:round; stroke-linejoin:round; stroke-width:2; stroke-opacity:0.1; fill:none\" points=\"156.274,223.75 2352.76,223.75 \"/>\n",
       "<polyline clip-path=\"url(#clip060)\" style=\"stroke:#000000; stroke-linecap:round; stroke-linejoin:round; stroke-width:4; stroke-opacity:1; fill:none\" points=\"156.274,1486.45 2352.76,1486.45 \"/>\n",
       "<polyline clip-path=\"url(#clip060)\" style=\"stroke:#000000; stroke-linecap:round; stroke-linejoin:round; stroke-width:4; stroke-opacity:1; fill:none\" points=\"218.439,1486.45 218.439,1467.55 \"/>\n",
       "<polyline clip-path=\"url(#clip060)\" style=\"stroke:#000000; stroke-linecap:round; stroke-linejoin:round; stroke-width:4; stroke-opacity:1; fill:none\" points=\"736.477,1486.45 736.477,1467.55 \"/>\n",
       "<polyline clip-path=\"url(#clip060)\" style=\"stroke:#000000; stroke-linecap:round; stroke-linejoin:round; stroke-width:4; stroke-opacity:1; fill:none\" points=\"1254.52,1486.45 1254.52,1467.55 \"/>\n",
       "<polyline clip-path=\"url(#clip060)\" style=\"stroke:#000000; stroke-linecap:round; stroke-linejoin:round; stroke-width:4; stroke-opacity:1; fill:none\" points=\"1772.55,1486.45 1772.55,1467.55 \"/>\n",
       "<polyline clip-path=\"url(#clip060)\" style=\"stroke:#000000; stroke-linecap:round; stroke-linejoin:round; stroke-width:4; stroke-opacity:1; fill:none\" points=\"2290.59,1486.45 2290.59,1467.55 \"/>\n",
       "<path clip-path=\"url(#clip060)\" d=\"M222.686 1530.21 Q226.043 1530.93 227.918 1533.2 Q229.816 1535.47 229.816 1538.8 Q229.816 1543.92 226.297 1546.72 Q222.779 1549.52 216.298 1549.52 Q214.122 1549.52 211.807 1549.08 Q209.515 1548.66 207.061 1547.81 L207.061 1543.29 Q209.006 1544.43 211.321 1545.01 Q213.636 1545.58 216.159 1545.58 Q220.557 1545.58 222.848 1543.85 Q225.163 1542.11 225.163 1538.8 Q225.163 1535.75 223.01 1534.03 Q220.881 1532.3 217.061 1532.3 L213.034 1532.3 L213.034 1528.45 L217.247 1528.45 Q220.696 1528.45 222.524 1527.09 Q224.353 1525.7 224.353 1523.11 Q224.353 1520.45 222.455 1519.03 Q220.58 1517.6 217.061 1517.6 Q215.14 1517.6 212.941 1518.01 Q210.742 1518.43 208.103 1519.31 L208.103 1515.14 Q210.765 1514.4 213.08 1514.03 Q215.418 1513.66 217.478 1513.66 Q222.802 1513.66 225.904 1516.09 Q229.006 1518.5 229.006 1522.62 Q229.006 1525.49 227.362 1527.48 Q225.719 1529.45 222.686 1530.21 Z\" fill=\"#000000\" fill-rule=\"nonzero\" fill-opacity=\"1\" /><path clip-path=\"url(#clip060)\" d=\"M739.486 1518.36 L727.681 1536.81 L739.486 1536.81 L739.486 1518.36 M738.259 1514.29 L744.139 1514.29 L744.139 1536.81 L749.069 1536.81 L749.069 1540.7 L744.139 1540.7 L744.139 1548.85 L739.486 1548.85 L739.486 1540.7 L723.884 1540.7 L723.884 1536.19 L738.259 1514.29 Z\" fill=\"#000000\" fill-rule=\"nonzero\" fill-opacity=\"1\" /><path clip-path=\"url(#clip060)\" d=\"M1244.79 1514.29 L1263.15 1514.29 L1263.15 1518.22 L1249.08 1518.22 L1249.08 1526.7 Q1250.09 1526.35 1251.11 1526.19 Q1252.13 1526 1253.15 1526 Q1258.94 1526 1262.32 1529.17 Q1265.7 1532.34 1265.7 1537.76 Q1265.7 1543.34 1262.22 1546.44 Q1258.75 1549.52 1252.43 1549.52 Q1250.26 1549.52 1247.99 1549.15 Q1245.74 1548.78 1243.33 1548.04 L1243.33 1543.34 Q1245.42 1544.47 1247.64 1545.03 Q1249.86 1545.58 1252.34 1545.58 Q1256.34 1545.58 1258.68 1543.48 Q1261.02 1541.37 1261.02 1537.76 Q1261.02 1534.15 1258.68 1532.04 Q1256.34 1529.94 1252.34 1529.94 Q1250.46 1529.94 1248.59 1530.35 Q1246.74 1530.77 1244.79 1531.65 L1244.79 1514.29 Z\" fill=\"#000000\" fill-rule=\"nonzero\" fill-opacity=\"1\" /><path clip-path=\"url(#clip060)\" d=\"M1772.96 1529.7 Q1769.81 1529.7 1767.96 1531.86 Q1766.13 1534.01 1766.13 1537.76 Q1766.13 1541.49 1767.96 1543.66 Q1769.81 1545.82 1772.96 1545.82 Q1776.11 1545.82 1777.94 1543.66 Q1779.79 1541.49 1779.79 1537.76 Q1779.79 1534.01 1777.94 1531.86 Q1776.11 1529.7 1772.96 1529.7 M1782.24 1515.05 L1782.24 1519.31 Q1780.48 1518.48 1778.68 1518.04 Q1776.89 1517.6 1775.13 1517.6 Q1770.5 1517.6 1768.05 1520.72 Q1765.62 1523.85 1765.27 1530.17 Q1766.64 1528.15 1768.7 1527.09 Q1770.76 1526 1773.24 1526 Q1778.44 1526 1781.45 1529.17 Q1784.49 1532.32 1784.49 1537.76 Q1784.49 1543.08 1781.34 1546.3 Q1778.19 1549.52 1772.96 1549.52 Q1766.96 1549.52 1763.79 1544.94 Q1760.62 1540.33 1760.62 1531.6 Q1760.62 1523.41 1764.51 1518.55 Q1768.4 1513.66 1774.95 1513.66 Q1776.71 1513.66 1778.49 1514.01 Q1780.3 1514.36 1782.24 1515.05 Z\" fill=\"#000000\" fill-rule=\"nonzero\" fill-opacity=\"1\" /><path clip-path=\"url(#clip060)\" d=\"M2279.48 1514.29 L2301.7 1514.29 L2301.7 1516.28 L2289.16 1548.85 L2284.27 1548.85 L2296.08 1518.22 L2279.48 1518.22 L2279.48 1514.29 Z\" fill=\"#000000\" fill-rule=\"nonzero\" fill-opacity=\"1\" /><polyline clip-path=\"url(#clip060)\" style=\"stroke:#000000; stroke-linecap:round; stroke-linejoin:round; stroke-width:4; stroke-opacity:1; fill:none\" points=\"156.274,1486.45 156.274,47.2441 \"/>\n",
       "<polyline clip-path=\"url(#clip060)\" style=\"stroke:#000000; stroke-linecap:round; stroke-linejoin:round; stroke-width:4; stroke-opacity:1; fill:none\" points=\"156.274,1309.94 175.172,1309.94 \"/>\n",
       "<polyline clip-path=\"url(#clip060)\" style=\"stroke:#000000; stroke-linecap:round; stroke-linejoin:round; stroke-width:4; stroke-opacity:1; fill:none\" points=\"156.274,1038.39 175.172,1038.39 \"/>\n",
       "<polyline clip-path=\"url(#clip060)\" style=\"stroke:#000000; stroke-linecap:round; stroke-linejoin:round; stroke-width:4; stroke-opacity:1; fill:none\" points=\"156.274,766.846 175.172,766.846 \"/>\n",
       "<polyline clip-path=\"url(#clip060)\" style=\"stroke:#000000; stroke-linecap:round; stroke-linejoin:round; stroke-width:4; stroke-opacity:1; fill:none\" points=\"156.274,495.298 175.172,495.298 \"/>\n",
       "<polyline clip-path=\"url(#clip060)\" style=\"stroke:#000000; stroke-linecap:round; stroke-linejoin:round; stroke-width:4; stroke-opacity:1; fill:none\" points=\"156.274,223.75 175.172,223.75 \"/>\n",
       "<path clip-path=\"url(#clip060)\" d=\"M62.9365 1295.74 Q59.3254 1295.74 57.4967 1299.31 Q55.6912 1302.85 55.6912 1309.98 Q55.6912 1317.08 57.4967 1320.65 Q59.3254 1324.19 62.9365 1324.19 Q66.5707 1324.19 68.3763 1320.65 Q70.205 1317.08 70.205 1309.98 Q70.205 1302.85 68.3763 1299.31 Q66.5707 1295.74 62.9365 1295.74 M62.9365 1292.04 Q68.7467 1292.04 71.8022 1296.64 Q74.8809 1301.23 74.8809 1309.98 Q74.8809 1318.7 71.8022 1323.31 Q68.7467 1327.89 62.9365 1327.89 Q57.1264 1327.89 54.0477 1323.31 Q50.9921 1318.7 50.9921 1309.98 Q50.9921 1301.23 54.0477 1296.64 Q57.1264 1292.04 62.9365 1292.04 Z\" fill=\"#000000\" fill-rule=\"nonzero\" fill-opacity=\"1\" /><path clip-path=\"url(#clip060)\" d=\"M83.0984 1321.34 L87.9827 1321.34 L87.9827 1327.22 L83.0984 1327.22 L83.0984 1321.34 Z\" fill=\"#000000\" fill-rule=\"nonzero\" fill-opacity=\"1\" /><path clip-path=\"url(#clip060)\" d=\"M108.746 1308.08 Q105.598 1308.08 103.746 1310.23 Q101.918 1312.38 101.918 1316.13 Q101.918 1319.86 103.746 1322.04 Q105.598 1324.19 108.746 1324.19 Q111.895 1324.19 113.723 1322.04 Q115.575 1319.86 115.575 1316.13 Q115.575 1312.38 113.723 1310.23 Q111.895 1308.08 108.746 1308.08 M118.029 1293.43 L118.029 1297.68 Q116.27 1296.85 114.464 1296.41 Q112.682 1295.97 110.922 1295.97 Q106.293 1295.97 103.839 1299.1 Q101.409 1302.22 101.061 1308.54 Q102.427 1306.53 104.487 1305.46 Q106.547 1304.37 109.024 1304.37 Q114.233 1304.37 117.242 1307.55 Q120.274 1310.69 120.274 1316.13 Q120.274 1321.46 117.126 1324.68 Q113.978 1327.89 108.746 1327.89 Q102.751 1327.89 99.5798 1323.31 Q96.4085 1318.7 96.4085 1309.98 Q96.4085 1301.78 100.297 1296.92 Q104.186 1292.04 110.737 1292.04 Q112.496 1292.04 114.279 1292.38 Q116.084 1292.73 118.029 1293.43 Z\" fill=\"#000000\" fill-rule=\"nonzero\" fill-opacity=\"1\" /><path clip-path=\"url(#clip060)\" d=\"M63.1911 1024.19 Q59.58 1024.19 57.7513 1027.76 Q55.9458 1031.3 55.9458 1038.43 Q55.9458 1045.54 57.7513 1049.1 Q59.58 1052.64 63.1911 1052.64 Q66.8254 1052.64 68.6309 1049.1 Q70.4596 1045.54 70.4596 1038.43 Q70.4596 1031.3 68.6309 1027.76 Q66.8254 1024.19 63.1911 1024.19 M63.1911 1020.49 Q69.0013 1020.49 72.0568 1025.1 Q75.1355 1029.68 75.1355 1038.43 Q75.1355 1047.16 72.0568 1051.76 Q69.0013 1056.35 63.1911 1056.35 Q57.381 1056.35 54.3023 1051.76 Q51.2468 1047.16 51.2468 1038.43 Q51.2468 1029.68 54.3023 1025.1 Q57.381 1020.49 63.1911 1020.49 Z\" fill=\"#000000\" fill-rule=\"nonzero\" fill-opacity=\"1\" /><path clip-path=\"url(#clip060)\" d=\"M83.3531 1049.79 L88.2373 1049.79 L88.2373 1055.67 L83.3531 1055.67 L83.3531 1049.79 Z\" fill=\"#000000\" fill-rule=\"nonzero\" fill-opacity=\"1\" /><path clip-path=\"url(#clip060)\" d=\"M108.422 1039.26 Q105.089 1039.26 103.168 1041.04 Q101.27 1042.83 101.27 1045.95 Q101.27 1049.08 103.168 1050.86 Q105.089 1052.64 108.422 1052.64 Q111.756 1052.64 113.677 1050.86 Q115.598 1049.05 115.598 1045.95 Q115.598 1042.83 113.677 1041.04 Q111.779 1039.26 108.422 1039.26 M103.746 1037.27 Q100.737 1036.53 99.0474 1034.47 Q97.3808 1032.41 97.3808 1029.45 Q97.3808 1025.3 100.321 1022.9 Q103.284 1020.49 108.422 1020.49 Q113.584 1020.49 116.524 1022.9 Q119.464 1025.3 119.464 1029.45 Q119.464 1032.41 117.774 1034.47 Q116.108 1036.53 113.121 1037.27 Q116.501 1038.06 118.376 1040.35 Q120.274 1042.64 120.274 1045.95 Q120.274 1050.97 117.195 1053.66 Q114.14 1056.35 108.422 1056.35 Q102.705 1056.35 99.6261 1053.66 Q96.5706 1050.97 96.5706 1045.95 Q96.5706 1042.64 98.4687 1040.35 Q100.367 1038.06 103.746 1037.27 M102.034 1029.89 Q102.034 1032.57 103.7 1034.08 Q105.39 1035.58 108.422 1035.58 Q111.432 1035.58 113.121 1034.08 Q114.834 1032.57 114.834 1029.89 Q114.834 1027.2 113.121 1025.7 Q111.432 1024.19 108.422 1024.19 Q105.39 1024.19 103.7 1025.7 Q102.034 1027.2 102.034 1029.89 Z\" fill=\"#000000\" fill-rule=\"nonzero\" fill-opacity=\"1\" /><path clip-path=\"url(#clip060)\" d=\"M53.9088 780.191 L61.5476 780.191 L61.5476 753.825 L53.2375 755.492 L53.2375 751.233 L61.5013 749.566 L66.1772 749.566 L66.1772 780.191 L73.8161 780.191 L73.8161 784.126 L53.9088 784.126 L53.9088 780.191 Z\" fill=\"#000000\" fill-rule=\"nonzero\" fill-opacity=\"1\" /><path clip-path=\"url(#clip060)\" d=\"M83.2605 778.246 L88.1447 778.246 L88.1447 784.126 L83.2605 784.126 L83.2605 778.246 Z\" fill=\"#000000\" fill-rule=\"nonzero\" fill-opacity=\"1\" /><path clip-path=\"url(#clip060)\" d=\"M108.33 752.645 Q104.719 752.645 102.89 756.209 Q101.084 759.751 101.084 766.881 Q101.084 773.987 102.89 777.552 Q104.719 781.094 108.33 781.094 Q111.964 781.094 113.77 777.552 Q115.598 773.987 115.598 766.881 Q115.598 759.751 113.77 756.209 Q111.964 752.645 108.33 752.645 M108.33 748.941 Q114.14 748.941 117.195 753.547 Q120.274 758.131 120.274 766.881 Q120.274 775.608 117.195 780.214 Q114.14 784.797 108.33 784.797 Q102.52 784.797 99.4409 780.214 Q96.3854 775.608 96.3854 766.881 Q96.3854 758.131 99.4409 753.547 Q102.52 748.941 108.33 748.941 Z\" fill=\"#000000\" fill-rule=\"nonzero\" fill-opacity=\"1\" /><path clip-path=\"url(#clip060)\" d=\"M55.506 508.643 L63.1448 508.643 L63.1448 482.277 L54.8347 483.944 L54.8347 479.685 L63.0985 478.018 L67.7744 478.018 L67.7744 508.643 L75.4133 508.643 L75.4133 512.578 L55.506 512.578 L55.506 508.643 Z\" fill=\"#000000\" fill-rule=\"nonzero\" fill-opacity=\"1\" /><path clip-path=\"url(#clip060)\" d=\"M84.8577 506.699 L89.7419 506.699 L89.7419 512.578 L84.8577 512.578 L84.8577 506.699 Z\" fill=\"#000000\" fill-rule=\"nonzero\" fill-opacity=\"1\" /><path clip-path=\"url(#clip060)\" d=\"M103.955 508.643 L120.274 508.643 L120.274 512.578 L98.3298 512.578 L98.3298 508.643 Q100.992 505.888 105.575 501.259 Q110.182 496.606 111.362 495.263 Q113.608 492.74 114.487 491.004 Q115.39 489.245 115.39 487.555 Q115.39 484.8 113.445 483.064 Q111.524 481.328 108.422 481.328 Q106.223 481.328 103.77 482.092 Q101.339 482.856 98.5613 484.407 L98.5613 479.685 Q101.385 478.551 103.839 477.972 Q106.293 477.393 108.33 477.393 Q113.7 477.393 116.895 480.078 Q120.089 482.763 120.089 487.254 Q120.089 489.384 119.279 491.305 Q118.492 493.203 116.385 495.796 Q115.807 496.467 112.705 499.685 Q109.603 502.879 103.955 508.643 Z\" fill=\"#000000\" fill-rule=\"nonzero\" fill-opacity=\"1\" /><path clip-path=\"url(#clip060)\" d=\"M53.4227 237.095 L61.0615 237.095 L61.0615 210.729 L52.7514 212.396 L52.7514 208.137 L61.0152 206.47 L65.6911 206.47 L65.6911 237.095 L73.33 237.095 L73.33 241.03 L53.4227 241.03 L53.4227 237.095 Z\" fill=\"#000000\" fill-rule=\"nonzero\" fill-opacity=\"1\" /><path clip-path=\"url(#clip060)\" d=\"M82.7744 235.151 L87.6586 235.151 L87.6586 241.03 L82.7744 241.03 L82.7744 235.151 Z\" fill=\"#000000\" fill-rule=\"nonzero\" fill-opacity=\"1\" /><path clip-path=\"url(#clip060)\" d=\"M110.691 210.544 L98.8854 228.993 L110.691 228.993 L110.691 210.544 M109.464 206.47 L115.344 206.47 L115.344 228.993 L120.274 228.993 L120.274 232.882 L115.344 232.882 L115.344 241.03 L110.691 241.03 L110.691 232.882 L95.0891 232.882 L95.0891 228.368 L109.464 206.47 Z\" fill=\"#000000\" fill-rule=\"nonzero\" fill-opacity=\"1\" /><polyline clip-path=\"url(#clip062)\" style=\"stroke:#009af9; stroke-linecap:round; stroke-linejoin:round; stroke-width:4; stroke-opacity:1; fill:none\" points=\"218.439,1445.72 239.37,1445.72 260.3,1445.72 281.231,1445.72 302.162,1445.72 323.093,1445.72 344.024,1445.72 364.955,1445.72 385.885,1445.72 406.816,1445.72 427.747,1445.72 448.678,1445.72 469.609,1445.72 490.54,1445.72 511.47,1445.72 532.401,1445.72 553.332,1445.72 574.263,1445.72 595.194,1445.72 616.125,1445.72 637.055,1445.72 657.986,1445.72 678.917,1445.72 699.848,1445.72 720.779,1445.72 741.71,1445.72 762.64,1445.72 783.571,1445.72 804.502,1445.72 825.433,1445.72 846.364,1445.72 867.295,1445.72 888.225,1445.72 909.156,1445.72 930.087,1445.72 951.018,1445.72 971.949,1445.72 992.88,1445.72 1013.81,1445.72 1034.74,1445.72 1055.67,1445.72 1076.6,1445.72 1097.53,1445.72 1118.46,1445.72 1139.4,1445.72 1160.33,1445.72 1181.26,1445.72 1202.19,1445.72 1223.12,1445.72 1244.05,1445.72 1264.98,1445.72 1285.91,1445.72 1306.84,1445.72 1327.77,1445.72 1348.7,1445.72 1369.63,1445.72 1390.57,1445.72 1411.5,1445.72 1432.43,1445.72 1453.36,1445.72 1474.29,1445.72 1495.22,1445.72 1516.15,1445.72 1537.08,1445.72 1558.01,1445.72 1578.94,1445.72 1599.87,1445.72 1620.8,1445.72 1641.74,1445.72 1662.67,1445.72 1683.6,1445.72 1704.53,1445.72 1725.46,1445.72 1746.39,1445.72 1767.32,1445.72 1788.25,1445.72 1809.18,1445.72 1830.11,1445.72 1851.04,1445.72 1871.97,1445.72 1892.91,1445.72 1913.84,1445.72 1934.77,1445.72 1955.7,1445.72 1976.63,1445.72 1997.56,1445.72 2018.49,1445.72 2039.42,1445.72 2060.35,1445.72 2081.28,1445.72 2102.21,1445.72 2123.14,1445.72 2144.08,1445.72 2165.01,1445.72 2185.94,1445.72 2206.87,1445.72 2227.8,1445.72 2248.73,1445.72 2269.66,1445.72 2290.59,1445.72 \"/>\n",
       "<path clip-path=\"url(#clip060)\" d=\"M2007.46 198.898 L2279.54 198.898 L2279.54 95.2176 L2007.46 95.2176  Z\" fill=\"#ffffff\" fill-rule=\"evenodd\" fill-opacity=\"1\"/>\n",
       "<polyline clip-path=\"url(#clip060)\" style=\"stroke:#000000; stroke-linecap:round; stroke-linejoin:round; stroke-width:4; stroke-opacity:1; fill:none\" points=\"2007.46,198.898 2279.54,198.898 2279.54,95.2176 2007.46,95.2176 2007.46,198.898 \"/>\n",
       "<polyline clip-path=\"url(#clip060)\" style=\"stroke:#009af9; stroke-linecap:round; stroke-linejoin:round; stroke-width:4; stroke-opacity:1; fill:none\" points=\"2031.87,147.058 2178.3,147.058 \"/>\n",
       "<path clip-path=\"url(#clip060)\" d=\"M2216.55 166.745 Q2214.74 171.375 2213.03 172.787 Q2211.32 174.199 2208.44 174.199 L2205.04 174.199 L2205.04 170.634 L2207.54 170.634 Q2209.3 170.634 2210.27 169.8 Q2211.25 168.967 2212.43 165.865 L2213.19 163.921 L2202.7 138.412 L2207.22 138.412 L2215.32 158.689 L2223.42 138.412 L2227.94 138.412 L2216.55 166.745 Z\" fill=\"#000000\" fill-rule=\"nonzero\" fill-opacity=\"1\" /><path clip-path=\"url(#clip060)\" d=\"M2235.23 160.402 L2242.87 160.402 L2242.87 134.037 L2234.56 135.703 L2234.56 131.444 L2242.82 129.778 L2247.5 129.778 L2247.5 160.402 L2255.13 160.402 L2255.13 164.338 L2235.23 164.338 L2235.23 160.402 Z\" fill=\"#000000\" fill-rule=\"nonzero\" fill-opacity=\"1\" /></svg>\n"
      ],
      "text/html": [
       "<?xml version=\"1.0\" encoding=\"utf-8\"?>\n",
       "<svg xmlns=\"http://www.w3.org/2000/svg\" xmlns:xlink=\"http://www.w3.org/1999/xlink\" width=\"600\" height=\"400\" viewBox=\"0 0 2400 1600\">\n",
       "<defs>\n",
       "  <clipPath id=\"clip110\">\n",
       "    <rect x=\"0\" y=\"0\" width=\"2400\" height=\"1600\"/>\n",
       "  </clipPath>\n",
       "</defs>\n",
       "<path clip-path=\"url(#clip110)\" d=\"M0 1600 L2400 1600 L2400 0 L0 0  Z\" fill=\"#ffffff\" fill-rule=\"evenodd\" fill-opacity=\"1\"/>\n",
       "<defs>\n",
       "  <clipPath id=\"clip111\">\n",
       "    <rect x=\"480\" y=\"0\" width=\"1681\" height=\"1600\"/>\n",
       "  </clipPath>\n",
       "</defs>\n",
       "<path clip-path=\"url(#clip110)\" d=\"M156.274 1486.45 L2352.76 1486.45 L2352.76 47.2441 L156.274 47.2441  Z\" fill=\"#ffffff\" fill-rule=\"evenodd\" fill-opacity=\"1\"/>\n",
       "<defs>\n",
       "  <clipPath id=\"clip112\">\n",
       "    <rect x=\"156\" y=\"47\" width=\"2197\" height=\"1440\"/>\n",
       "  </clipPath>\n",
       "</defs>\n",
       "<polyline clip-path=\"url(#clip112)\" style=\"stroke:#000000; stroke-linecap:round; stroke-linejoin:round; stroke-width:2; stroke-opacity:0.1; fill:none\" points=\"218.439,1486.45 218.439,47.2441 \"/>\n",
       "<polyline clip-path=\"url(#clip112)\" style=\"stroke:#000000; stroke-linecap:round; stroke-linejoin:round; stroke-width:2; stroke-opacity:0.1; fill:none\" points=\"736.477,1486.45 736.477,47.2441 \"/>\n",
       "<polyline clip-path=\"url(#clip112)\" style=\"stroke:#000000; stroke-linecap:round; stroke-linejoin:round; stroke-width:2; stroke-opacity:0.1; fill:none\" points=\"1254.52,1486.45 1254.52,47.2441 \"/>\n",
       "<polyline clip-path=\"url(#clip112)\" style=\"stroke:#000000; stroke-linecap:round; stroke-linejoin:round; stroke-width:2; stroke-opacity:0.1; fill:none\" points=\"1772.55,1486.45 1772.55,47.2441 \"/>\n",
       "<polyline clip-path=\"url(#clip112)\" style=\"stroke:#000000; stroke-linecap:round; stroke-linejoin:round; stroke-width:2; stroke-opacity:0.1; fill:none\" points=\"2290.59,1486.45 2290.59,47.2441 \"/>\n",
       "<polyline clip-path=\"url(#clip112)\" style=\"stroke:#000000; stroke-linecap:round; stroke-linejoin:round; stroke-width:2; stroke-opacity:0.1; fill:none\" points=\"156.274,1309.94 2352.76,1309.94 \"/>\n",
       "<polyline clip-path=\"url(#clip112)\" style=\"stroke:#000000; stroke-linecap:round; stroke-linejoin:round; stroke-width:2; stroke-opacity:0.1; fill:none\" points=\"156.274,1038.39 2352.76,1038.39 \"/>\n",
       "<polyline clip-path=\"url(#clip112)\" style=\"stroke:#000000; stroke-linecap:round; stroke-linejoin:round; stroke-width:2; stroke-opacity:0.1; fill:none\" points=\"156.274,766.846 2352.76,766.846 \"/>\n",
       "<polyline clip-path=\"url(#clip112)\" style=\"stroke:#000000; stroke-linecap:round; stroke-linejoin:round; stroke-width:2; stroke-opacity:0.1; fill:none\" points=\"156.274,495.298 2352.76,495.298 \"/>\n",
       "<polyline clip-path=\"url(#clip112)\" style=\"stroke:#000000; stroke-linecap:round; stroke-linejoin:round; stroke-width:2; stroke-opacity:0.1; fill:none\" points=\"156.274,223.75 2352.76,223.75 \"/>\n",
       "<polyline clip-path=\"url(#clip110)\" style=\"stroke:#000000; stroke-linecap:round; stroke-linejoin:round; stroke-width:4; stroke-opacity:1; fill:none\" points=\"156.274,1486.45 2352.76,1486.45 \"/>\n",
       "<polyline clip-path=\"url(#clip110)\" style=\"stroke:#000000; stroke-linecap:round; stroke-linejoin:round; stroke-width:4; stroke-opacity:1; fill:none\" points=\"218.439,1486.45 218.439,1467.55 \"/>\n",
       "<polyline clip-path=\"url(#clip110)\" style=\"stroke:#000000; stroke-linecap:round; stroke-linejoin:round; stroke-width:4; stroke-opacity:1; fill:none\" points=\"736.477,1486.45 736.477,1467.55 \"/>\n",
       "<polyline clip-path=\"url(#clip110)\" style=\"stroke:#000000; stroke-linecap:round; stroke-linejoin:round; stroke-width:4; stroke-opacity:1; fill:none\" points=\"1254.52,1486.45 1254.52,1467.55 \"/>\n",
       "<polyline clip-path=\"url(#clip110)\" style=\"stroke:#000000; stroke-linecap:round; stroke-linejoin:round; stroke-width:4; stroke-opacity:1; fill:none\" points=\"1772.55,1486.45 1772.55,1467.55 \"/>\n",
       "<polyline clip-path=\"url(#clip110)\" style=\"stroke:#000000; stroke-linecap:round; stroke-linejoin:round; stroke-width:4; stroke-opacity:1; fill:none\" points=\"2290.59,1486.45 2290.59,1467.55 \"/>\n",
       "<path clip-path=\"url(#clip110)\" d=\"M222.686 1530.21 Q226.043 1530.93 227.918 1533.2 Q229.816 1535.47 229.816 1538.8 Q229.816 1543.92 226.297 1546.72 Q222.779 1549.52 216.298 1549.52 Q214.122 1549.52 211.807 1549.08 Q209.515 1548.66 207.061 1547.81 L207.061 1543.29 Q209.006 1544.43 211.321 1545.01 Q213.636 1545.58 216.159 1545.58 Q220.557 1545.58 222.848 1543.85 Q225.163 1542.11 225.163 1538.8 Q225.163 1535.75 223.01 1534.03 Q220.881 1532.3 217.061 1532.3 L213.034 1532.3 L213.034 1528.45 L217.247 1528.45 Q220.696 1528.45 222.524 1527.09 Q224.353 1525.7 224.353 1523.11 Q224.353 1520.45 222.455 1519.03 Q220.58 1517.6 217.061 1517.6 Q215.14 1517.6 212.941 1518.01 Q210.742 1518.43 208.103 1519.31 L208.103 1515.14 Q210.765 1514.4 213.08 1514.03 Q215.418 1513.66 217.478 1513.66 Q222.802 1513.66 225.904 1516.09 Q229.006 1518.5 229.006 1522.62 Q229.006 1525.49 227.362 1527.48 Q225.719 1529.45 222.686 1530.21 Z\" fill=\"#000000\" fill-rule=\"nonzero\" fill-opacity=\"1\" /><path clip-path=\"url(#clip110)\" d=\"M739.486 1518.36 L727.681 1536.81 L739.486 1536.81 L739.486 1518.36 M738.259 1514.29 L744.139 1514.29 L744.139 1536.81 L749.069 1536.81 L749.069 1540.7 L744.139 1540.7 L744.139 1548.85 L739.486 1548.85 L739.486 1540.7 L723.884 1540.7 L723.884 1536.19 L738.259 1514.29 Z\" fill=\"#000000\" fill-rule=\"nonzero\" fill-opacity=\"1\" /><path clip-path=\"url(#clip110)\" d=\"M1244.79 1514.29 L1263.15 1514.29 L1263.15 1518.22 L1249.08 1518.22 L1249.08 1526.7 Q1250.09 1526.35 1251.11 1526.19 Q1252.13 1526 1253.15 1526 Q1258.94 1526 1262.32 1529.17 Q1265.7 1532.34 1265.7 1537.76 Q1265.7 1543.34 1262.22 1546.44 Q1258.75 1549.52 1252.43 1549.52 Q1250.26 1549.52 1247.99 1549.15 Q1245.74 1548.78 1243.33 1548.04 L1243.33 1543.34 Q1245.42 1544.47 1247.64 1545.03 Q1249.86 1545.58 1252.34 1545.58 Q1256.34 1545.58 1258.68 1543.48 Q1261.02 1541.37 1261.02 1537.76 Q1261.02 1534.15 1258.68 1532.04 Q1256.34 1529.94 1252.34 1529.94 Q1250.46 1529.94 1248.59 1530.35 Q1246.74 1530.77 1244.79 1531.65 L1244.79 1514.29 Z\" fill=\"#000000\" fill-rule=\"nonzero\" fill-opacity=\"1\" /><path clip-path=\"url(#clip110)\" d=\"M1772.96 1529.7 Q1769.81 1529.7 1767.96 1531.86 Q1766.13 1534.01 1766.13 1537.76 Q1766.13 1541.49 1767.96 1543.66 Q1769.81 1545.82 1772.96 1545.82 Q1776.11 1545.82 1777.94 1543.66 Q1779.79 1541.49 1779.79 1537.76 Q1779.79 1534.01 1777.94 1531.86 Q1776.11 1529.7 1772.96 1529.7 M1782.24 1515.05 L1782.24 1519.31 Q1780.48 1518.48 1778.68 1518.04 Q1776.89 1517.6 1775.13 1517.6 Q1770.5 1517.6 1768.05 1520.72 Q1765.62 1523.85 1765.27 1530.17 Q1766.64 1528.15 1768.7 1527.09 Q1770.76 1526 1773.24 1526 Q1778.44 1526 1781.45 1529.17 Q1784.49 1532.32 1784.49 1537.76 Q1784.49 1543.08 1781.34 1546.3 Q1778.19 1549.52 1772.96 1549.52 Q1766.96 1549.52 1763.79 1544.94 Q1760.62 1540.33 1760.62 1531.6 Q1760.62 1523.41 1764.51 1518.55 Q1768.4 1513.66 1774.95 1513.66 Q1776.71 1513.66 1778.49 1514.01 Q1780.3 1514.36 1782.24 1515.05 Z\" fill=\"#000000\" fill-rule=\"nonzero\" fill-opacity=\"1\" /><path clip-path=\"url(#clip110)\" d=\"M2279.48 1514.29 L2301.7 1514.29 L2301.7 1516.28 L2289.16 1548.85 L2284.27 1548.85 L2296.08 1518.22 L2279.48 1518.22 L2279.48 1514.29 Z\" fill=\"#000000\" fill-rule=\"nonzero\" fill-opacity=\"1\" /><polyline clip-path=\"url(#clip110)\" style=\"stroke:#000000; stroke-linecap:round; stroke-linejoin:round; stroke-width:4; stroke-opacity:1; fill:none\" points=\"156.274,1486.45 156.274,47.2441 \"/>\n",
       "<polyline clip-path=\"url(#clip110)\" style=\"stroke:#000000; stroke-linecap:round; stroke-linejoin:round; stroke-width:4; stroke-opacity:1; fill:none\" points=\"156.274,1309.94 175.172,1309.94 \"/>\n",
       "<polyline clip-path=\"url(#clip110)\" style=\"stroke:#000000; stroke-linecap:round; stroke-linejoin:round; stroke-width:4; stroke-opacity:1; fill:none\" points=\"156.274,1038.39 175.172,1038.39 \"/>\n",
       "<polyline clip-path=\"url(#clip110)\" style=\"stroke:#000000; stroke-linecap:round; stroke-linejoin:round; stroke-width:4; stroke-opacity:1; fill:none\" points=\"156.274,766.846 175.172,766.846 \"/>\n",
       "<polyline clip-path=\"url(#clip110)\" style=\"stroke:#000000; stroke-linecap:round; stroke-linejoin:round; stroke-width:4; stroke-opacity:1; fill:none\" points=\"156.274,495.298 175.172,495.298 \"/>\n",
       "<polyline clip-path=\"url(#clip110)\" style=\"stroke:#000000; stroke-linecap:round; stroke-linejoin:round; stroke-width:4; stroke-opacity:1; fill:none\" points=\"156.274,223.75 175.172,223.75 \"/>\n",
       "<path clip-path=\"url(#clip110)\" d=\"M62.9365 1295.74 Q59.3254 1295.74 57.4967 1299.31 Q55.6912 1302.85 55.6912 1309.98 Q55.6912 1317.08 57.4967 1320.65 Q59.3254 1324.19 62.9365 1324.19 Q66.5707 1324.19 68.3763 1320.65 Q70.205 1317.08 70.205 1309.98 Q70.205 1302.85 68.3763 1299.31 Q66.5707 1295.74 62.9365 1295.74 M62.9365 1292.04 Q68.7467 1292.04 71.8022 1296.64 Q74.8809 1301.23 74.8809 1309.98 Q74.8809 1318.7 71.8022 1323.31 Q68.7467 1327.89 62.9365 1327.89 Q57.1264 1327.89 54.0477 1323.31 Q50.9921 1318.7 50.9921 1309.98 Q50.9921 1301.23 54.0477 1296.64 Q57.1264 1292.04 62.9365 1292.04 Z\" fill=\"#000000\" fill-rule=\"nonzero\" fill-opacity=\"1\" /><path clip-path=\"url(#clip110)\" d=\"M83.0984 1321.34 L87.9827 1321.34 L87.9827 1327.22 L83.0984 1327.22 L83.0984 1321.34 Z\" fill=\"#000000\" fill-rule=\"nonzero\" fill-opacity=\"1\" /><path clip-path=\"url(#clip110)\" d=\"M108.746 1308.08 Q105.598 1308.08 103.746 1310.23 Q101.918 1312.38 101.918 1316.13 Q101.918 1319.86 103.746 1322.04 Q105.598 1324.19 108.746 1324.19 Q111.895 1324.19 113.723 1322.04 Q115.575 1319.86 115.575 1316.13 Q115.575 1312.38 113.723 1310.23 Q111.895 1308.08 108.746 1308.08 M118.029 1293.43 L118.029 1297.68 Q116.27 1296.85 114.464 1296.41 Q112.682 1295.97 110.922 1295.97 Q106.293 1295.97 103.839 1299.1 Q101.409 1302.22 101.061 1308.54 Q102.427 1306.53 104.487 1305.46 Q106.547 1304.37 109.024 1304.37 Q114.233 1304.37 117.242 1307.55 Q120.274 1310.69 120.274 1316.13 Q120.274 1321.46 117.126 1324.68 Q113.978 1327.89 108.746 1327.89 Q102.751 1327.89 99.5798 1323.31 Q96.4085 1318.7 96.4085 1309.98 Q96.4085 1301.78 100.297 1296.92 Q104.186 1292.04 110.737 1292.04 Q112.496 1292.04 114.279 1292.38 Q116.084 1292.73 118.029 1293.43 Z\" fill=\"#000000\" fill-rule=\"nonzero\" fill-opacity=\"1\" /><path clip-path=\"url(#clip110)\" d=\"M63.1911 1024.19 Q59.58 1024.19 57.7513 1027.76 Q55.9458 1031.3 55.9458 1038.43 Q55.9458 1045.54 57.7513 1049.1 Q59.58 1052.64 63.1911 1052.64 Q66.8254 1052.64 68.6309 1049.1 Q70.4596 1045.54 70.4596 1038.43 Q70.4596 1031.3 68.6309 1027.76 Q66.8254 1024.19 63.1911 1024.19 M63.1911 1020.49 Q69.0013 1020.49 72.0568 1025.1 Q75.1355 1029.68 75.1355 1038.43 Q75.1355 1047.16 72.0568 1051.76 Q69.0013 1056.35 63.1911 1056.35 Q57.381 1056.35 54.3023 1051.76 Q51.2468 1047.16 51.2468 1038.43 Q51.2468 1029.68 54.3023 1025.1 Q57.381 1020.49 63.1911 1020.49 Z\" fill=\"#000000\" fill-rule=\"nonzero\" fill-opacity=\"1\" /><path clip-path=\"url(#clip110)\" d=\"M83.3531 1049.79 L88.2373 1049.79 L88.2373 1055.67 L83.3531 1055.67 L83.3531 1049.79 Z\" fill=\"#000000\" fill-rule=\"nonzero\" fill-opacity=\"1\" /><path clip-path=\"url(#clip110)\" d=\"M108.422 1039.26 Q105.089 1039.26 103.168 1041.04 Q101.27 1042.83 101.27 1045.95 Q101.27 1049.08 103.168 1050.86 Q105.089 1052.64 108.422 1052.64 Q111.756 1052.64 113.677 1050.86 Q115.598 1049.05 115.598 1045.95 Q115.598 1042.83 113.677 1041.04 Q111.779 1039.26 108.422 1039.26 M103.746 1037.27 Q100.737 1036.53 99.0474 1034.47 Q97.3808 1032.41 97.3808 1029.45 Q97.3808 1025.3 100.321 1022.9 Q103.284 1020.49 108.422 1020.49 Q113.584 1020.49 116.524 1022.9 Q119.464 1025.3 119.464 1029.45 Q119.464 1032.41 117.774 1034.47 Q116.108 1036.53 113.121 1037.27 Q116.501 1038.06 118.376 1040.35 Q120.274 1042.64 120.274 1045.95 Q120.274 1050.97 117.195 1053.66 Q114.14 1056.35 108.422 1056.35 Q102.705 1056.35 99.6261 1053.66 Q96.5706 1050.97 96.5706 1045.95 Q96.5706 1042.64 98.4687 1040.35 Q100.367 1038.06 103.746 1037.27 M102.034 1029.89 Q102.034 1032.57 103.7 1034.08 Q105.39 1035.58 108.422 1035.58 Q111.432 1035.58 113.121 1034.08 Q114.834 1032.57 114.834 1029.89 Q114.834 1027.2 113.121 1025.7 Q111.432 1024.19 108.422 1024.19 Q105.39 1024.19 103.7 1025.7 Q102.034 1027.2 102.034 1029.89 Z\" fill=\"#000000\" fill-rule=\"nonzero\" fill-opacity=\"1\" /><path clip-path=\"url(#clip110)\" d=\"M53.9088 780.191 L61.5476 780.191 L61.5476 753.825 L53.2375 755.492 L53.2375 751.233 L61.5013 749.566 L66.1772 749.566 L66.1772 780.191 L73.8161 780.191 L73.8161 784.126 L53.9088 784.126 L53.9088 780.191 Z\" fill=\"#000000\" fill-rule=\"nonzero\" fill-opacity=\"1\" /><path clip-path=\"url(#clip110)\" d=\"M83.2605 778.246 L88.1447 778.246 L88.1447 784.126 L83.2605 784.126 L83.2605 778.246 Z\" fill=\"#000000\" fill-rule=\"nonzero\" fill-opacity=\"1\" /><path clip-path=\"url(#clip110)\" d=\"M108.33 752.645 Q104.719 752.645 102.89 756.209 Q101.084 759.751 101.084 766.881 Q101.084 773.987 102.89 777.552 Q104.719 781.094 108.33 781.094 Q111.964 781.094 113.77 777.552 Q115.598 773.987 115.598 766.881 Q115.598 759.751 113.77 756.209 Q111.964 752.645 108.33 752.645 M108.33 748.941 Q114.14 748.941 117.195 753.547 Q120.274 758.131 120.274 766.881 Q120.274 775.608 117.195 780.214 Q114.14 784.797 108.33 784.797 Q102.52 784.797 99.4409 780.214 Q96.3854 775.608 96.3854 766.881 Q96.3854 758.131 99.4409 753.547 Q102.52 748.941 108.33 748.941 Z\" fill=\"#000000\" fill-rule=\"nonzero\" fill-opacity=\"1\" /><path clip-path=\"url(#clip110)\" d=\"M55.506 508.643 L63.1448 508.643 L63.1448 482.277 L54.8347 483.944 L54.8347 479.685 L63.0985 478.018 L67.7744 478.018 L67.7744 508.643 L75.4133 508.643 L75.4133 512.578 L55.506 512.578 L55.506 508.643 Z\" fill=\"#000000\" fill-rule=\"nonzero\" fill-opacity=\"1\" /><path clip-path=\"url(#clip110)\" d=\"M84.8577 506.699 L89.7419 506.699 L89.7419 512.578 L84.8577 512.578 L84.8577 506.699 Z\" fill=\"#000000\" fill-rule=\"nonzero\" fill-opacity=\"1\" /><path clip-path=\"url(#clip110)\" d=\"M103.955 508.643 L120.274 508.643 L120.274 512.578 L98.3298 512.578 L98.3298 508.643 Q100.992 505.888 105.575 501.259 Q110.182 496.606 111.362 495.263 Q113.608 492.74 114.487 491.004 Q115.39 489.245 115.39 487.555 Q115.39 484.8 113.445 483.064 Q111.524 481.328 108.422 481.328 Q106.223 481.328 103.77 482.092 Q101.339 482.856 98.5613 484.407 L98.5613 479.685 Q101.385 478.551 103.839 477.972 Q106.293 477.393 108.33 477.393 Q113.7 477.393 116.895 480.078 Q120.089 482.763 120.089 487.254 Q120.089 489.384 119.279 491.305 Q118.492 493.203 116.385 495.796 Q115.807 496.467 112.705 499.685 Q109.603 502.879 103.955 508.643 Z\" fill=\"#000000\" fill-rule=\"nonzero\" fill-opacity=\"1\" /><path clip-path=\"url(#clip110)\" d=\"M53.4227 237.095 L61.0615 237.095 L61.0615 210.729 L52.7514 212.396 L52.7514 208.137 L61.0152 206.47 L65.6911 206.47 L65.6911 237.095 L73.33 237.095 L73.33 241.03 L53.4227 241.03 L53.4227 237.095 Z\" fill=\"#000000\" fill-rule=\"nonzero\" fill-opacity=\"1\" /><path clip-path=\"url(#clip110)\" d=\"M82.7744 235.151 L87.6586 235.151 L87.6586 241.03 L82.7744 241.03 L82.7744 235.151 Z\" fill=\"#000000\" fill-rule=\"nonzero\" fill-opacity=\"1\" /><path clip-path=\"url(#clip110)\" d=\"M110.691 210.544 L98.8854 228.993 L110.691 228.993 L110.691 210.544 M109.464 206.47 L115.344 206.47 L115.344 228.993 L120.274 228.993 L120.274 232.882 L115.344 232.882 L115.344 241.03 L110.691 241.03 L110.691 232.882 L95.0891 232.882 L95.0891 228.368 L109.464 206.47 Z\" fill=\"#000000\" fill-rule=\"nonzero\" fill-opacity=\"1\" /><polyline clip-path=\"url(#clip112)\" style=\"stroke:#009af9; stroke-linecap:round; stroke-linejoin:round; stroke-width:4; stroke-opacity:1; fill:none\" points=\"218.439,1445.72 239.37,1445.72 260.3,1445.72 281.231,1445.72 302.162,1445.72 323.093,1445.72 344.024,1445.72 364.955,1445.72 385.885,1445.72 406.816,1445.72 427.747,1445.72 448.678,1445.72 469.609,1445.72 490.54,1445.72 511.47,1445.72 532.401,1445.72 553.332,1445.72 574.263,1445.72 595.194,1445.72 616.125,1445.72 637.055,1445.72 657.986,1445.72 678.917,1445.72 699.848,1445.72 720.779,1445.72 741.71,1445.72 762.64,1445.72 783.571,1445.72 804.502,1445.72 825.433,1445.72 846.364,1445.72 867.295,1445.72 888.225,1445.72 909.156,1445.72 930.087,1445.72 951.018,1445.72 971.949,1445.72 992.88,1445.72 1013.81,1445.72 1034.74,1445.72 1055.67,1445.72 1076.6,1445.72 1097.53,1445.72 1118.46,1445.72 1139.4,1445.72 1160.33,1445.72 1181.26,1445.72 1202.19,1445.72 1223.12,1445.72 1244.05,1445.72 1264.98,1445.72 1285.91,1445.72 1306.84,1445.72 1327.77,1445.72 1348.7,1445.72 1369.63,1445.72 1390.57,1445.72 1411.5,1445.72 1432.43,1445.72 1453.36,1445.72 1474.29,1445.72 1495.22,1445.72 1516.15,1445.72 1537.08,1445.72 1558.01,1445.72 1578.94,1445.72 1599.87,1445.72 1620.8,1445.72 1641.74,1445.72 1662.67,1445.72 1683.6,1445.72 1704.53,1445.72 1725.46,1445.72 1746.39,1445.72 1767.32,1445.72 1788.25,1445.72 1809.18,1445.72 1830.11,1445.72 1851.04,1445.72 1871.97,1445.72 1892.91,1445.72 1913.84,1445.72 1934.77,1445.72 1955.7,1445.72 1976.63,1445.72 1997.56,1445.72 2018.49,1445.72 2039.42,1445.72 2060.35,1445.72 2081.28,1445.72 2102.21,1445.72 2123.14,1445.72 2144.08,1445.72 2165.01,1445.72 2185.94,1445.72 2206.87,1445.72 2227.8,1445.72 2248.73,1445.72 2269.66,1445.72 2290.59,1445.72 \"/>\n",
       "<path clip-path=\"url(#clip110)\" d=\"M2007.46 198.898 L2279.54 198.898 L2279.54 95.2176 L2007.46 95.2176  Z\" fill=\"#ffffff\" fill-rule=\"evenodd\" fill-opacity=\"1\"/>\n",
       "<polyline clip-path=\"url(#clip110)\" style=\"stroke:#000000; stroke-linecap:round; stroke-linejoin:round; stroke-width:4; stroke-opacity:1; fill:none\" points=\"2007.46,198.898 2279.54,198.898 2279.54,95.2176 2007.46,95.2176 2007.46,198.898 \"/>\n",
       "<polyline clip-path=\"url(#clip110)\" style=\"stroke:#009af9; stroke-linecap:round; stroke-linejoin:round; stroke-width:4; stroke-opacity:1; fill:none\" points=\"2031.87,147.058 2178.3,147.058 \"/>\n",
       "<path clip-path=\"url(#clip110)\" d=\"M2216.55 166.745 Q2214.74 171.375 2213.03 172.787 Q2211.32 174.199 2208.44 174.199 L2205.04 174.199 L2205.04 170.634 L2207.54 170.634 Q2209.3 170.634 2210.27 169.8 Q2211.25 168.967 2212.43 165.865 L2213.19 163.921 L2202.7 138.412 L2207.22 138.412 L2215.32 158.689 L2223.42 138.412 L2227.94 138.412 L2216.55 166.745 Z\" fill=\"#000000\" fill-rule=\"nonzero\" fill-opacity=\"1\" /><path clip-path=\"url(#clip110)\" d=\"M2235.23 160.402 L2242.87 160.402 L2242.87 134.037 L2234.56 135.703 L2234.56 131.444 L2242.82 129.778 L2247.5 129.778 L2247.5 160.402 L2255.13 160.402 L2255.13 164.338 L2235.23 164.338 L2235.23 160.402 Z\" fill=\"#000000\" fill-rule=\"nonzero\" fill-opacity=\"1\" /></svg>\n"
      ]
     },
     "execution_count": 9,
     "metadata": {},
     "output_type": "execute_result"
    }
   ],
   "source": [
    "logreg1Dmodel = SingleNeuron(1, :logisticregression)\n",
    "logreg1Ddata = subset(irisdata.dataframe, :class => (species -> isequal.(species, \"Iris-virginica\") .|| isequal.(species, \"Iris-versicolor\")))\n",
    "logreg1Dtargets = map(logreg1Ddata[:, :class]) do species\n",
    "    if species == \"Iris-virginica\"\n",
    "        return 0\n",
    "    elseif species == \"Iris-versicolor\"\n",
    "        return 1\n",
    "    else\n",
    "        return NaN\n",
    "    end\n",
    "end\n",
    "logreg1Dinputs = logreg1Ddata[:, :petallength]\n",
    "plotneuron(logreg1Dmodel; leftbound=3, rightbound=7)\n"
   ]
  },
  {
   "cell_type": "code",
   "execution_count": 10,
   "id": "c9d0dfa3",
   "metadata": {},
   "outputs": [
    {
     "name": "stdout",
     "output_type": "stream",
     "text": [
      "  0.570793 seconds (1.95 M allocations: 138.827 MiB, 6.46% gc time, 89.62% compilation time)\n"
     ]
    },
    {
     "data": {
      "text/plain": [
       "10001-element Vector{Float64}:\n",
       " 0.6931471805599452\n",
       " 1.053790779079499\n",
       " 1.0603871086213126\n",
       " 1.0565319228489758\n",
       " 1.052558996943378\n",
       " 1.0486092847452475\n",
       " 1.044684557088316\n",
       " 1.040784693471718\n",
       " 1.0369095479459025\n",
       " 1.0330589744710752\n",
       " 1.0292328272756825\n",
       " 1.0254309608748786\n",
       " 1.021653230083781\n",
       " ⋮\n",
       " 0.1823462960956358\n",
       " 0.18234495013563576\n",
       " 0.18234360448764336\n",
       " 0.182342259151566\n",
       " 0.18234091412730766\n",
       " 0.18233956941477078\n",
       " 0.18233822501386418\n",
       " 0.18233688092448982\n",
       " 0.1823355371465553\n",
       " 0.18233419367996398\n",
       " 0.18233285052462228\n",
       " 0.1823315076804349"
      ]
     },
     "execution_count": 10,
     "metadata": {},
     "output_type": "execute_result"
    }
   ],
   "source": [
    "@time train!(logreg1Dmodel, logreg1Dinputs, logreg1Dtargets; numepochs=10000, learningrate=0.01)\n"
   ]
  },
  {
   "cell_type": "code",
   "execution_count": 11,
   "id": "7dc54fc1",
   "metadata": {},
   "outputs": [
    {
     "data": {
      "image/png": "[encoded data removed]",
      "image/svg+xml": [
       "<?xml version=\"1.0\" encoding=\"utf-8\"?>\n",
       "<svg xmlns=\"http://www.w3.org/2000/svg\" xmlns:xlink=\"http://www.w3.org/1999/xlink\" width=\"600\" height=\"400\" viewBox=\"0 0 2400 1600\">\n",
       "<defs>\n",
       "  <clipPath id=\"clip150\">\n",
       "    <rect x=\"0\" y=\"0\" width=\"2400\" height=\"1600\"/>\n",
       "  </clipPath>\n",
       "</defs>\n",
       "<path clip-path=\"url(#clip150)\" d=\"M0 1600 L2400 1600 L2400 0 L0 0  Z\" fill=\"#ffffff\" fill-rule=\"evenodd\" fill-opacity=\"1\"/>\n",
       "<defs>\n",
       "  <clipPath id=\"clip151\">\n",
       "    <rect x=\"480\" y=\"0\" width=\"1681\" height=\"1600\"/>\n",
       "  </clipPath>\n",
       "</defs>\n",
       "<path clip-path=\"url(#clip150)\" d=\"M186.274 1486.45 L2352.76 1486.45 L2352.76 47.2441 L186.274 47.2441  Z\" fill=\"#ffffff\" fill-rule=\"evenodd\" fill-opacity=\"1\"/>\n",
       "<defs>\n",
       "  <clipPath id=\"clip152\">\n",
       "    <rect x=\"186\" y=\"47\" width=\"2167\" height=\"1440\"/>\n",
       "  </clipPath>\n",
       "</defs>\n",
       "<polyline clip-path=\"url(#clip152)\" style=\"stroke:#000000; stroke-linecap:round; stroke-linejoin:round; stroke-width:2; stroke-opacity:0.1; fill:none\" points=\"247.59,1486.45 247.59,47.2441 \"/>\n",
       "<polyline clip-path=\"url(#clip152)\" style=\"stroke:#000000; stroke-linecap:round; stroke-linejoin:round; stroke-width:2; stroke-opacity:0.1; fill:none\" points=\"758.552,1486.45 758.552,47.2441 \"/>\n",
       "<polyline clip-path=\"url(#clip152)\" style=\"stroke:#000000; stroke-linecap:round; stroke-linejoin:round; stroke-width:2; stroke-opacity:0.1; fill:none\" points=\"1269.51,1486.45 1269.51,47.2441 \"/>\n",
       "<polyline clip-path=\"url(#clip152)\" style=\"stroke:#000000; stroke-linecap:round; stroke-linejoin:round; stroke-width:2; stroke-opacity:0.1; fill:none\" points=\"1780.48,1486.45 1780.48,47.2441 \"/>\n",
       "<polyline clip-path=\"url(#clip152)\" style=\"stroke:#000000; stroke-linecap:round; stroke-linejoin:round; stroke-width:2; stroke-opacity:0.1; fill:none\" points=\"2291.44,1486.45 2291.44,47.2441 \"/>\n",
       "<polyline clip-path=\"url(#clip152)\" style=\"stroke:#000000; stroke-linecap:round; stroke-linejoin:round; stroke-width:2; stroke-opacity:0.1; fill:none\" points=\"186.274,1445.72 2352.76,1445.72 \"/>\n",
       "<polyline clip-path=\"url(#clip152)\" style=\"stroke:#000000; stroke-linecap:round; stroke-linejoin:round; stroke-width:2; stroke-opacity:0.1; fill:none\" points=\"186.274,1106.28 2352.76,1106.28 \"/>\n",
       "<polyline clip-path=\"url(#clip152)\" style=\"stroke:#000000; stroke-linecap:round; stroke-linejoin:round; stroke-width:2; stroke-opacity:0.1; fill:none\" points=\"186.274,766.845 2352.76,766.845 \"/>\n",
       "<polyline clip-path=\"url(#clip152)\" style=\"stroke:#000000; stroke-linecap:round; stroke-linejoin:round; stroke-width:2; stroke-opacity:0.1; fill:none\" points=\"186.274,427.409 2352.76,427.409 \"/>\n",
       "<polyline clip-path=\"url(#clip152)\" style=\"stroke:#000000; stroke-linecap:round; stroke-linejoin:round; stroke-width:2; stroke-opacity:0.1; fill:none\" points=\"186.274,87.9738 2352.76,87.9738 \"/>\n",
       "<polyline clip-path=\"url(#clip150)\" style=\"stroke:#000000; stroke-linecap:round; stroke-linejoin:round; stroke-width:4; stroke-opacity:1; fill:none\" points=\"186.274,1486.45 2352.76,1486.45 \"/>\n",
       "<polyline clip-path=\"url(#clip150)\" style=\"stroke:#000000; stroke-linecap:round; stroke-linejoin:round; stroke-width:4; stroke-opacity:1; fill:none\" points=\"247.59,1486.45 247.59,1467.55 \"/>\n",
       "<polyline clip-path=\"url(#clip150)\" style=\"stroke:#000000; stroke-linecap:round; stroke-linejoin:round; stroke-width:4; stroke-opacity:1; fill:none\" points=\"758.552,1486.45 758.552,1467.55 \"/>\n",
       "<polyline clip-path=\"url(#clip150)\" style=\"stroke:#000000; stroke-linecap:round; stroke-linejoin:round; stroke-width:4; stroke-opacity:1; fill:none\" points=\"1269.51,1486.45 1269.51,1467.55 \"/>\n",
       "<polyline clip-path=\"url(#clip150)\" style=\"stroke:#000000; stroke-linecap:round; stroke-linejoin:round; stroke-width:4; stroke-opacity:1; fill:none\" points=\"1780.48,1486.45 1780.48,1467.55 \"/>\n",
       "<polyline clip-path=\"url(#clip150)\" style=\"stroke:#000000; stroke-linecap:round; stroke-linejoin:round; stroke-width:4; stroke-opacity:1; fill:none\" points=\"2291.44,1486.45 2291.44,1467.55 \"/>\n",
       "<path clip-path=\"url(#clip150)\" d=\"M251.837 1530.21 Q255.194 1530.93 257.069 1533.2 Q258.967 1535.47 258.967 1538.8 Q258.967 1543.92 255.448 1546.72 Q251.93 1549.52 245.448 1549.52 Q243.272 1549.52 240.958 1549.08 Q238.666 1548.66 236.212 1547.81 L236.212 1543.29 Q238.157 1544.43 240.472 1545.01 Q242.786 1545.58 245.309 1545.58 Q249.708 1545.58 251.999 1543.85 Q254.314 1542.11 254.314 1538.8 Q254.314 1535.75 252.161 1534.03 Q250.032 1532.3 246.212 1532.3 L242.184 1532.3 L242.184 1528.45 L246.397 1528.45 Q249.846 1528.45 251.675 1527.09 Q253.504 1525.7 253.504 1523.11 Q253.504 1520.45 251.606 1519.03 Q249.731 1517.6 246.212 1517.6 Q244.291 1517.6 242.092 1518.01 Q239.893 1518.43 237.254 1519.31 L237.254 1515.14 Q239.916 1514.4 242.231 1514.03 Q244.569 1513.66 246.629 1513.66 Q251.953 1513.66 255.055 1516.09 Q258.157 1518.5 258.157 1522.62 Q258.157 1525.49 256.513 1527.48 Q254.87 1529.45 251.837 1530.21 Z\" fill=\"#000000\" fill-rule=\"nonzero\" fill-opacity=\"1\" /><path clip-path=\"url(#clip150)\" d=\"M761.561 1518.36 L749.756 1536.81 L761.561 1536.81 L761.561 1518.36 M760.335 1514.29 L766.214 1514.29 L766.214 1536.81 L771.145 1536.81 L771.145 1540.7 L766.214 1540.7 L766.214 1548.85 L761.561 1548.85 L761.561 1540.7 L745.96 1540.7 L745.96 1536.19 L760.335 1514.29 Z\" fill=\"#000000\" fill-rule=\"nonzero\" fill-opacity=\"1\" /><path clip-path=\"url(#clip150)\" d=\"M1259.79 1514.29 L1278.15 1514.29 L1278.15 1518.22 L1264.08 1518.22 L1264.08 1526.7 Q1265.09 1526.35 1266.11 1526.19 Q1267.13 1526 1268.15 1526 Q1273.94 1526 1277.32 1529.17 Q1280.7 1532.34 1280.7 1537.76 Q1280.7 1543.34 1277.22 1546.44 Q1273.75 1549.52 1267.43 1549.52 Q1265.26 1549.52 1262.99 1549.15 Q1260.74 1548.78 1258.33 1548.04 L1258.33 1543.34 Q1260.42 1544.47 1262.64 1545.03 Q1264.86 1545.58 1267.34 1545.58 Q1271.34 1545.58 1273.68 1543.48 Q1276.02 1541.37 1276.02 1537.76 Q1276.02 1534.15 1273.68 1532.04 Q1271.34 1529.94 1267.34 1529.94 Q1265.46 1529.94 1263.59 1530.35 Q1261.74 1530.77 1259.79 1531.65 L1259.79 1514.29 Z\" fill=\"#000000\" fill-rule=\"nonzero\" fill-opacity=\"1\" /><path clip-path=\"url(#clip150)\" d=\"M1780.88 1529.7 Q1777.73 1529.7 1775.88 1531.86 Q1774.05 1534.01 1774.05 1537.76 Q1774.05 1541.49 1775.88 1543.66 Q1777.73 1545.82 1780.88 1545.82 Q1784.03 1545.82 1785.86 1543.66 Q1787.71 1541.49 1787.71 1537.76 Q1787.71 1534.01 1785.86 1531.86 Q1784.03 1529.7 1780.88 1529.7 M1790.17 1515.05 L1790.17 1519.31 Q1788.41 1518.48 1786.6 1518.04 Q1784.82 1517.6 1783.06 1517.6 Q1778.43 1517.6 1775.98 1520.72 Q1773.54 1523.85 1773.2 1530.17 Q1774.56 1528.15 1776.62 1527.09 Q1778.68 1526 1781.16 1526 Q1786.37 1526 1789.38 1529.17 Q1792.41 1532.32 1792.41 1537.76 Q1792.41 1543.08 1789.26 1546.3 Q1786.11 1549.52 1780.88 1549.52 Q1774.89 1549.52 1771.72 1544.94 Q1768.54 1540.33 1768.54 1531.6 Q1768.54 1523.41 1772.43 1518.55 Q1776.32 1513.66 1782.87 1513.66 Q1784.63 1513.66 1786.42 1514.01 Q1788.22 1514.36 1790.17 1515.05 Z\" fill=\"#000000\" fill-rule=\"nonzero\" fill-opacity=\"1\" /><path clip-path=\"url(#clip150)\" d=\"M2280.33 1514.29 L2302.55 1514.29 L2302.55 1516.28 L2290.01 1548.85 L2285.12 1548.85 L2296.93 1518.22 L2280.33 1518.22 L2280.33 1514.29 Z\" fill=\"#000000\" fill-rule=\"nonzero\" fill-opacity=\"1\" /><polyline clip-path=\"url(#clip150)\" style=\"stroke:#000000; stroke-linecap:round; stroke-linejoin:round; stroke-width:4; stroke-opacity:1; fill:none\" points=\"186.274,1486.45 186.274,47.2441 \"/>\n",
       "<polyline clip-path=\"url(#clip150)\" style=\"stroke:#000000; stroke-linecap:round; stroke-linejoin:round; stroke-width:4; stroke-opacity:1; fill:none\" points=\"186.274,1445.72 205.172,1445.72 \"/>\n",
       "<polyline clip-path=\"url(#clip150)\" style=\"stroke:#000000; stroke-linecap:round; stroke-linejoin:round; stroke-width:4; stroke-opacity:1; fill:none\" points=\"186.274,1106.28 205.172,1106.28 \"/>\n",
       "<polyline clip-path=\"url(#clip150)\" style=\"stroke:#000000; stroke-linecap:round; stroke-linejoin:round; stroke-width:4; stroke-opacity:1; fill:none\" points=\"186.274,766.845 205.172,766.845 \"/>\n",
       "<polyline clip-path=\"url(#clip150)\" style=\"stroke:#000000; stroke-linecap:round; stroke-linejoin:round; stroke-width:4; stroke-opacity:1; fill:none\" points=\"186.274,427.409 205.172,427.409 \"/>\n",
       "<polyline clip-path=\"url(#clip150)\" style=\"stroke:#000000; stroke-linecap:round; stroke-linejoin:round; stroke-width:4; stroke-opacity:1; fill:none\" points=\"186.274,87.9738 205.172,87.9738 \"/>\n",
       "<path clip-path=\"url(#clip150)\" d=\"M62.9365 1431.51 Q59.3254 1431.51 57.4967 1435.08 Q55.6912 1438.62 55.6912 1445.75 Q55.6912 1452.86 57.4967 1456.42 Q59.3254 1459.96 62.9365 1459.96 Q66.5707 1459.96 68.3763 1456.42 Q70.205 1452.86 70.205 1445.75 Q70.205 1438.62 68.3763 1435.08 Q66.5707 1431.51 62.9365 1431.51 M62.9365 1427.81 Q68.7467 1427.81 71.8022 1432.42 Q74.8809 1437 74.8809 1445.75 Q74.8809 1454.48 71.8022 1459.08 Q68.7467 1463.67 62.9365 1463.67 Q57.1264 1463.67 54.0477 1459.08 Q50.9921 1454.48 50.9921 1445.75 Q50.9921 1437 54.0477 1432.42 Q57.1264 1427.81 62.9365 1427.81 Z\" fill=\"#000000\" fill-rule=\"nonzero\" fill-opacity=\"1\" /><path clip-path=\"url(#clip150)\" d=\"M83.0984 1457.12 L87.9827 1457.12 L87.9827 1463 L83.0984 1463 L83.0984 1457.12 Z\" fill=\"#000000\" fill-rule=\"nonzero\" fill-opacity=\"1\" /><path clip-path=\"url(#clip150)\" d=\"M108.168 1431.51 Q104.557 1431.51 102.728 1435.08 Q100.922 1438.62 100.922 1445.75 Q100.922 1452.86 102.728 1456.42 Q104.557 1459.96 108.168 1459.96 Q111.802 1459.96 113.608 1456.42 Q115.436 1452.86 115.436 1445.75 Q115.436 1438.62 113.608 1435.08 Q111.802 1431.51 108.168 1431.51 M108.168 1427.81 Q113.978 1427.81 117.033 1432.42 Q120.112 1437 120.112 1445.75 Q120.112 1454.48 117.033 1459.08 Q113.978 1463.67 108.168 1463.67 Q102.358 1463.67 99.2789 1459.08 Q96.2234 1454.48 96.2234 1445.75 Q96.2234 1437 99.2789 1432.42 Q102.358 1427.81 108.168 1427.81 Z\" fill=\"#000000\" fill-rule=\"nonzero\" fill-opacity=\"1\" /><path clip-path=\"url(#clip150)\" d=\"M138.33 1431.51 Q134.719 1431.51 132.89 1435.08 Q131.084 1438.62 131.084 1445.75 Q131.084 1452.86 132.89 1456.42 Q134.719 1459.96 138.33 1459.96 Q141.964 1459.96 143.769 1456.42 Q145.598 1452.86 145.598 1445.75 Q145.598 1438.62 143.769 1435.08 Q141.964 1431.51 138.33 1431.51 M138.33 1427.81 Q144.14 1427.81 147.195 1432.42 Q150.274 1437 150.274 1445.75 Q150.274 1454.48 147.195 1459.08 Q144.14 1463.67 138.33 1463.67 Q132.519 1463.67 129.441 1459.08 Q126.385 1454.48 126.385 1445.75 Q126.385 1437 129.441 1432.42 Q132.519 1427.81 138.33 1427.81 Z\" fill=\"#000000\" fill-rule=\"nonzero\" fill-opacity=\"1\" /><path clip-path=\"url(#clip150)\" d=\"M63.9319 1092.08 Q60.3208 1092.08 58.4921 1095.64 Q56.6865 1099.19 56.6865 1106.32 Q56.6865 1113.42 58.4921 1116.99 Q60.3208 1120.53 63.9319 1120.53 Q67.5661 1120.53 69.3717 1116.99 Q71.2004 1113.42 71.2004 1106.32 Q71.2004 1099.19 69.3717 1095.64 Q67.5661 1092.08 63.9319 1092.08 M63.9319 1088.38 Q69.742 1088.38 72.7976 1092.98 Q75.8763 1097.57 75.8763 1106.32 Q75.8763 1115.04 72.7976 1119.65 Q69.742 1124.23 63.9319 1124.23 Q58.1217 1124.23 55.043 1119.65 Q51.9875 1115.04 51.9875 1106.32 Q51.9875 1097.57 55.043 1092.98 Q58.1217 1088.38 63.9319 1088.38 Z\" fill=\"#000000\" fill-rule=\"nonzero\" fill-opacity=\"1\" /><path clip-path=\"url(#clip150)\" d=\"M84.0938 1117.68 L88.978 1117.68 L88.978 1123.56 L84.0938 1123.56 L84.0938 1117.68 Z\" fill=\"#000000\" fill-rule=\"nonzero\" fill-opacity=\"1\" /><path clip-path=\"url(#clip150)\" d=\"M103.191 1119.63 L119.51 1119.63 L119.51 1123.56 L97.566 1123.56 L97.566 1119.63 Q100.228 1116.87 104.811 1112.24 Q109.418 1107.59 110.598 1106.25 Q112.844 1103.72 113.723 1101.99 Q114.626 1100.23 114.626 1098.54 Q114.626 1095.78 112.682 1094.05 Q110.76 1092.31 107.658 1092.31 Q105.459 1092.31 103.006 1093.07 Q100.575 1093.84 97.7974 1095.39 L97.7974 1090.67 Q100.621 1089.53 103.075 1088.95 Q105.529 1088.38 107.566 1088.38 Q112.936 1088.38 116.131 1091.06 Q119.325 1093.75 119.325 1098.24 Q119.325 1100.37 118.515 1102.29 Q117.728 1104.19 115.621 1106.78 Q115.043 1107.45 111.941 1110.67 Q108.839 1113.86 103.191 1119.63 Z\" fill=\"#000000\" fill-rule=\"nonzero\" fill-opacity=\"1\" /><path clip-path=\"url(#clip150)\" d=\"M129.371 1089 L147.728 1089 L147.728 1092.94 L133.654 1092.94 L133.654 1101.41 Q134.672 1101.06 135.691 1100.9 Q136.709 1100.71 137.728 1100.71 Q143.515 1100.71 146.894 1103.88 Q150.274 1107.06 150.274 1112.47 Q150.274 1118.05 146.802 1121.15 Q143.33 1124.23 137.01 1124.23 Q134.834 1124.23 132.566 1123.86 Q130.32 1123.49 127.913 1122.75 L127.913 1118.05 Q129.996 1119.19 132.219 1119.74 Q134.441 1120.3 136.918 1120.3 Q140.922 1120.3 143.26 1118.19 Q145.598 1116.08 145.598 1112.47 Q145.598 1108.86 143.26 1106.75 Q140.922 1104.65 136.918 1104.65 Q135.043 1104.65 133.168 1105.07 Q131.316 1105.48 129.371 1106.36 L129.371 1089 Z\" fill=\"#000000\" fill-rule=\"nonzero\" fill-opacity=\"1\" /><path clip-path=\"url(#clip150)\" d=\"M62.9365 752.644 Q59.3254 752.644 57.4967 756.208 Q55.6912 759.75 55.6912 766.88 Q55.6912 773.986 57.4967 777.551 Q59.3254 781.092 62.9365 781.092 Q66.5707 781.092 68.3763 777.551 Q70.205 773.986 70.205 766.88 Q70.205 759.75 68.3763 756.208 Q66.5707 752.644 62.9365 752.644 M62.9365 748.94 Q68.7467 748.94 71.8022 753.546 Q74.8809 758.13 74.8809 766.88 Q74.8809 775.606 71.8022 780.213 Q68.7467 784.796 62.9365 784.796 Q57.1264 784.796 54.0477 780.213 Q50.9921 775.606 50.9921 766.88 Q50.9921 758.13 54.0477 753.546 Q57.1264 748.94 62.9365 748.94 Z\" fill=\"#000000\" fill-rule=\"nonzero\" fill-opacity=\"1\" /><path clip-path=\"url(#clip150)\" d=\"M83.0984 778.245 L87.9827 778.245 L87.9827 784.125 L83.0984 784.125 L83.0984 778.245 Z\" fill=\"#000000\" fill-rule=\"nonzero\" fill-opacity=\"1\" /><path clip-path=\"url(#clip150)\" d=\"M98.2141 749.565 L116.57 749.565 L116.57 753.5 L102.496 753.5 L102.496 761.972 Q103.515 761.625 104.534 761.463 Q105.552 761.278 106.571 761.278 Q112.358 761.278 115.737 764.449 Q119.117 767.62 119.117 773.037 Q119.117 778.616 115.645 781.717 Q112.172 784.796 105.853 784.796 Q103.677 784.796 101.409 784.426 Q99.1632 784.055 96.7558 783.315 L96.7558 778.616 Q98.8391 779.75 101.061 780.305 Q103.284 780.861 105.76 780.861 Q109.765 780.861 112.103 778.754 Q114.441 776.648 114.441 773.037 Q114.441 769.426 112.103 767.319 Q109.765 765.213 105.76 765.213 Q103.885 765.213 102.01 765.63 Q100.159 766.046 98.2141 766.926 L98.2141 749.565 Z\" fill=\"#000000\" fill-rule=\"nonzero\" fill-opacity=\"1\" /><path clip-path=\"url(#clip150)\" d=\"M138.33 752.644 Q134.719 752.644 132.89 756.208 Q131.084 759.75 131.084 766.88 Q131.084 773.986 132.89 777.551 Q134.719 781.092 138.33 781.092 Q141.964 781.092 143.769 777.551 Q145.598 773.986 145.598 766.88 Q145.598 759.75 143.769 756.208 Q141.964 752.644 138.33 752.644 M138.33 748.94 Q144.14 748.94 147.195 753.546 Q150.274 758.13 150.274 766.88 Q150.274 775.606 147.195 780.213 Q144.14 784.796 138.33 784.796 Q132.519 784.796 129.441 780.213 Q126.385 775.606 126.385 766.88 Q126.385 758.13 129.441 753.546 Q132.519 748.94 138.33 748.94 Z\" fill=\"#000000\" fill-rule=\"nonzero\" fill-opacity=\"1\" /><path clip-path=\"url(#clip150)\" d=\"M63.9319 413.208 Q60.3208 413.208 58.4921 416.773 Q56.6865 420.314 56.6865 427.444 Q56.6865 434.55 58.4921 438.115 Q60.3208 441.657 63.9319 441.657 Q67.5661 441.657 69.3717 438.115 Q71.2004 434.55 71.2004 427.444 Q71.2004 420.314 69.3717 416.773 Q67.5661 413.208 63.9319 413.208 M63.9319 409.504 Q69.742 409.504 72.7976 414.111 Q75.8763 418.694 75.8763 427.444 Q75.8763 436.171 72.7976 440.777 Q69.742 445.361 63.9319 445.361 Q58.1217 445.361 55.043 440.777 Q51.9875 436.171 51.9875 427.444 Q51.9875 418.694 55.043 414.111 Q58.1217 409.504 63.9319 409.504 Z\" fill=\"#000000\" fill-rule=\"nonzero\" fill-opacity=\"1\" /><path clip-path=\"url(#clip150)\" d=\"M84.0938 438.81 L88.978 438.81 L88.978 444.689 L84.0938 444.689 L84.0938 438.81 Z\" fill=\"#000000\" fill-rule=\"nonzero\" fill-opacity=\"1\" /><path clip-path=\"url(#clip150)\" d=\"M97.9826 410.129 L120.205 410.129 L120.205 412.12 L107.658 444.689 L102.774 444.689 L114.58 414.064 L97.9826 414.064 L97.9826 410.129 Z\" fill=\"#000000\" fill-rule=\"nonzero\" fill-opacity=\"1\" /><path clip-path=\"url(#clip150)\" d=\"M129.371 410.129 L147.728 410.129 L147.728 414.064 L133.654 414.064 L133.654 422.537 Q134.672 422.189 135.691 422.027 Q136.709 421.842 137.728 421.842 Q143.515 421.842 146.894 425.014 Q150.274 428.185 150.274 433.601 Q150.274 439.18 146.802 442.282 Q143.33 445.361 137.01 445.361 Q134.834 445.361 132.566 444.99 Q130.32 444.62 127.913 443.879 L127.913 439.18 Q129.996 440.314 132.219 440.87 Q134.441 441.425 136.918 441.425 Q140.922 441.425 143.26 439.319 Q145.598 437.213 145.598 433.601 Q145.598 429.99 143.26 427.884 Q140.922 425.777 136.918 425.777 Q135.043 425.777 133.168 426.194 Q131.316 426.611 129.371 427.49 L129.371 410.129 Z\" fill=\"#000000\" fill-rule=\"nonzero\" fill-opacity=\"1\" /><path clip-path=\"url(#clip150)\" d=\"M53.7467 101.319 L61.3856 101.319 L61.3856 74.9531 L53.0754 76.6197 L53.0754 72.3605 L61.3393 70.6938 L66.0152 70.6938 L66.0152 101.319 L73.654 101.319 L73.654 105.254 L53.7467 105.254 L53.7467 101.319 Z\" fill=\"#000000\" fill-rule=\"nonzero\" fill-opacity=\"1\" /><path clip-path=\"url(#clip150)\" d=\"M83.0984 99.3742 L87.9827 99.3742 L87.9827 105.254 L83.0984 105.254 L83.0984 99.3742 Z\" fill=\"#000000\" fill-rule=\"nonzero\" fill-opacity=\"1\" /><path clip-path=\"url(#clip150)\" d=\"M108.168 73.7725 Q104.557 73.7725 102.728 77.3373 Q100.922 80.879 100.922 88.0086 Q100.922 95.115 102.728 98.6798 Q104.557 102.221 108.168 102.221 Q111.802 102.221 113.608 98.6798 Q115.436 95.115 115.436 88.0086 Q115.436 80.879 113.608 77.3373 Q111.802 73.7725 108.168 73.7725 M108.168 70.0689 Q113.978 70.0689 117.033 74.6753 Q120.112 79.2586 120.112 88.0086 Q120.112 96.7354 117.033 101.342 Q113.978 105.925 108.168 105.925 Q102.358 105.925 99.2789 101.342 Q96.2234 96.7354 96.2234 88.0086 Q96.2234 79.2586 99.2789 74.6753 Q102.358 70.0689 108.168 70.0689 Z\" fill=\"#000000\" fill-rule=\"nonzero\" fill-opacity=\"1\" /><path clip-path=\"url(#clip150)\" d=\"M138.33 73.7725 Q134.719 73.7725 132.89 77.3373 Q131.084 80.879 131.084 88.0086 Q131.084 95.115 132.89 98.6798 Q134.719 102.221 138.33 102.221 Q141.964 102.221 143.769 98.6798 Q145.598 95.115 145.598 88.0086 Q145.598 80.879 143.769 77.3373 Q141.964 73.7725 138.33 73.7725 M138.33 70.0689 Q144.14 70.0689 147.195 74.6753 Q150.274 79.2586 150.274 88.0086 Q150.274 96.7354 147.195 101.342 Q144.14 105.925 138.33 105.925 Q132.519 105.925 129.441 101.342 Q126.385 96.7354 126.385 88.0086 Q126.385 79.2586 129.441 74.6753 Q132.519 70.0689 138.33 70.0689 Z\" fill=\"#000000\" fill-rule=\"nonzero\" fill-opacity=\"1\" /><polyline clip-path=\"url(#clip152)\" style=\"stroke:#009af9; stroke-linecap:round; stroke-linejoin:round; stroke-width:4; stroke-opacity:1; fill:none\" points=\"247.59,87.9763 268.234,87.9771 288.879,87.9783 309.524,87.9798 330.169,87.9819 350.814,87.9848 371.459,87.9886 392.104,87.9938 412.749,88.0008 433.394,88.0102 454.039,88.0229 474.684,88.0402 495.329,88.0634 515.974,88.0948 536.619,88.1372 557.264,88.1945 577.909,88.2719 598.554,88.3763 619.199,88.5174 639.844,88.708 660.489,88.9652 681.134,89.3125 701.779,89.7813 722.424,90.414 743.069,91.2676 763.713,92.4188 784.358,93.9706 805.003,96.0609 825.648,98.8741 846.293,102.655 866.938,107.728 887.583,114.52 908.228,123.585 928.873,135.635 949.518,151.565 970.163,172.477 990.808,199.672 1011.45,234.61 1032.1,278.804 1052.74,333.616 1073.39,399.961 1094.03,477.943 1114.68,566.496 1135.32,663.207 1155.97,764.424 1176.61,865.75 1197.26,962.765 1217.9,1051.77 1238.55,1130.29 1259.19,1197.19 1279.84,1252.53 1300.48,1297.2 1321.13,1332.55 1341.77,1360.08 1362.42,1381.25 1383.06,1397.39 1403.71,1409.61 1424.35,1418.8 1445,1425.68 1465.64,1430.83 1486.29,1434.66 1506.93,1437.51 1527.58,1439.63 1548.22,1441.21 1568.87,1442.37 1589.51,1443.24 1610.16,1443.88 1630.8,1444.36 1651.45,1444.71 1672.09,1444.97 1692.74,1445.16 1713.38,1445.31 1734.03,1445.41 1754.67,1445.49 1775.32,1445.55 1795.96,1445.59 1816.61,1445.62 1837.25,1445.65 1857.9,1445.67 1878.54,1445.68 1899.19,1445.69 1919.83,1445.7 1940.48,1445.7 1961.12,1445.7 1981.77,1445.71 2002.41,1445.71 2023.06,1445.71 2043.7,1445.71 2064.35,1445.71 2084.99,1445.71 2105.64,1445.71 2126.28,1445.71 2146.93,1445.72 2167.57,1445.72 2188.22,1445.72 2208.86,1445.72 2229.51,1445.72 2250.15,1445.72 2270.8,1445.72 2291.44,1445.72 \"/>\n",
       "<path clip-path=\"url(#clip150)\" d=\"M2011.46 198.898 L2280.54 198.898 L2280.54 95.2176 L2011.46 95.2176  Z\" fill=\"#ffffff\" fill-rule=\"evenodd\" fill-opacity=\"1\"/>\n",
       "<polyline clip-path=\"url(#clip150)\" style=\"stroke:#000000; stroke-linecap:round; stroke-linejoin:round; stroke-width:4; stroke-opacity:1; fill:none\" points=\"2011.46,198.898 2280.54,198.898 2280.54,95.2176 2011.46,95.2176 2011.46,198.898 \"/>\n",
       "<polyline clip-path=\"url(#clip150)\" style=\"stroke:#009af9; stroke-linecap:round; stroke-linejoin:round; stroke-width:4; stroke-opacity:1; fill:none\" points=\"2035.53,147.058 2179.97,147.058 \"/>\n",
       "<path clip-path=\"url(#clip150)\" d=\"M2217.88 166.745 Q2216.07 171.375 2214.36 172.787 Q2212.65 174.199 2209.78 174.199 L2206.38 174.199 L2206.38 170.634 L2208.88 170.634 Q2210.63 170.634 2211.61 169.8 Q2212.58 168.967 2213.76 165.865 L2214.52 163.921 L2204.04 138.412 L2208.55 138.412 L2216.65 158.689 L2224.76 138.412 L2229.27 138.412 L2217.88 166.745 Z\" fill=\"#000000\" fill-rule=\"nonzero\" fill-opacity=\"1\" /><path clip-path=\"url(#clip150)\" d=\"M2236.56 160.402 L2244.2 160.402 L2244.2 134.037 L2235.89 135.703 L2235.89 131.444 L2244.15 129.778 L2248.83 129.778 L2248.83 160.402 L2256.47 160.402 L2256.47 164.338 L2236.56 164.338 L2236.56 160.402 Z\" fill=\"#000000\" fill-rule=\"nonzero\" fill-opacity=\"1\" /></svg>\n"
      ],
      "text/html": [
       "<?xml version=\"1.0\" encoding=\"utf-8\"?>\n",
       "<svg xmlns=\"http://www.w3.org/2000/svg\" xmlns:xlink=\"http://www.w3.org/1999/xlink\" width=\"600\" height=\"400\" viewBox=\"0 0 2400 1600\">\n",
       "<defs>\n",
       "  <clipPath id=\"clip200\">\n",
       "    <rect x=\"0\" y=\"0\" width=\"2400\" height=\"1600\"/>\n",
       "  </clipPath>\n",
       "</defs>\n",
       "<path clip-path=\"url(#clip200)\" d=\"M0 1600 L2400 1600 L2400 0 L0 0  Z\" fill=\"#ffffff\" fill-rule=\"evenodd\" fill-opacity=\"1\"/>\n",
       "<defs>\n",
       "  <clipPath id=\"clip201\">\n",
       "    <rect x=\"480\" y=\"0\" width=\"1681\" height=\"1600\"/>\n",
       "  </clipPath>\n",
       "</defs>\n",
       "<path clip-path=\"url(#clip200)\" d=\"M186.274 1486.45 L2352.76 1486.45 L2352.76 47.2441 L186.274 47.2441  Z\" fill=\"#ffffff\" fill-rule=\"evenodd\" fill-opacity=\"1\"/>\n",
       "<defs>\n",
       "  <clipPath id=\"clip202\">\n",
       "    <rect x=\"186\" y=\"47\" width=\"2167\" height=\"1440\"/>\n",
       "  </clipPath>\n",
       "</defs>\n",
       "<polyline clip-path=\"url(#clip202)\" style=\"stroke:#000000; stroke-linecap:round; stroke-linejoin:round; stroke-width:2; stroke-opacity:0.1; fill:none\" points=\"247.59,1486.45 247.59,47.2441 \"/>\n",
       "<polyline clip-path=\"url(#clip202)\" style=\"stroke:#000000; stroke-linecap:round; stroke-linejoin:round; stroke-width:2; stroke-opacity:0.1; fill:none\" points=\"758.552,1486.45 758.552,47.2441 \"/>\n",
       "<polyline clip-path=\"url(#clip202)\" style=\"stroke:#000000; stroke-linecap:round; stroke-linejoin:round; stroke-width:2; stroke-opacity:0.1; fill:none\" points=\"1269.51,1486.45 1269.51,47.2441 \"/>\n",
       "<polyline clip-path=\"url(#clip202)\" style=\"stroke:#000000; stroke-linecap:round; stroke-linejoin:round; stroke-width:2; stroke-opacity:0.1; fill:none\" points=\"1780.48,1486.45 1780.48,47.2441 \"/>\n",
       "<polyline clip-path=\"url(#clip202)\" style=\"stroke:#000000; stroke-linecap:round; stroke-linejoin:round; stroke-width:2; stroke-opacity:0.1; fill:none\" points=\"2291.44,1486.45 2291.44,47.2441 \"/>\n",
       "<polyline clip-path=\"url(#clip202)\" style=\"stroke:#000000; stroke-linecap:round; stroke-linejoin:round; stroke-width:2; stroke-opacity:0.1; fill:none\" points=\"186.274,1445.72 2352.76,1445.72 \"/>\n",
       "<polyline clip-path=\"url(#clip202)\" style=\"stroke:#000000; stroke-linecap:round; stroke-linejoin:round; stroke-width:2; stroke-opacity:0.1; fill:none\" points=\"186.274,1106.28 2352.76,1106.28 \"/>\n",
       "<polyline clip-path=\"url(#clip202)\" style=\"stroke:#000000; stroke-linecap:round; stroke-linejoin:round; stroke-width:2; stroke-opacity:0.1; fill:none\" points=\"186.274,766.845 2352.76,766.845 \"/>\n",
       "<polyline clip-path=\"url(#clip202)\" style=\"stroke:#000000; stroke-linecap:round; stroke-linejoin:round; stroke-width:2; stroke-opacity:0.1; fill:none\" points=\"186.274,427.409 2352.76,427.409 \"/>\n",
       "<polyline clip-path=\"url(#clip202)\" style=\"stroke:#000000; stroke-linecap:round; stroke-linejoin:round; stroke-width:2; stroke-opacity:0.1; fill:none\" points=\"186.274,87.9738 2352.76,87.9738 \"/>\n",
       "<polyline clip-path=\"url(#clip200)\" style=\"stroke:#000000; stroke-linecap:round; stroke-linejoin:round; stroke-width:4; stroke-opacity:1; fill:none\" points=\"186.274,1486.45 2352.76,1486.45 \"/>\n",
       "<polyline clip-path=\"url(#clip200)\" style=\"stroke:#000000; stroke-linecap:round; stroke-linejoin:round; stroke-width:4; stroke-opacity:1; fill:none\" points=\"247.59,1486.45 247.59,1467.55 \"/>\n",
       "<polyline clip-path=\"url(#clip200)\" style=\"stroke:#000000; stroke-linecap:round; stroke-linejoin:round; stroke-width:4; stroke-opacity:1; fill:none\" points=\"758.552,1486.45 758.552,1467.55 \"/>\n",
       "<polyline clip-path=\"url(#clip200)\" style=\"stroke:#000000; stroke-linecap:round; stroke-linejoin:round; stroke-width:4; stroke-opacity:1; fill:none\" points=\"1269.51,1486.45 1269.51,1467.55 \"/>\n",
       "<polyline clip-path=\"url(#clip200)\" style=\"stroke:#000000; stroke-linecap:round; stroke-linejoin:round; stroke-width:4; stroke-opacity:1; fill:none\" points=\"1780.48,1486.45 1780.48,1467.55 \"/>\n",
       "<polyline clip-path=\"url(#clip200)\" style=\"stroke:#000000; stroke-linecap:round; stroke-linejoin:round; stroke-width:4; stroke-opacity:1; fill:none\" points=\"2291.44,1486.45 2291.44,1467.55 \"/>\n",
       "<path clip-path=\"url(#clip200)\" d=\"M251.837 1530.21 Q255.194 1530.93 257.069 1533.2 Q258.967 1535.47 258.967 1538.8 Q258.967 1543.92 255.448 1546.72 Q251.93 1549.52 245.448 1549.52 Q243.272 1549.52 240.958 1549.08 Q238.666 1548.66 236.212 1547.81 L236.212 1543.29 Q238.157 1544.43 240.472 1545.01 Q242.786 1545.58 245.309 1545.58 Q249.708 1545.58 251.999 1543.85 Q254.314 1542.11 254.314 1538.8 Q254.314 1535.75 252.161 1534.03 Q250.032 1532.3 246.212 1532.3 L242.184 1532.3 L242.184 1528.45 L246.397 1528.45 Q249.846 1528.45 251.675 1527.09 Q253.504 1525.7 253.504 1523.11 Q253.504 1520.45 251.606 1519.03 Q249.731 1517.6 246.212 1517.6 Q244.291 1517.6 242.092 1518.01 Q239.893 1518.43 237.254 1519.31 L237.254 1515.14 Q239.916 1514.4 242.231 1514.03 Q244.569 1513.66 246.629 1513.66 Q251.953 1513.66 255.055 1516.09 Q258.157 1518.5 258.157 1522.62 Q258.157 1525.49 256.513 1527.48 Q254.87 1529.45 251.837 1530.21 Z\" fill=\"#000000\" fill-rule=\"nonzero\" fill-opacity=\"1\" /><path clip-path=\"url(#clip200)\" d=\"M761.561 1518.36 L749.756 1536.81 L761.561 1536.81 L761.561 1518.36 M760.335 1514.29 L766.214 1514.29 L766.214 1536.81 L771.145 1536.81 L771.145 1540.7 L766.214 1540.7 L766.214 1548.85 L761.561 1548.85 L761.561 1540.7 L745.96 1540.7 L745.96 1536.19 L760.335 1514.29 Z\" fill=\"#000000\" fill-rule=\"nonzero\" fill-opacity=\"1\" /><path clip-path=\"url(#clip200)\" d=\"M1259.79 1514.29 L1278.15 1514.29 L1278.15 1518.22 L1264.08 1518.22 L1264.08 1526.7 Q1265.09 1526.35 1266.11 1526.19 Q1267.13 1526 1268.15 1526 Q1273.94 1526 1277.32 1529.17 Q1280.7 1532.34 1280.7 1537.76 Q1280.7 1543.34 1277.22 1546.44 Q1273.75 1549.52 1267.43 1549.52 Q1265.26 1549.52 1262.99 1549.15 Q1260.74 1548.78 1258.33 1548.04 L1258.33 1543.34 Q1260.42 1544.47 1262.64 1545.03 Q1264.86 1545.58 1267.34 1545.58 Q1271.34 1545.58 1273.68 1543.48 Q1276.02 1541.37 1276.02 1537.76 Q1276.02 1534.15 1273.68 1532.04 Q1271.34 1529.94 1267.34 1529.94 Q1265.46 1529.94 1263.59 1530.35 Q1261.74 1530.77 1259.79 1531.65 L1259.79 1514.29 Z\" fill=\"#000000\" fill-rule=\"nonzero\" fill-opacity=\"1\" /><path clip-path=\"url(#clip200)\" d=\"M1780.88 1529.7 Q1777.73 1529.7 1775.88 1531.86 Q1774.05 1534.01 1774.05 1537.76 Q1774.05 1541.49 1775.88 1543.66 Q1777.73 1545.82 1780.88 1545.82 Q1784.03 1545.82 1785.86 1543.66 Q1787.71 1541.49 1787.71 1537.76 Q1787.71 1534.01 1785.86 1531.86 Q1784.03 1529.7 1780.88 1529.7 M1790.17 1515.05 L1790.17 1519.31 Q1788.41 1518.48 1786.6 1518.04 Q1784.82 1517.6 1783.06 1517.6 Q1778.43 1517.6 1775.98 1520.72 Q1773.54 1523.85 1773.2 1530.17 Q1774.56 1528.15 1776.62 1527.09 Q1778.68 1526 1781.16 1526 Q1786.37 1526 1789.38 1529.17 Q1792.41 1532.32 1792.41 1537.76 Q1792.41 1543.08 1789.26 1546.3 Q1786.11 1549.52 1780.88 1549.52 Q1774.89 1549.52 1771.72 1544.94 Q1768.54 1540.33 1768.54 1531.6 Q1768.54 1523.41 1772.43 1518.55 Q1776.32 1513.66 1782.87 1513.66 Q1784.63 1513.66 1786.42 1514.01 Q1788.22 1514.36 1790.17 1515.05 Z\" fill=\"#000000\" fill-rule=\"nonzero\" fill-opacity=\"1\" /><path clip-path=\"url(#clip200)\" d=\"M2280.33 1514.29 L2302.55 1514.29 L2302.55 1516.28 L2290.01 1548.85 L2285.12 1548.85 L2296.93 1518.22 L2280.33 1518.22 L2280.33 1514.29 Z\" fill=\"#000000\" fill-rule=\"nonzero\" fill-opacity=\"1\" /><polyline clip-path=\"url(#clip200)\" style=\"stroke:#000000; stroke-linecap:round; stroke-linejoin:round; stroke-width:4; stroke-opacity:1; fill:none\" points=\"186.274,1486.45 186.274,47.2441 \"/>\n",
       "<polyline clip-path=\"url(#clip200)\" style=\"stroke:#000000; stroke-linecap:round; stroke-linejoin:round; stroke-width:4; stroke-opacity:1; fill:none\" points=\"186.274,1445.72 205.172,1445.72 \"/>\n",
       "<polyline clip-path=\"url(#clip200)\" style=\"stroke:#000000; stroke-linecap:round; stroke-linejoin:round; stroke-width:4; stroke-opacity:1; fill:none\" points=\"186.274,1106.28 205.172,1106.28 \"/>\n",
       "<polyline clip-path=\"url(#clip200)\" style=\"stroke:#000000; stroke-linecap:round; stroke-linejoin:round; stroke-width:4; stroke-opacity:1; fill:none\" points=\"186.274,766.845 205.172,766.845 \"/>\n",
       "<polyline clip-path=\"url(#clip200)\" style=\"stroke:#000000; stroke-linecap:round; stroke-linejoin:round; stroke-width:4; stroke-opacity:1; fill:none\" points=\"186.274,427.409 205.172,427.409 \"/>\n",
       "<polyline clip-path=\"url(#clip200)\" style=\"stroke:#000000; stroke-linecap:round; stroke-linejoin:round; stroke-width:4; stroke-opacity:1; fill:none\" points=\"186.274,87.9738 205.172,87.9738 \"/>\n",
       "<path clip-path=\"url(#clip200)\" d=\"M62.9365 1431.51 Q59.3254 1431.51 57.4967 1435.08 Q55.6912 1438.62 55.6912 1445.75 Q55.6912 1452.86 57.4967 1456.42 Q59.3254 1459.96 62.9365 1459.96 Q66.5707 1459.96 68.3763 1456.42 Q70.205 1452.86 70.205 1445.75 Q70.205 1438.62 68.3763 1435.08 Q66.5707 1431.51 62.9365 1431.51 M62.9365 1427.81 Q68.7467 1427.81 71.8022 1432.42 Q74.8809 1437 74.8809 1445.75 Q74.8809 1454.48 71.8022 1459.08 Q68.7467 1463.67 62.9365 1463.67 Q57.1264 1463.67 54.0477 1459.08 Q50.9921 1454.48 50.9921 1445.75 Q50.9921 1437 54.0477 1432.42 Q57.1264 1427.81 62.9365 1427.81 Z\" fill=\"#000000\" fill-rule=\"nonzero\" fill-opacity=\"1\" /><path clip-path=\"url(#clip200)\" d=\"M83.0984 1457.12 L87.9827 1457.12 L87.9827 1463 L83.0984 1463 L83.0984 1457.12 Z\" fill=\"#000000\" fill-rule=\"nonzero\" fill-opacity=\"1\" /><path clip-path=\"url(#clip200)\" d=\"M108.168 1431.51 Q104.557 1431.51 102.728 1435.08 Q100.922 1438.62 100.922 1445.75 Q100.922 1452.86 102.728 1456.42 Q104.557 1459.96 108.168 1459.96 Q111.802 1459.96 113.608 1456.42 Q115.436 1452.86 115.436 1445.75 Q115.436 1438.62 113.608 1435.08 Q111.802 1431.51 108.168 1431.51 M108.168 1427.81 Q113.978 1427.81 117.033 1432.42 Q120.112 1437 120.112 1445.75 Q120.112 1454.48 117.033 1459.08 Q113.978 1463.67 108.168 1463.67 Q102.358 1463.67 99.2789 1459.08 Q96.2234 1454.48 96.2234 1445.75 Q96.2234 1437 99.2789 1432.42 Q102.358 1427.81 108.168 1427.81 Z\" fill=\"#000000\" fill-rule=\"nonzero\" fill-opacity=\"1\" /><path clip-path=\"url(#clip200)\" d=\"M138.33 1431.51 Q134.719 1431.51 132.89 1435.08 Q131.084 1438.62 131.084 1445.75 Q131.084 1452.86 132.89 1456.42 Q134.719 1459.96 138.33 1459.96 Q141.964 1459.96 143.769 1456.42 Q145.598 1452.86 145.598 1445.75 Q145.598 1438.62 143.769 1435.08 Q141.964 1431.51 138.33 1431.51 M138.33 1427.81 Q144.14 1427.81 147.195 1432.42 Q150.274 1437 150.274 1445.75 Q150.274 1454.48 147.195 1459.08 Q144.14 1463.67 138.33 1463.67 Q132.519 1463.67 129.441 1459.08 Q126.385 1454.48 126.385 1445.75 Q126.385 1437 129.441 1432.42 Q132.519 1427.81 138.33 1427.81 Z\" fill=\"#000000\" fill-rule=\"nonzero\" fill-opacity=\"1\" /><path clip-path=\"url(#clip200)\" d=\"M63.9319 1092.08 Q60.3208 1092.08 58.4921 1095.64 Q56.6865 1099.19 56.6865 1106.32 Q56.6865 1113.42 58.4921 1116.99 Q60.3208 1120.53 63.9319 1120.53 Q67.5661 1120.53 69.3717 1116.99 Q71.2004 1113.42 71.2004 1106.32 Q71.2004 1099.19 69.3717 1095.64 Q67.5661 1092.08 63.9319 1092.08 M63.9319 1088.38 Q69.742 1088.38 72.7976 1092.98 Q75.8763 1097.57 75.8763 1106.32 Q75.8763 1115.04 72.7976 1119.65 Q69.742 1124.23 63.9319 1124.23 Q58.1217 1124.23 55.043 1119.65 Q51.9875 1115.04 51.9875 1106.32 Q51.9875 1097.57 55.043 1092.98 Q58.1217 1088.38 63.9319 1088.38 Z\" fill=\"#000000\" fill-rule=\"nonzero\" fill-opacity=\"1\" /><path clip-path=\"url(#clip200)\" d=\"M84.0938 1117.68 L88.978 1117.68 L88.978 1123.56 L84.0938 1123.56 L84.0938 1117.68 Z\" fill=\"#000000\" fill-rule=\"nonzero\" fill-opacity=\"1\" /><path clip-path=\"url(#clip200)\" d=\"M103.191 1119.63 L119.51 1119.63 L119.51 1123.56 L97.566 1123.56 L97.566 1119.63 Q100.228 1116.87 104.811 1112.24 Q109.418 1107.59 110.598 1106.25 Q112.844 1103.72 113.723 1101.99 Q114.626 1100.23 114.626 1098.54 Q114.626 1095.78 112.682 1094.05 Q110.76 1092.31 107.658 1092.31 Q105.459 1092.31 103.006 1093.07 Q100.575 1093.84 97.7974 1095.39 L97.7974 1090.67 Q100.621 1089.53 103.075 1088.95 Q105.529 1088.38 107.566 1088.38 Q112.936 1088.38 116.131 1091.06 Q119.325 1093.75 119.325 1098.24 Q119.325 1100.37 118.515 1102.29 Q117.728 1104.19 115.621 1106.78 Q115.043 1107.45 111.941 1110.67 Q108.839 1113.86 103.191 1119.63 Z\" fill=\"#000000\" fill-rule=\"nonzero\" fill-opacity=\"1\" /><path clip-path=\"url(#clip200)\" d=\"M129.371 1089 L147.728 1089 L147.728 1092.94 L133.654 1092.94 L133.654 1101.41 Q134.672 1101.06 135.691 1100.9 Q136.709 1100.71 137.728 1100.71 Q143.515 1100.71 146.894 1103.88 Q150.274 1107.06 150.274 1112.47 Q150.274 1118.05 146.802 1121.15 Q143.33 1124.23 137.01 1124.23 Q134.834 1124.23 132.566 1123.86 Q130.32 1123.49 127.913 1122.75 L127.913 1118.05 Q129.996 1119.19 132.219 1119.74 Q134.441 1120.3 136.918 1120.3 Q140.922 1120.3 143.26 1118.19 Q145.598 1116.08 145.598 1112.47 Q145.598 1108.86 143.26 1106.75 Q140.922 1104.65 136.918 1104.65 Q135.043 1104.65 133.168 1105.07 Q131.316 1105.48 129.371 1106.36 L129.371 1089 Z\" fill=\"#000000\" fill-rule=\"nonzero\" fill-opacity=\"1\" /><path clip-path=\"url(#clip200)\" d=\"M62.9365 752.644 Q59.3254 752.644 57.4967 756.208 Q55.6912 759.75 55.6912 766.88 Q55.6912 773.986 57.4967 777.551 Q59.3254 781.092 62.9365 781.092 Q66.5707 781.092 68.3763 777.551 Q70.205 773.986 70.205 766.88 Q70.205 759.75 68.3763 756.208 Q66.5707 752.644 62.9365 752.644 M62.9365 748.94 Q68.7467 748.94 71.8022 753.546 Q74.8809 758.13 74.8809 766.88 Q74.8809 775.606 71.8022 780.213 Q68.7467 784.796 62.9365 784.796 Q57.1264 784.796 54.0477 780.213 Q50.9921 775.606 50.9921 766.88 Q50.9921 758.13 54.0477 753.546 Q57.1264 748.94 62.9365 748.94 Z\" fill=\"#000000\" fill-rule=\"nonzero\" fill-opacity=\"1\" /><path clip-path=\"url(#clip200)\" d=\"M83.0984 778.245 L87.9827 778.245 L87.9827 784.125 L83.0984 784.125 L83.0984 778.245 Z\" fill=\"#000000\" fill-rule=\"nonzero\" fill-opacity=\"1\" /><path clip-path=\"url(#clip200)\" d=\"M98.2141 749.565 L116.57 749.565 L116.57 753.5 L102.496 753.5 L102.496 761.972 Q103.515 761.625 104.534 761.463 Q105.552 761.278 106.571 761.278 Q112.358 761.278 115.737 764.449 Q119.117 767.62 119.117 773.037 Q119.117 778.616 115.645 781.717 Q112.172 784.796 105.853 784.796 Q103.677 784.796 101.409 784.426 Q99.1632 784.055 96.7558 783.315 L96.7558 778.616 Q98.8391 779.75 101.061 780.305 Q103.284 780.861 105.76 780.861 Q109.765 780.861 112.103 778.754 Q114.441 776.648 114.441 773.037 Q114.441 769.426 112.103 767.319 Q109.765 765.213 105.76 765.213 Q103.885 765.213 102.01 765.63 Q100.159 766.046 98.2141 766.926 L98.2141 749.565 Z\" fill=\"#000000\" fill-rule=\"nonzero\" fill-opacity=\"1\" /><path clip-path=\"url(#clip200)\" d=\"M138.33 752.644 Q134.719 752.644 132.89 756.208 Q131.084 759.75 131.084 766.88 Q131.084 773.986 132.89 777.551 Q134.719 781.092 138.33 781.092 Q141.964 781.092 143.769 777.551 Q145.598 773.986 145.598 766.88 Q145.598 759.75 143.769 756.208 Q141.964 752.644 138.33 752.644 M138.33 748.94 Q144.14 748.94 147.195 753.546 Q150.274 758.13 150.274 766.88 Q150.274 775.606 147.195 780.213 Q144.14 784.796 138.33 784.796 Q132.519 784.796 129.441 780.213 Q126.385 775.606 126.385 766.88 Q126.385 758.13 129.441 753.546 Q132.519 748.94 138.33 748.94 Z\" fill=\"#000000\" fill-rule=\"nonzero\" fill-opacity=\"1\" /><path clip-path=\"url(#clip200)\" d=\"M63.9319 413.208 Q60.3208 413.208 58.4921 416.773 Q56.6865 420.314 56.6865 427.444 Q56.6865 434.55 58.4921 438.115 Q60.3208 441.657 63.9319 441.657 Q67.5661 441.657 69.3717 438.115 Q71.2004 434.55 71.2004 427.444 Q71.2004 420.314 69.3717 416.773 Q67.5661 413.208 63.9319 413.208 M63.9319 409.504 Q69.742 409.504 72.7976 414.111 Q75.8763 418.694 75.8763 427.444 Q75.8763 436.171 72.7976 440.777 Q69.742 445.361 63.9319 445.361 Q58.1217 445.361 55.043 440.777 Q51.9875 436.171 51.9875 427.444 Q51.9875 418.694 55.043 414.111 Q58.1217 409.504 63.9319 409.504 Z\" fill=\"#000000\" fill-rule=\"nonzero\" fill-opacity=\"1\" /><path clip-path=\"url(#clip200)\" d=\"M84.0938 438.81 L88.978 438.81 L88.978 444.689 L84.0938 444.689 L84.0938 438.81 Z\" fill=\"#000000\" fill-rule=\"nonzero\" fill-opacity=\"1\" /><path clip-path=\"url(#clip200)\" d=\"M97.9826 410.129 L120.205 410.129 L120.205 412.12 L107.658 444.689 L102.774 444.689 L114.58 414.064 L97.9826 414.064 L97.9826 410.129 Z\" fill=\"#000000\" fill-rule=\"nonzero\" fill-opacity=\"1\" /><path clip-path=\"url(#clip200)\" d=\"M129.371 410.129 L147.728 410.129 L147.728 414.064 L133.654 414.064 L133.654 422.537 Q134.672 422.189 135.691 422.027 Q136.709 421.842 137.728 421.842 Q143.515 421.842 146.894 425.014 Q150.274 428.185 150.274 433.601 Q150.274 439.18 146.802 442.282 Q143.33 445.361 137.01 445.361 Q134.834 445.361 132.566 444.99 Q130.32 444.62 127.913 443.879 L127.913 439.18 Q129.996 440.314 132.219 440.87 Q134.441 441.425 136.918 441.425 Q140.922 441.425 143.26 439.319 Q145.598 437.213 145.598 433.601 Q145.598 429.99 143.26 427.884 Q140.922 425.777 136.918 425.777 Q135.043 425.777 133.168 426.194 Q131.316 426.611 129.371 427.49 L129.371 410.129 Z\" fill=\"#000000\" fill-rule=\"nonzero\" fill-opacity=\"1\" /><path clip-path=\"url(#clip200)\" d=\"M53.7467 101.319 L61.3856 101.319 L61.3856 74.9531 L53.0754 76.6197 L53.0754 72.3605 L61.3393 70.6938 L66.0152 70.6938 L66.0152 101.319 L73.654 101.319 L73.654 105.254 L53.7467 105.254 L53.7467 101.319 Z\" fill=\"#000000\" fill-rule=\"nonzero\" fill-opacity=\"1\" /><path clip-path=\"url(#clip200)\" d=\"M83.0984 99.3742 L87.9827 99.3742 L87.9827 105.254 L83.0984 105.254 L83.0984 99.3742 Z\" fill=\"#000000\" fill-rule=\"nonzero\" fill-opacity=\"1\" /><path clip-path=\"url(#clip200)\" d=\"M108.168 73.7725 Q104.557 73.7725 102.728 77.3373 Q100.922 80.879 100.922 88.0086 Q100.922 95.115 102.728 98.6798 Q104.557 102.221 108.168 102.221 Q111.802 102.221 113.608 98.6798 Q115.436 95.115 115.436 88.0086 Q115.436 80.879 113.608 77.3373 Q111.802 73.7725 108.168 73.7725 M108.168 70.0689 Q113.978 70.0689 117.033 74.6753 Q120.112 79.2586 120.112 88.0086 Q120.112 96.7354 117.033 101.342 Q113.978 105.925 108.168 105.925 Q102.358 105.925 99.2789 101.342 Q96.2234 96.7354 96.2234 88.0086 Q96.2234 79.2586 99.2789 74.6753 Q102.358 70.0689 108.168 70.0689 Z\" fill=\"#000000\" fill-rule=\"nonzero\" fill-opacity=\"1\" /><path clip-path=\"url(#clip200)\" d=\"M138.33 73.7725 Q134.719 73.7725 132.89 77.3373 Q131.084 80.879 131.084 88.0086 Q131.084 95.115 132.89 98.6798 Q134.719 102.221 138.33 102.221 Q141.964 102.221 143.769 98.6798 Q145.598 95.115 145.598 88.0086 Q145.598 80.879 143.769 77.3373 Q141.964 73.7725 138.33 73.7725 M138.33 70.0689 Q144.14 70.0689 147.195 74.6753 Q150.274 79.2586 150.274 88.0086 Q150.274 96.7354 147.195 101.342 Q144.14 105.925 138.33 105.925 Q132.519 105.925 129.441 101.342 Q126.385 96.7354 126.385 88.0086 Q126.385 79.2586 129.441 74.6753 Q132.519 70.0689 138.33 70.0689 Z\" fill=\"#000000\" fill-rule=\"nonzero\" fill-opacity=\"1\" /><polyline clip-path=\"url(#clip202)\" style=\"stroke:#009af9; stroke-linecap:round; stroke-linejoin:round; stroke-width:4; stroke-opacity:1; fill:none\" points=\"247.59,87.9763 268.234,87.9771 288.879,87.9783 309.524,87.9798 330.169,87.9819 350.814,87.9848 371.459,87.9886 392.104,87.9938 412.749,88.0008 433.394,88.0102 454.039,88.0229 474.684,88.0402 495.329,88.0634 515.974,88.0948 536.619,88.1372 557.264,88.1945 577.909,88.2719 598.554,88.3763 619.199,88.5174 639.844,88.708 660.489,88.9652 681.134,89.3125 701.779,89.7813 722.424,90.414 743.069,91.2676 763.713,92.4188 784.358,93.9706 805.003,96.0609 825.648,98.8741 846.293,102.655 866.938,107.728 887.583,114.52 908.228,123.585 928.873,135.635 949.518,151.565 970.163,172.477 990.808,199.672 1011.45,234.61 1032.1,278.804 1052.74,333.616 1073.39,399.961 1094.03,477.943 1114.68,566.496 1135.32,663.207 1155.97,764.424 1176.61,865.75 1197.26,962.765 1217.9,1051.77 1238.55,1130.29 1259.19,1197.19 1279.84,1252.53 1300.48,1297.2 1321.13,1332.55 1341.77,1360.08 1362.42,1381.25 1383.06,1397.39 1403.71,1409.61 1424.35,1418.8 1445,1425.68 1465.64,1430.83 1486.29,1434.66 1506.93,1437.51 1527.58,1439.63 1548.22,1441.21 1568.87,1442.37 1589.51,1443.24 1610.16,1443.88 1630.8,1444.36 1651.45,1444.71 1672.09,1444.97 1692.74,1445.16 1713.38,1445.31 1734.03,1445.41 1754.67,1445.49 1775.32,1445.55 1795.96,1445.59 1816.61,1445.62 1837.25,1445.65 1857.9,1445.67 1878.54,1445.68 1899.19,1445.69 1919.83,1445.7 1940.48,1445.7 1961.12,1445.7 1981.77,1445.71 2002.41,1445.71 2023.06,1445.71 2043.7,1445.71 2064.35,1445.71 2084.99,1445.71 2105.64,1445.71 2126.28,1445.71 2146.93,1445.72 2167.57,1445.72 2188.22,1445.72 2208.86,1445.72 2229.51,1445.72 2250.15,1445.72 2270.8,1445.72 2291.44,1445.72 \"/>\n",
       "<path clip-path=\"url(#clip200)\" d=\"M2011.46 198.898 L2280.54 198.898 L2280.54 95.2176 L2011.46 95.2176  Z\" fill=\"#ffffff\" fill-rule=\"evenodd\" fill-opacity=\"1\"/>\n",
       "<polyline clip-path=\"url(#clip200)\" style=\"stroke:#000000; stroke-linecap:round; stroke-linejoin:round; stroke-width:4; stroke-opacity:1; fill:none\" points=\"2011.46,198.898 2280.54,198.898 2280.54,95.2176 2011.46,95.2176 2011.46,198.898 \"/>\n",
       "<polyline clip-path=\"url(#clip200)\" style=\"stroke:#009af9; stroke-linecap:round; stroke-linejoin:round; stroke-width:4; stroke-opacity:1; fill:none\" points=\"2035.53,147.058 2179.97,147.058 \"/>\n",
       "<path clip-path=\"url(#clip200)\" d=\"M2217.88 166.745 Q2216.07 171.375 2214.36 172.787 Q2212.65 174.199 2209.78 174.199 L2206.38 174.199 L2206.38 170.634 L2208.88 170.634 Q2210.63 170.634 2211.61 169.8 Q2212.58 168.967 2213.76 165.865 L2214.52 163.921 L2204.04 138.412 L2208.55 138.412 L2216.65 158.689 L2224.76 138.412 L2229.27 138.412 L2217.88 166.745 Z\" fill=\"#000000\" fill-rule=\"nonzero\" fill-opacity=\"1\" /><path clip-path=\"url(#clip200)\" d=\"M2236.56 160.402 L2244.2 160.402 L2244.2 134.037 L2235.89 135.703 L2235.89 131.444 L2244.15 129.778 L2248.83 129.778 L2248.83 160.402 L2256.47 160.402 L2256.47 164.338 L2236.56 164.338 L2236.56 160.402 Z\" fill=\"#000000\" fill-rule=\"nonzero\" fill-opacity=\"1\" /></svg>\n"
      ]
     },
     "execution_count": 11,
     "metadata": {},
     "output_type": "execute_result"
    }
   ],
   "source": [
    "plotneuron(logreg1Dmodel; leftbound=3, rightbound=7)"
   ]
  },
  {
   "cell_type": "code",
   "execution_count": null,
   "id": "764331e2",
   "metadata": {},
   "outputs": [],
   "source": [
    "function plotlinreg(neur::SingleNeuron)\n",
    "    scatter(versicolordata[:, :sepallength], versicolordata[:, :sepalwidth], label = \"Versicolor data\", ms=3)\n",
    "    SingleNeuronJulia.plotneuron!(neur; leftbound=minimum(versicolordata[:, :sepallength]), rightbound=maximum(versicolordata[:, :sepallength]))\n",
    "end\n",
    "linregmodel = SingleNeuron(1, :linearregression)\n",
    "plotlinreg(linregmodel)\n"
   ]
  },
  {
   "cell_type": "code",
   "execution_count": null,
   "id": "e5eeac77",
   "metadata": {},
   "outputs": [],
   "source": [
    "train!(linregmodel, versicolordata[:, :sepallength], versicolordata[:, :sepalwidth], numepochs=10)\n"
   ]
  },
  {
   "cell_type": "code",
   "execution_count": null,
   "id": "51b80bef",
   "metadata": {},
   "outputs": [],
   "source": [
    "perceptrondata = subset(irisdata.dataframe, :class => species -> isequal.(species, \"Iris-setosa\") .|| isequal.(species, \"Iris-versicolor\"))\n",
    "perceptrontargets = map(perceptrondata[:, :class]) do species\n",
    "    if species == \"Iris-setosa\"\n",
    "        return 1\n",
    "    elseif species == \"Iris-versicolor\"\n",
    "        return -1\n",
    "    else\n",
    "        return NaN\n",
    "    end\n",
    "end\n",
    "perceptroninputs = perceptrondata[:, [:sepallength, :sepalwidth]]\n",
    "plotdomain = range(minimum(perceptrondata[:, :sepallength]), maximum(perceptrondata[:, :sepallength]), length=100)\n",
    "perceptronlinefunc(x, neur::SingleNeuron) = (neur.weights[1].*x .+ neur.bias) ./ -neur.weights[2]\n",
    "function plotperceptron(neur::SingleNeuron)\n",
    "    scatter(setosadata[:, :sepallength], setosadata[:, :sepalwidth], label=\"Setosa\", mc=:blue, ms=3)\n",
    "    scatter!(versicolordata[:, :sepallength], versicolordata[:, :sepalwidth], label=\"Versicolor\", mc=:magenta, ms=3)\n",
    "    plot!(plotdomain, perceptronlinefunc(plotdomain, neur))\n",
    "end\n"
   ]
  },
  {
   "cell_type": "code",
   "execution_count": null,
   "id": "7881f22b",
   "metadata": {},
   "outputs": [],
   "source": [
    "perceptronmodel = SingleNeuron(2, :perceptron)\n",
    "predict(perceptronmodel, perceptroninputs)\n",
    "plotperceptron(perceptronmodel)\n"
   ]
  },
  {
   "cell_type": "code",
   "execution_count": null,
   "id": "cfe0c05c",
   "metadata": {},
   "outputs": [],
   "source": []
  },
  {
   "cell_type": "code",
   "execution_count": null,
   "id": "55bab87d",
   "metadata": {},
   "outputs": [],
   "source": [
    "train!(perceptronmodel, perceptroninputs, perceptrontargets; learningrate=0.05, numepochs=5)"
   ]
  },
  {
   "cell_type": "code",
   "execution_count": null,
   "id": "72c04bfc",
   "metadata": {},
   "outputs": [],
   "source": [
    "using MLDatasets\n",
    "using Plots\n",
    "using DataFrames"
   ]
  },
  {
   "cell_type": "code",
   "execution_count": null,
   "id": "f29b892d",
   "metadata": {},
   "outputs": [],
   "source": [
    "irisdata = Iris()"
   ]
  },
  {
   "cell_type": "code",
   "execution_count": null,
   "id": "c5005243",
   "metadata": {},
   "outputs": [],
   "source": [
    "perceptrondata = subset(irisdata.dataframe, :class => species -> isequal.(species, \"Iris-setosa\") .|| isequal.(species, \"Iris-versicolor\"))\n",
    "perceptrontargets = map(perceptrondata[:, :class]) do species\n",
    "    if species == \"Iris-setosa\"\n",
    "        return 1\n",
    "    elseif species == \"Iris-versicolor\"\n",
    "        return -1\n",
    "    else\n",
    "        return NaN\n",
    "    end\n",
    "end\n",
    "perceptroninputs = perceptrondata[:, [:sepallength, :sepalwidth]]\n",
    "setosadata = subset(irisdata.dataframe, :class => species -> isequal.(species, \"Iris-setosa\"))\n",
    "versicolordata = subset(irisdata.dataframe, :class => species -> isequal.(species, \"Iris-versicolor\"))"
   ]
  },
  {
   "cell_type": "code",
   "execution_count": null,
   "id": "1cf326c0",
   "metadata": {},
   "outputs": [],
   "source": [
    "include(\"Single Neuron (draft)/SingleNeuronJulia.jl\")"
   ]
  },
  {
   "cell_type": "code",
   "execution_count": null,
   "id": "d708cc0d",
   "metadata": {},
   "outputs": [],
   "source": [
    "plotdomain = range(minimum(perceptrondata[:, :sepallength]), maximum(perceptrondata[:, :sepallength]), length=100)\n",
    "perceptronlinefunc(x, neur::SingleNeuron) = (neur.weights[1].*x .- neur.bias) ./ -neur.weights[2]\n",
    "function plotperceptron(neur::SingleNeuron)\n",
    "    scatter(setosadata[:, :sepallength], setosadata[:, :sepalwidth], label=\"Setosa\", mc=:blue, ms=3)\n",
    "    scatter!(versicolordata[:, :sepallength], versicolordata[:, :sepalwidth], label=\"Versicolor\", mc=:magenta, ms=3)\n",
    "    plot!(plotdomain, perceptronlinefunc(plotdomain, neur))\n",
    "end"
   ]
  },
  {
   "cell_type": "code",
   "execution_count": null,
   "id": "ae157fe0",
   "metadata": {},
   "outputs": [],
   "source": []
  },
  {
   "cell_type": "code",
   "execution_count": null,
   "id": "5f5a524b",
   "metadata": {},
   "outputs": [
    {
     "data": {
      "text/plain": [
       "Plots.GRBackend()"
      ]
     },
     "execution_count": 3,
     "metadata": {},
     "output_type": "execute_result"
    }
   ],
   "source": [
    "gr()"
   ]
  },
  {
   "cell_type": "code",
   "execution_count": null,
   "id": "eb222f1b",
   "metadata": {},
   "outputs": [],
   "source": [
    "include(\"SingleNeuronJulia.jl\")"
   ]
  },
  {
   "cell_type": "code",
   "execution_count": null,
   "id": "aa8af187",
   "metadata": {},
   "outputs": [
    {
     "data": {
      "text/plain": [
       "SingleNeuron{typeof(sign_zeropositive), typeof(perceptronstochasticgradient), typeof(perceptronloss)}(Main.SingleNeuronJulia.sign_zeropositive, Main.SingleNeuronJulia.perceptronstochasticgradient, Main.SingleNeuronJulia.perceptronloss, [0.0, 0.0], 0.0, [0.0, 0.0], 0.0, Float64[], Float64[])"
      ]
     },
     "execution_count": 5,
     "metadata": {},
     "output_type": "execute_result"
    }
   ],
   "source": [
    "perceptron_model = SingleNeuron(2, :perceptron)"
   ]
  },
  {
   "cell_type": "code",
   "execution_count": null,
   "id": "d544b64e",
   "metadata": {},
   "outputs": [],
   "source": []
  },
  {
   "cell_type": "code",
   "execution_count": null,
   "id": "4256b7cb",
   "metadata": {},
   "outputs": [
    {
     "data": {
      "text/plain": [
       "Plots.PlotlyBackend()"
      ]
     },
     "execution_count": 4,
     "metadata": {},
     "output_type": "execute_result"
    }
   ],
   "source": [
    "plotly()"
   ]
  },
  {
   "cell_type": "code",
   "execution_count": null,
   "id": "11c36ae7",
   "metadata": {},
   "outputs": [
    {
     "data": {
      "application/vnd.plotly.v1+json": {
       "data": [
        {
         "colorbar": {
          "len": 0.9525371828521435,
          "title": "",
          "x": 0.9934383202099738,
          "y": 0.513888888888889
         },
         "legendgroup": "y1",
         "line": {
          "color": "rgba(0, 154, 250, 1.000)",
          "dash": "solid",
          "shape": "linear",
          "width": 1
         },
         "mode": "lines",
         "name": "y1",
         "showlegend": true,
         "type": "scatter",
         "x": [
          0,
          0.10101010101010101,
          0.20202020202020202,
          0.30303030303030304,
          0.40404040404040403,
          0.5050505050505051,
          0.6060606060606061,
          0.7070707070707071,
          0.8080808080808081,
          0.9090909090909091,
          1.0101010101010102,
          1.1111111111111112,
          1.2121212121212122,
          1.3131313131313131,
          1.4141414141414141,
          1.5151515151515151,
          1.6161616161616161,
          1.7171717171717171,
          1.8181818181818181,
          1.9191919191919191,
          2.0202020202020203,
          2.121212121212121,
          2.2222222222222223,
          2.323232323232323,
          2.4242424242424243,
          2.525252525252525,
          2.6262626262626263,
          2.727272727272727,
          2.8282828282828283,
          2.9292929292929295,
          3.0303030303030303,
          3.1313131313131315,
          3.2323232323232323,
          3.3333333333333335,
          3.4343434343434343,
          3.5353535353535355,
          3.6363636363636362,
          3.7373737373737375,
          3.8383838383838382,
          3.9393939393939394,
          4.040404040404041,
          4.141414141414141,
          4.242424242424242,
          4.343434343434343,
          4.444444444444445,
          4.545454545454546,
          4.646464646464646,
          4.747474747474747,
          4.848484848484849,
          4.94949494949495,
          5.05050505050505,
          5.151515151515151,
          5.252525252525253,
          5.353535353535354,
          5.454545454545454,
          5.555555555555555,
          5.656565656565657,
          5.757575757575758,
          5.858585858585859,
          5.959595959595959,
          6.0606060606060606,
          6.161616161616162,
          6.262626262626263,
          6.363636363636363,
          6.4646464646464645,
          6.565656565656566,
          6.666666666666667,
          6.767676767676767,
          6.8686868686868685,
          6.96969696969697,
          7.070707070707071,
          7.171717171717172,
          7.2727272727272725,
          7.373737373737374,
          7.474747474747475,
          7.575757575757576,
          7.6767676767676765,
          7.777777777777778,
          7.878787878787879,
          7.97979797979798,
          8.080808080808081,
          8.181818181818182,
          8.282828282828282,
          8.383838383838384,
          8.484848484848484,
          8.585858585858587,
          8.686868686868687,
          8.787878787878787,
          8.88888888888889,
          8.98989898989899,
          9.090909090909092,
          9.191919191919192,
          9.292929292929292,
          9.393939393939394,
          9.494949494949495,
          9.595959595959595,
          9.696969696969697,
          9.797979797979798,
          9.8989898989899,
          10
         ],
         "xaxis": "x",
         "y": [
          0,
          0.1008384202581046,
          0.2006488565226854,
          0.2984138044476411,
          0.3931366121483298,
          0.48385164043793466,
          0.5696341069089657,
          0.6496095135057065,
          0.7229625614794605,
          0.7889454628442574,
          0.8468855636029834,
          0.8961922010299563,
          0.9363627251042848,
          0.9669876227092996,
          0.9877546923600838,
          0.9984522269003895,
          0.9989711717233568,
          0.9893062365143401,
          0.9695559491823237,
          0.9399216514301312,
          0.9007054462029555,
          0.8523071179396752,
          0.7952200570230491,
          0.7300262299764464,
          0.6573902466827755,
          0.5780525851065732,
          0.4928220425889235,
          0.40256749066949654,
          0.30820901749007684,
          0.21070854807719247,
          0.11106003812412972,
          0.010279341240534253,
          -0.09060614703340773,
          -0.19056796287548539,
          -0.28858705872043244,
          -0.38366419180611233,
          -0.47483011082223947,
          -0.5611554368152017,
          -0.6417601376193878,
          -0.7158224992291902,
          -0.7825875026542022,
          -0.8413745208608701,
          -0.8915842573351402,
          -0.9327048555318336,
          -0.9643171169287782,
          -0.9860987744909298,
          -0.9978277779792126,
          -0.9993845576124357,
          -0.9907532430056771,
          -0.9720218249588334,
          -0.9433812584459996,
          -0.9051235159501367,
          -0.8576386109880517,
          -0.8014106221689696,
          -0.7370127583189133,
          -0.6651015149788224,
          -0.586409981847235,
          -0.5017403693939113,
          -0.41195583083086196,
          -0.31797166281061867,
          -0.22074597455506334,
          -0.12126992053716677,
          -0.020557596287259176,
          0.08036429967028173,
          0.18046693235991093,
          0.27872981867755725,
          0.37415123057121996,
          0.4657584070256517,
          0.5526174707464059,
          0.6338429484489058,
          0.7086067976992182,
          0.776146848283581,
          0.8357745720522589,
          0.8868821020290788,
          0.9289484292312513,
          0.9615447140268237,
          0.9843386578838236,
          0.9970978909438748,
          0.9996923408861117,
          0.9920955589323227,
          0.9743849894755358,
          0.9467411805833543,
          0.9094459434244625,
          0.8628794793817836,
          0.8075165041395626,
          0.7439214082568444,
          0.6727425035622647,
          0.5947054140244975,
          0.510605678474283,
          0.4213006405886069,
          0.32770070881349816,
          0.23076007532505177,
          0.13146698864295842,
          0.03083367906114098,
          -0.07011396040064677,
          -0.1703468323280965,
          -0.26884312591038406,
          -0.3645987336558887,
          -0.45663748763377376,
          -0.5440211108893698
         ],
         "yaxis": "y"
        }
       ],
       "layout": {
        "annotations": [],
        "height": 400,
        "legend": {
         "bgcolor": "rgba(255, 255, 255, 1.000)",
         "bordercolor": "rgba(0, 0, 0, 1.000)",
         "borderwidth": 1,
         "font": {
          "color": "rgba(0, 0, 0, 1.000)",
          "family": "sans-serif",
          "size": 11
         },
         "title": {
          "font": {
           "color": "rgba(0, 0, 0, 1.000)",
           "family": "sans-serif",
           "size": 15
          },
          "text": ""
         },
         "tracegroupgap": 0,
         "traceorder": "normal",
         "x": 1,
         "xanchor": "auto",
         "y": 1,
         "yanchor": "auto"
        },
        "margin": {
         "b": 20,
         "l": 0,
         "r": 0,
         "t": 20
        },
        "paper_bgcolor": "rgba(255, 255, 255, 1.000)",
        "plot_bgcolor": "rgba(255, 255, 255, 1.000)",
        "showlegend": true,
        "width": 600,
        "xaxis": {
         "anchor": "y",
         "domain": [
          0.0658209390492855,
          0.9934383202099738
         ],
         "gridcolor": "rgba(0, 0, 0, 0.100)",
         "gridwidth": 0.5,
         "linecolor": "rgba(0, 0, 0, 1.000)",
         "mirror": false,
         "range": [
          -0.3000000000000007,
          10.3
         ],
         "showgrid": true,
         "showline": true,
         "showticklabels": true,
         "tickangle": 0,
         "tickcolor": "rgb(0, 0, 0)",
         "tickfont": {
          "color": "rgba(0, 0, 0, 1.000)",
          "family": "sans-serif",
          "size": 11
         },
         "tickmode": "array",
         "ticks": "inside",
         "ticktext": [
          "0.0",
          "2.5",
          "5.0",
          "7.5",
          "10.0"
         ],
         "tickvals": [
          0,
          2.5,
          5,
          7.5,
          10
         ],
         "title": "",
         "titlefont": {
          "color": "rgba(0, 0, 0, 1.000)",
          "family": "sans-serif",
          "size": 15
         },
         "type": "-",
         "visible": true,
         "zeroline": false,
         "zerolinecolor": "rgba(0, 0, 0, 1.000)"
        },
        "yaxis": {
         "anchor": "x",
         "domain": [
          0.03762029746281716,
          0.9901574803149606
         ],
         "gridcolor": "rgba(0, 0, 0, 0.100)",
         "gridwidth": 0.5,
         "linecolor": "rgba(0, 0, 0, 1.000)",
         "mirror": false,
         "range": [
          -1.059356864567392,
          1.059664647841068
         ],
         "showgrid": true,
         "showline": true,
         "showticklabels": true,
         "tickangle": 0,
         "tickcolor": "rgb(0, 0, 0)",
         "tickfont": {
          "color": "rgba(0, 0, 0, 1.000)",
          "family": "sans-serif",
          "size": 11
         },
         "tickmode": "array",
         "ticks": "inside",
         "ticktext": [
          "−1.0",
          "−0.5",
          "0.0",
          "0.5",
          "1.0"
         ],
         "tickvals": [
          -1,
          -0.5,
          0,
          0.5,
          1
         ],
         "title": "",
         "titlefont": {
          "color": "rgba(0, 0, 0, 1.000)",
          "family": "sans-serif",
          "size": 15
         },
         "type": "-",
         "visible": true,
         "zeroline": false,
         "zerolinecolor": "rgba(0, 0, 0, 1.000)"
        }
       }
      },
      "text/html": [
       "    <div id=\"ac425c8f-4678-4205-95c7-8f740d091958\" style=\"width:600px;height:400px;\"></div>\n",
       "    <script>\n",
       "        requirejs.config({\n",
       "        paths: {\n",
       "            plotly: 'https://cdn.plot.ly/plotly-2.6.3.min'\n",
       "        }\n",
       "    });\n",
       "    require(['plotly'], function (Plotly) {\n",
       "\n",
       "    Plotly.newPlot('ac425c8f-4678-4205-95c7-8f740d091958', [\n",
       "    {\n",
       "        \"xaxis\": \"x\",\n",
       "        \"colorbar\": {\n",
       "            \"y\": 0.513888888888889,\n",
       "            \"title\": \"\",\n",
       "            \"len\": 0.9525371828521435,\n",
       "            \"x\": 0.9934383202099738\n",
       "        },\n",
       "        \"yaxis\": \"y\",\n",
       "        \"x\": [\n",
       "            0.0,\n",
       "            0.10101010101010101,\n",
       "            0.20202020202020202,\n",
       "            0.30303030303030304,\n",
       "            0.40404040404040403,\n",
       "            0.5050505050505051,\n",
       "            0.6060606060606061,\n",
       "            0.7070707070707071,\n",
       "            0.8080808080808081,\n",
       "            0.9090909090909091,\n",
       "            1.0101010101010102,\n",
       "            1.1111111111111112,\n",
       "            1.2121212121212122,\n",
       "            1.3131313131313131,\n",
       "            1.4141414141414141,\n",
       "            1.5151515151515151,\n",
       "            1.6161616161616161,\n",
       "            1.7171717171717171,\n",
       "            1.8181818181818181,\n",
       "            1.9191919191919191,\n",
       "            2.0202020202020203,\n",
       "            2.121212121212121,\n",
       "            2.2222222222222223,\n",
       "            2.323232323232323,\n",
       "            2.4242424242424243,\n",
       "            2.525252525252525,\n",
       "            2.6262626262626263,\n",
       "            2.727272727272727,\n",
       "            2.8282828282828283,\n",
       "            2.9292929292929295,\n",
       "            3.0303030303030303,\n",
       "            3.1313131313131315,\n",
       "            3.2323232323232323,\n",
       "            3.3333333333333335,\n",
       "            3.4343434343434343,\n",
       "            3.5353535353535355,\n",
       "            3.6363636363636362,\n",
       "            3.7373737373737375,\n",
       "            3.8383838383838382,\n",
       "            3.9393939393939394,\n",
       "            4.040404040404041,\n",
       "            4.141414141414141,\n",
       "            4.242424242424242,\n",
       "            4.343434343434343,\n",
       "            4.444444444444445,\n",
       "            4.545454545454546,\n",
       "            4.646464646464646,\n",
       "            4.747474747474747,\n",
       "            4.848484848484849,\n",
       "            4.94949494949495,\n",
       "            5.05050505050505,\n",
       "            5.151515151515151,\n",
       "            5.252525252525253,\n",
       "            5.353535353535354,\n",
       "            5.454545454545454,\n",
       "            5.555555555555555,\n",
       "            5.656565656565657,\n",
       "            5.757575757575758,\n",
       "            5.858585858585859,\n",
       "            5.959595959595959,\n",
       "            6.0606060606060606,\n",
       "            6.161616161616162,\n",
       "            6.262626262626263,\n",
       "            6.363636363636363,\n",
       "            6.4646464646464645,\n",
       "            6.565656565656566,\n",
       "            6.666666666666667,\n",
       "            6.767676767676767,\n",
       "            6.8686868686868685,\n",
       "            6.96969696969697,\n",
       "            7.070707070707071,\n",
       "            7.171717171717172,\n",
       "            7.2727272727272725,\n",
       "            7.373737373737374,\n",
       "            7.474747474747475,\n",
       "            7.575757575757576,\n",
       "            7.6767676767676765,\n",
       "            7.777777777777778,\n",
       "            7.878787878787879,\n",
       "            7.97979797979798,\n",
       "            8.080808080808081,\n",
       "            8.181818181818182,\n",
       "            8.282828282828282,\n",
       "            8.383838383838384,\n",
       "            8.484848484848484,\n",
       "            8.585858585858587,\n",
       "            8.686868686868687,\n",
       "            8.787878787878787,\n",
       "            8.88888888888889,\n",
       "            8.98989898989899,\n",
       "            9.090909090909092,\n",
       "            9.191919191919192,\n",
       "            9.292929292929292,\n",
       "            9.393939393939394,\n",
       "            9.494949494949495,\n",
       "            9.595959595959595,\n",
       "            9.696969696969697,\n",
       "            9.797979797979798,\n",
       "            9.8989898989899,\n",
       "            10.0\n",
       "        ],\n",
       "        \"showlegend\": true,\n",
       "        \"mode\": \"lines\",\n",
       "        \"name\": \"y1\",\n",
       "        \"legendgroup\": \"y1\",\n",
       "        \"line\": {\n",
       "            \"color\": \"rgba(0, 154, 250, 1.000)\",\n",
       "            \"shape\": \"linear\",\n",
       "            \"dash\": \"solid\",\n",
       "            \"width\": 1\n",
       "        },\n",
       "        \"y\": [\n",
       "            0.0,\n",
       "            0.1008384202581046,\n",
       "            0.2006488565226854,\n",
       "            0.2984138044476411,\n",
       "            0.3931366121483298,\n",
       "            0.48385164043793466,\n",
       "            0.5696341069089657,\n",
       "            0.6496095135057065,\n",
       "            0.7229625614794605,\n",
       "            0.7889454628442574,\n",
       "            0.8468855636029834,\n",
       "            0.8961922010299563,\n",
       "            0.9363627251042848,\n",
       "            0.9669876227092996,\n",
       "            0.9877546923600838,\n",
       "            0.9984522269003895,\n",
       "            0.9989711717233568,\n",
       "            0.9893062365143401,\n",
       "            0.9695559491823237,\n",
       "            0.9399216514301312,\n",
       "            0.9007054462029555,\n",
       "            0.8523071179396752,\n",
       "            0.7952200570230491,\n",
       "            0.7300262299764464,\n",
       "            0.6573902466827755,\n",
       "            0.5780525851065732,\n",
       "            0.4928220425889235,\n",
       "            0.40256749066949654,\n",
       "            0.30820901749007684,\n",
       "            0.21070854807719247,\n",
       "            0.11106003812412972,\n",
       "            0.010279341240534253,\n",
       "            -0.09060614703340773,\n",
       "            -0.19056796287548539,\n",
       "            -0.28858705872043244,\n",
       "            -0.38366419180611233,\n",
       "            -0.47483011082223947,\n",
       "            -0.5611554368152017,\n",
       "            -0.6417601376193878,\n",
       "            -0.7158224992291902,\n",
       "            -0.7825875026542022,\n",
       "            -0.8413745208608701,\n",
       "            -0.8915842573351402,\n",
       "            -0.9327048555318336,\n",
       "            -0.9643171169287782,\n",
       "            -0.9860987744909298,\n",
       "            -0.9978277779792126,\n",
       "            -0.9993845576124357,\n",
       "            -0.9907532430056771,\n",
       "            -0.9720218249588334,\n",
       "            -0.9433812584459996,\n",
       "            -0.9051235159501367,\n",
       "            -0.8576386109880517,\n",
       "            -0.8014106221689696,\n",
       "            -0.7370127583189133,\n",
       "            -0.6651015149788224,\n",
       "            -0.586409981847235,\n",
       "            -0.5017403693939113,\n",
       "            -0.41195583083086196,\n",
       "            -0.31797166281061867,\n",
       "            -0.22074597455506334,\n",
       "            -0.12126992053716677,\n",
       "            -0.020557596287259176,\n",
       "            0.08036429967028173,\n",
       "            0.18046693235991093,\n",
       "            0.27872981867755725,\n",
       "            0.37415123057121996,\n",
       "            0.4657584070256517,\n",
       "            0.5526174707464059,\n",
       "            0.6338429484489058,\n",
       "            0.7086067976992182,\n",
       "            0.776146848283581,\n",
       "            0.8357745720522589,\n",
       "            0.8868821020290788,\n",
       "            0.9289484292312513,\n",
       "            0.9615447140268237,\n",
       "            0.9843386578838236,\n",
       "            0.9970978909438748,\n",
       "            0.9996923408861117,\n",
       "            0.9920955589323227,\n",
       "            0.9743849894755358,\n",
       "            0.9467411805833543,\n",
       "            0.9094459434244625,\n",
       "            0.8628794793817836,\n",
       "            0.8075165041395626,\n",
       "            0.7439214082568444,\n",
       "            0.6727425035622647,\n",
       "            0.5947054140244975,\n",
       "            0.510605678474283,\n",
       "            0.4213006405886069,\n",
       "            0.32770070881349816,\n",
       "            0.23076007532505177,\n",
       "            0.13146698864295842,\n",
       "            0.03083367906114098,\n",
       "            -0.07011396040064677,\n",
       "            -0.1703468323280965,\n",
       "            -0.26884312591038406,\n",
       "            -0.3645987336558887,\n",
       "            -0.45663748763377376,\n",
       "            -0.5440211108893698\n",
       "        ],\n",
       "        \"type\": \"scatter\"\n",
       "    }\n",
       "]\n",
       ", {\n",
       "    \"showlegend\": true,\n",
       "    \"xaxis\": {\n",
       "        \"showticklabels\": true,\n",
       "        \"gridwidth\": 0.5,\n",
       "        \"tickvals\": [\n",
       "            0.0,\n",
       "            2.5,\n",
       "            5.0,\n",
       "            7.5,\n",
       "            10.0\n",
       "        ],\n",
       "        \"range\": [\n",
       "            -0.3000000000000007,\n",
       "            10.3\n",
       "        ],\n",
       "        \"domain\": [\n",
       "            0.0658209390492855,\n",
       "            0.9934383202099738\n",
       "        ],\n",
       "        \"mirror\": false,\n",
       "        \"tickangle\": 0,\n",
       "        \"showline\": true,\n",
       "        \"ticktext\": [\n",
       "            \"0.0\",\n",
       "            \"2.5\",\n",
       "            \"5.0\",\n",
       "            \"7.5\",\n",
       "            \"10.0\"\n",
       "        ],\n",
       "        \"zeroline\": false,\n",
       "        \"tickfont\": {\n",
       "            \"color\": \"rgba(0, 0, 0, 1.000)\",\n",
       "            \"family\": \"sans-serif\",\n",
       "            \"size\": 11\n",
       "        },\n",
       "        \"zerolinecolor\": \"rgba(0, 0, 0, 1.000)\",\n",
       "        \"anchor\": \"y\",\n",
       "        \"visible\": true,\n",
       "        \"ticks\": \"inside\",\n",
       "        \"tickmode\": \"array\",\n",
       "        \"linecolor\": \"rgba(0, 0, 0, 1.000)\",\n",
       "        \"showgrid\": true,\n",
       "        \"title\": \"\",\n",
       "        \"gridcolor\": \"rgba(0, 0, 0, 0.100)\",\n",
       "        \"titlefont\": {\n",
       "            \"color\": \"rgba(0, 0, 0, 1.000)\",\n",
       "            \"family\": \"sans-serif\",\n",
       "            \"size\": 15\n",
       "        },\n",
       "        \"tickcolor\": \"rgb(0, 0, 0)\",\n",
       "        \"type\": \"-\"\n",
       "    },\n",
       "    \"paper_bgcolor\": \"rgba(255, 255, 255, 1.000)\",\n",
       "    \"annotations\": [],\n",
       "    \"height\": 400,\n",
       "    \"margin\": {\n",
       "        \"l\": 0,\n",
       "        \"b\": 20,\n",
       "        \"r\": 0,\n",
       "        \"t\": 20\n",
       "    },\n",
       "    \"plot_bgcolor\": \"rgba(255, 255, 255, 1.000)\",\n",
       "    \"yaxis\": {\n",
       "        \"showticklabels\": true,\n",
       "        \"gridwidth\": 0.5,\n",
       "        \"tickvals\": [\n",
       "            -1.0,\n",
       "            -0.5,\n",
       "            0.0,\n",
       "            0.5,\n",
       "            1.0\n",
       "        ],\n",
       "        \"range\": [\n",
       "            -1.059356864567392,\n",
       "            1.059664647841068\n",
       "        ],\n",
       "        \"domain\": [\n",
       "            0.03762029746281716,\n",
       "            0.9901574803149606\n",
       "        ],\n",
       "        \"mirror\": false,\n",
       "        \"tickangle\": 0,\n",
       "        \"showline\": true,\n",
       "        \"ticktext\": [\n",
       "            \"−1.0\",\n",
       "            \"−0.5\",\n",
       "            \"0.0\",\n",
       "            \"0.5\",\n",
       "            \"1.0\"\n",
       "        ],\n",
       "        \"zeroline\": false,\n",
       "        \"tickfont\": {\n",
       "            \"color\": \"rgba(0, 0, 0, 1.000)\",\n",
       "            \"family\": \"sans-serif\",\n",
       "            \"size\": 11\n",
       "        },\n",
       "        \"zerolinecolor\": \"rgba(0, 0, 0, 1.000)\",\n",
       "        \"anchor\": \"x\",\n",
       "        \"visible\": true,\n",
       "        \"ticks\": \"inside\",\n",
       "        \"tickmode\": \"array\",\n",
       "        \"linecolor\": \"rgba(0, 0, 0, 1.000)\",\n",
       "        \"showgrid\": true,\n",
       "        \"title\": \"\",\n",
       "        \"gridcolor\": \"rgba(0, 0, 0, 0.100)\",\n",
       "        \"titlefont\": {\n",
       "            \"color\": \"rgba(0, 0, 0, 1.000)\",\n",
       "            \"family\": \"sans-serif\",\n",
       "            \"size\": 15\n",
       "        },\n",
       "        \"tickcolor\": \"rgb(0, 0, 0)\",\n",
       "        \"type\": \"-\"\n",
       "    },\n",
       "    \"legend\": {\n",
       "        \"yanchor\": \"auto\",\n",
       "        \"xanchor\": \"auto\",\n",
       "        \"bordercolor\": \"rgba(0, 0, 0, 1.000)\",\n",
       "        \"bgcolor\": \"rgba(255, 255, 255, 1.000)\",\n",
       "        \"borderwidth\": 1,\n",
       "        \"tracegroupgap\": 0,\n",
       "        \"y\": 1.0,\n",
       "        \"font\": {\n",
       "            \"color\": \"rgba(0, 0, 0, 1.000)\",\n",
       "            \"family\": \"sans-serif\",\n",
       "            \"size\": 11\n",
       "        },\n",
       "        \"title\": {\n",
       "            \"font\": {\n",
       "                \"color\": \"rgba(0, 0, 0, 1.000)\",\n",
       "                \"family\": \"sans-serif\",\n",
       "                \"size\": 15\n",
       "            },\n",
       "            \"text\": \"\"\n",
       "        },\n",
       "        \"traceorder\": \"normal\",\n",
       "        \"x\": 1.0\n",
       "    },\n",
       "    \"width\": 600\n",
       "}\n",
       ");\n",
       "    });\n",
       "    </script>\n"
      ]
     },
     "execution_count": 3,
     "metadata": {},
     "output_type": "execute_result"
    }
   ],
   "source": [
    "x = range(0,10,100)\n",
    "y = sin.(x)\n",
    "p = plot(x,y)"
   ]
  },
  {
   "cell_type": "code",
   "execution_count": null,
   "id": "c6c89c13",
   "metadata": {},
   "outputs": [],
   "source": [
    "using LinearAlgebra"
   ]
  },
  {
   "cell_type": "code",
   "execution_count": null,
   "id": "ed51b4ed",
   "metadata": {},
   "outputs": [],
   "source": [
    "\"Returns -1 if the argument is less than 0, 1 otherwise.\"\n",
    "sign_zeropositive(value) = value < 0.0 ? -1 : 1\n",
    "\n",
    "\"Returns the argument.\"\n",
    "linear(value) = value\n",
    "\n",
    "\"\"\"\n",
    "Returns the value of the sigmoid function at input_value.\n",
    "    \n",
    "    https://en.wikipedia.org/wiki/Sigmoid_function \n",
    "\"\"\"\n",
    "sigmoid(value) = 1.0 / (1.0 + exp(-value))\n"
   ]
  },
  {
   "cell_type": "code",
   "execution_count": null,
   "id": "7b0c29b2",
   "metadata": {},
   "outputs": [],
   "source": [
    "mat = [1 2; 3 4]"
   ]
  },
  {
   "cell_type": "code",
   "execution_count": null,
   "id": "19f2d6c0",
   "metadata": {},
   "outputs": [],
   "source": [
    "2size([1,2,3])[end]"
   ]
  },
  {
   "cell_type": "code",
   "execution_count": null,
   "id": "7f8b833a",
   "metadata": {},
   "outputs": [],
   "source": [
    "function perceptronloss(predictions, targets)\n",
    "    return 0.25 * sum((predictions .- targets).^2)\n",
    "end\n",
    "\n",
    "function linearregressionloss(predictions::AbstractArray, targets::AbstractArray)\n",
    "    return ( (1 / 2(size(targets)[end])) * sum((predictions .- targets).^2) )\n",
    "end\n",
    "\n",
    "function linearregressionloss(prediction::Number, target::Number)\n",
    "    return ( 0.5 * (prediction - target)^2)\n",
    "end\n",
    "\n",
    "function binarycrossentropyloss(predictions::AbstractArray, targets::AbstractArray)\n",
    "    return ( (1 / size(targets)[end]) \n",
    "            * sum(-targets .* log.(predictions)\n",
    "                  - ((1 .- targets).*log.(1 .- predictions))) )\n",
    "end\n",
    "\n",
    "function binarycrossentropyloss(prediction::Number, target::Number)\n",
    "    return ( -target * log(prediction)\n",
    "                  - ((1 - target)*log(1 - prediction)) )\n",
    "end\n",
    "\n",
    "function meansquarederror(predictions, targets)\n",
    "    return 0.5 .* (predictions .- targets).^2\n",
    "end"
   ]
  },
  {
   "cell_type": "code",
   "execution_count": null,
   "id": "ca192194",
   "metadata": {},
   "outputs": [],
   "source": [
    "function perceptronstochasticgradient(prediction, target)\n",
    "    return 0.5 * (prediction .- target)\n",
    "end\n",
    "\n",
    "function regressionstochasticgradient(prediction, target)\n",
    "    return prediction .- target\n",
    "end"
   ]
  },
  {
   "cell_type": "code",
   "execution_count": null,
   "id": "9fc88e18",
   "metadata": {},
   "outputs": [],
   "source": [
    "function preactivation(input, weights, bias)\n",
    "    return dot(input, weights) + bias\n",
    "end"
   ]
  },
  {
   "cell_type": "code",
   "execution_count": null,
   "id": "9a34f856",
   "metadata": {},
   "outputs": [],
   "source": [
    "const type_perceptron = \"perceptron\"\n",
    "const type_linearregression = \"linear regression\"\n",
    "const type_logisticregression = \"logistic regression\""
   ]
  },
  {
   "cell_type": "code",
   "execution_count": null,
   "id": "164c6766",
   "metadata": {},
   "outputs": [],
   "source": [
    "mutable struct SingleNeuron{ActivatorF, GradientF, LossF}\n",
    "    const activationfunction::ActivatorF\n",
    "    const gradient::GradientF\n",
    "    const loss::LossF\n",
    "    weights::Vector{Float64}\n",
    "    bias::Float64\n",
    "    previousweights::Vector{Float64}\n",
    "    previousbias::Float64\n",
    "    losshistory::Array{Float64,1}\n",
    "    prevlosshistory::Array{Float64,1}\n",
    "end "
   ]
  },
  {
   "cell_type": "code",
   "execution_count": null,
   "id": "60a2ad02",
   "metadata": {},
   "outputs": [],
   "source": [
    "SingleNeuron(activationfunction::Function, \n",
    "             gradientfunction::Function, \n",
    "             lossfunction::Function, \n",
    "             weights::Vector{Float64}, \n",
    "             bias::Float64) = begin\n",
    "        SingleNeuron{typeof(activationfunction), \n",
    "                    typeof(gradientfunction), \n",
    "                    typeof(lossfunction)}(activationfunction, gradientfunction, lossfunction, \n",
    "                                        weights, bias, weights, bias, [], [])\n",
    "    end\n"
   ]
  },
  {
   "cell_type": "code",
   "execution_count": null,
   "id": "3f0310d2",
   "metadata": {},
   "outputs": [],
   "source": [
    "\n",
    "SingleNeuron(datadimension::Int; \n",
    "             modeltype::String, \n",
    "             weights::Vector{Float64}=zeros(Float64, datadimension), \n",
    "             bias::Float64=0.0) = begin\n",
    "        if length(weights) != datadimension\n",
    "            error(\"Provided weight vector has length $(length(weights)) \\\n",
    "                    not of the supplied dimension $datadimension\")\n",
    "        end\n",
    "        if modeltype == type_perceptron\n",
    "            return SingleNeuron(sign_zeropositive, perceptronstochasticgradient, \n",
    "                                perceptronloss, weights, bias)\n",
    "        elseif modeltype == type_linearregression\n",
    "            return SingleNeuron(linear, regressionstochasticgradient, \n",
    "                                linearregressionloss, weights, bias)\n",
    "        elseif modeltype == type_logisticregression\n",
    "            return SingleNeuron(sigmoid, regressionstochasticgradient, \n",
    "                                binarycrossentropyloss, weights, bias)\n",
    "        else\n",
    "            error(\"\\\"$modeltype\\\" not a recognized model.\")\n",
    "        end\n",
    "    end"
   ]
  },
  {
   "cell_type": "code",
   "execution_count": null,
   "id": "391990db",
   "metadata": {},
   "outputs": [],
   "source": [
    "perceptron = SingleNeuron(2; modeltype=\"perceptron\")"
   ]
  },
  {
   "cell_type": "code",
   "execution_count": null,
   "id": "6a7d2fd7",
   "metadata": {},
   "outputs": [],
   "source": [
    "struct Test{dimension}\n",
    "    a::Vector{Float64}\n",
    "end"
   ]
  },
  {
   "cell_type": "code",
   "execution_count": null,
   "id": "7b873385",
   "metadata": {},
   "outputs": [],
   "source": [
    "a = Array{Float64,3}(undef)"
   ]
  },
  {
   "cell_type": "code",
   "execution_count": null,
   "id": "bb309cd8",
   "metadata": {},
   "outputs": [],
   "source": [
    "isconcretetype(Vector{Float64})"
   ]
  },
  {
   "cell_type": "code",
   "execution_count": null,
   "id": "87aa362a",
   "metadata": {},
   "outputs": [],
   "source": [
    "x::Vector{Float64} = [1,2,3]"
   ]
  },
  {
   "cell_type": "code",
   "execution_count": null,
   "id": "48bc9463",
   "metadata": {},
   "outputs": [],
   "source": [
    "typeof(x)"
   ]
  },
  {
   "cell_type": "code",
   "execution_count": null,
   "id": "9d738ff8",
   "metadata": {},
   "outputs": [],
   "source": [
    "x[3] = pi"
   ]
  },
  {
   "cell_type": "code",
   "execution_count": null,
   "id": "a16344b2",
   "metadata": {},
   "outputs": [],
   "source": [
    "typeof(x)"
   ]
  },
  {
   "cell_type": "code",
   "execution_count": null,
   "id": "04250e13",
   "metadata": {},
   "outputs": [],
   "source": [
    "@show test = Test{3}([1,2,3])\n",
    "@show test.a[2] = pi\n",
    "@show test.af\n",
    "@show isconcretetype(test.a)\n",
    "b = Array{Float64, 3}(nothing, 3)\n",
    "@show isconcretetype(b)\n",
    "b[1] = 1"
   ]
  },
  {
   "cell_type": "code",
   "execution_count": null,
   "id": "0f8c258e",
   "metadata": {},
   "outputs": [],
   "source": [
    "typeof(regressionstochasticgradient)"
   ]
  },
  {
   "cell_type": "code",
   "execution_count": null,
   "id": "7e6629f7",
   "metadata": {},
   "outputs": [],
   "source": [
    "length([1,2,3])"
   ]
  },
  {
   "cell_type": "code",
   "execution_count": null,
   "id": "9fe48ade",
   "metadata": {},
   "outputs": [],
   "source": [
    "zeros(Float64, 5)"
   ]
  },
  {
   "cell_type": "code",
   "execution_count": null,
   "id": "6c026fcf",
   "metadata": {},
   "outputs": [],
   "source": [
    "preactivation(pred, [targ, 0], 0)"
   ]
  },
  {
   "cell_type": "code",
   "execution_count": null,
   "id": "0968bdae",
   "metadata": {},
   "outputs": [],
   "source": [
    "func = regressionstochasticgradient"
   ]
  },
  {
   "cell_type": "code",
   "execution_count": null,
   "id": "d328b841",
   "metadata": {},
   "outputs": [],
   "source": [
    "@show pred = [-5, 1.2]\n",
    "@show targ = [-4.9, pi]"
   ]
  },
  {
   "cell_type": "code",
   "execution_count": null,
   "id": "30913f5e",
   "metadata": {},
   "outputs": [],
   "source": [
    "func(pred, targ)"
   ]
  },
  {
   "cell_type": "code",
   "execution_count": null,
   "id": "b6d1ab1b",
   "metadata": {},
   "outputs": [],
   "source": [
    "testvals = (-5, 1.2, pi)"
   ]
  },
  {
   "cell_type": "code",
   "execution_count": null,
   "id": "112bad29",
   "metadata": {},
   "outputs": [],
   "source": [
    "size([1...])[end]"
   ]
  },
  {
   "cell_type": "code",
   "execution_count": null,
   "id": "71e70bb8",
   "metadata": {},
   "outputs": [],
   "source": [
    "1 .- (1,2,3)"
   ]
  },
  {
   "cell_type": "code",
   "execution_count": null,
   "id": "4b9bed2f",
   "metadata": {},
   "outputs": [],
   "source": [
    "using Random"
   ]
  },
  {
   "cell_type": "code",
   "execution_count": null,
   "id": "d5846a53",
   "metadata": {},
   "outputs": [],
   "source": [
    "func = sigmoid"
   ]
  },
  {
   "cell_type": "code",
   "execution_count": null,
   "id": "e44ea8d6",
   "metadata": {},
   "outputs": [],
   "source": [
    "[(func(val), val) for val in (-5, -0.1, pi)]"
   ]
  },
  {
   "cell_type": "code",
   "execution_count": null,
   "id": "3c57dcb2",
   "metadata": {},
   "outputs": [],
   "source": [
    "map(val -> [sign_zeropositive(val), val], randn(5))\n",
    "[(sign_zeropositive(val), val) for val in randn(5)]"
   ]
  },
  {
   "cell_type": "code",
   "execution_count": null,
   "id": "68772dc0",
   "metadata": {},
   "outputs": [],
   "source": [
    "sign_zeropositive(0)"
   ]
  },
  {
   "cell_type": "code",
   "execution_count": null,
   "id": "e1eb5aaa",
   "metadata": {},
   "outputs": [],
   "source": [
    "x = 3"
   ]
  },
  {
   "cell_type": "code",
   "execution_count": null,
   "id": "01839b19",
   "metadata": {},
   "outputs": [],
   "source": [
    "@show x"
   ]
  }
 ],
 "metadata": {
  "kernelspec": {
   "display_name": "Julia 1.11.5",
   "language": "julia",
   "name": "julia-1.11"
  },
  "language_info": {
   "file_extension": ".jl",
   "mimetype": "application/julia",
   "name": "julia",
   "version": "1.11.5"
  }
 },
 "nbformat": 4,
 "nbformat_minor": 5
}
