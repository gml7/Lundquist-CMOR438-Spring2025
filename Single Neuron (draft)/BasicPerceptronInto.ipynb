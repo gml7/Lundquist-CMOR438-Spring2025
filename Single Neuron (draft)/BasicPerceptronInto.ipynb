{
  "cells": [
    {
      "cell_type": "code",
      "execution_count": 1,
      "metadata": {
        "colab": {
          "base_uri": "https://localhost:8080/",
          "height": 416
        },
        "id": "39QGeAyv9URw",
        "outputId": "d6b20ef4-794f-4ac6-d3d0-951662fed2e1"
      },
      "outputs": [
        {
          "data": {
            "text/html": [
              "<div>\n",
              "<style scoped>\n",
              "    .dataframe tbody tr th:only-of-type {\n",
              "        vertical-align: middle;\n",
              "    }\n",
              "\n",
              "    .dataframe tbody tr th {\n",
              "        vertical-align: top;\n",
              "    }\n",
              "\n",
              "    .dataframe thead th {\n",
              "        text-align: right;\n",
              "    }\n",
              "</style>\n",
              "<table border=\"1\" class=\"dataframe\">\n",
              "  <thead>\n",
              "    <tr style=\"text-align: right;\">\n",
              "      <th></th>\n",
              "      <th>sepal_length</th>\n",
              "      <th>sepal_width</th>\n",
              "      <th>species</th>\n",
              "    </tr>\n",
              "  </thead>\n",
              "  <tbody>\n",
              "    <tr>\n",
              "      <th>0</th>\n",
              "      <td>5.1</td>\n",
              "      <td>3.5</td>\n",
              "      <td>1</td>\n",
              "    </tr>\n",
              "    <tr>\n",
              "      <th>1</th>\n",
              "      <td>4.9</td>\n",
              "      <td>3.0</td>\n",
              "      <td>1</td>\n",
              "    </tr>\n",
              "    <tr>\n",
              "      <th>2</th>\n",
              "      <td>4.7</td>\n",
              "      <td>3.2</td>\n",
              "      <td>1</td>\n",
              "    </tr>\n",
              "    <tr>\n",
              "      <th>3</th>\n",
              "      <td>4.6</td>\n",
              "      <td>3.1</td>\n",
              "      <td>1</td>\n",
              "    </tr>\n",
              "    <tr>\n",
              "      <th>4</th>\n",
              "      <td>5.0</td>\n",
              "      <td>3.6</td>\n",
              "      <td>1</td>\n",
              "    </tr>\n",
              "    <tr>\n",
              "      <th>...</th>\n",
              "      <td>...</td>\n",
              "      <td>...</td>\n",
              "      <td>...</td>\n",
              "    </tr>\n",
              "    <tr>\n",
              "      <th>95</th>\n",
              "      <td>5.7</td>\n",
              "      <td>3.0</td>\n",
              "      <td>-1</td>\n",
              "    </tr>\n",
              "    <tr>\n",
              "      <th>96</th>\n",
              "      <td>5.7</td>\n",
              "      <td>2.9</td>\n",
              "      <td>-1</td>\n",
              "    </tr>\n",
              "    <tr>\n",
              "      <th>97</th>\n",
              "      <td>6.2</td>\n",
              "      <td>2.9</td>\n",
              "      <td>-1</td>\n",
              "    </tr>\n",
              "    <tr>\n",
              "      <th>98</th>\n",
              "      <td>5.1</td>\n",
              "      <td>2.5</td>\n",
              "      <td>-1</td>\n",
              "    </tr>\n",
              "    <tr>\n",
              "      <th>99</th>\n",
              "      <td>5.7</td>\n",
              "      <td>2.8</td>\n",
              "      <td>-1</td>\n",
              "    </tr>\n",
              "  </tbody>\n",
              "</table>\n",
              "<p>100 rows × 3 columns</p>\n",
              "</div>"
            ],
            "text/plain": [
              "    sepal_length  sepal_width  species\n",
              "0            5.1          3.5        1\n",
              "1            4.9          3.0        1\n",
              "2            4.7          3.2        1\n",
              "3            4.6          3.1        1\n",
              "4            5.0          3.6        1\n",
              "..           ...          ...      ...\n",
              "95           5.7          3.0       -1\n",
              "96           5.7          2.9       -1\n",
              "97           6.2          2.9       -1\n",
              "98           5.1          2.5       -1\n",
              "99           5.7          2.8       -1\n",
              "\n",
              "[100 rows x 3 columns]"
            ]
          },
          "execution_count": 1,
          "metadata": {},
          "output_type": "execute_result"
        }
      ],
      "source": [
        "import seaborn as sns\n",
        "import pandas as pd\n",
        "import numpy as np\n",
        "import matplotlib.pyplot as plt\n",
        "\n",
        "sns.set_theme()\n",
        "\n",
        "# Load the iris dataset from seaborn\n",
        "iris = sns.load_dataset(\"iris\")\n",
        "\n",
        "# Filter the dataset to only include 'versicolor' and 'setosa' species\n",
        "filtered_iris = iris[iris['species'].isin(['versicolor', 'setosa'])]\n",
        "\n",
        "# Select only 'sepal_length' and 'sepal_width' variables\n",
        "filtered_iris = filtered_iris[['sepal_length', 'sepal_width', 'species']]\n",
        "\n",
        "# Label 'setosa' as 1 and 'versicolor' as -1\n",
        "filtered_iris['species'] = filtered_iris['species'].map({'setosa': 1, 'versicolor': -1})\n",
        "\n",
        "filtered_iris"
      ]
    },
    {
      "cell_type": "code",
      "execution_count": 2,
      "metadata": {
        "id": "uHxiRgRi-Elx"
      },
      "outputs": [],
      "source": [
        "X = filtered_iris[['sepal_length', 'sepal_width']].to_numpy()\n",
        "Y = filtered_iris['species'].to_numpy()"
      ]
    },
    {
      "cell_type": "code",
      "execution_count": 3,
      "metadata": {
        "id": "1ZI_c1JM-qIV"
      },
      "outputs": [],
      "source": [
        "D = [(x, y) for x, y in zip(X, Y)];"
      ]
    },
    {
      "cell_type": "code",
      "execution_count": 4,
      "metadata": {
        "id": "XTf5fTFC-4vO"
      },
      "outputs": [],
      "source": [
        "def preactivation(x, w, b):\n",
        "    return np.dot(x, w) + b\n",
        "\n",
        "def sign(z):\n",
        "    if z >= 0:\n",
        "        return 1\n",
        "    else:\n",
        "        return -1\n",
        "\n",
        "def postactivation(x, w, b):\n",
        "    return sign(preactivation(x, w, b))"
      ]
    },
    {
      "cell_type": "code",
      "execution_count": 11,
      "metadata": {
        "colab": {
          "base_uri": "https://localhost:8080/"
        },
        "id": "nBkZKcqS_pq_",
        "outputId": "b9155795-0a80-4d61-d7ed-87d56cba04ab"
      },
      "outputs": [
        {
          "data": {
            "text/plain": [
              "-1"
            ]
          },
          "execution_count": 11,
          "metadata": {},
          "output_type": "execute_result"
        }
      ],
      "source": [
        "w0 = np.random.randn(2)\n",
        "b0 = np.random.randn()\n",
        "\n",
        "# check prediction\n",
        "postactivation(X[0], w0, b0)"
      ]
    },
    {
      "cell_type": "code",
      "execution_count": 12,
      "metadata": {
        "colab": {
          "base_uri": "https://localhost:8080/"
        },
        "id": "5tbxT3LO_wx2",
        "outputId": "1c28fedf-63d1-4f6c-d054-2007d54c472d"
      },
      "outputs": [
        {
          "data": {
            "text/plain": [
              "50.0"
            ]
          },
          "execution_count": 12,
          "metadata": {},
          "output_type": "execute_result"
        }
      ],
      "source": [
        "def loss(x, y, w, b):\n",
        "    y_hat = postactivation(x, w, b)\n",
        "    return (1/4)*(y_hat - y)**2\n",
        "\n",
        "\n",
        "def total_loss(D, w, b):\n",
        "    return sum([loss(x, y, w, b) for x, y in D])\n",
        "\n",
        "total_loss(D, w0, b0)"
      ]
    },
    {
      "cell_type": "code",
      "execution_count": 13,
      "metadata": {
        "id": "02O0fwf7AOfs"
      },
      "outputs": [],
      "source": [
        "def perceptron_update(x, y, w, b):\n",
        "    y_hat = postactivation(x, w, b)\n",
        "    w = w - (1/2) * (y_hat - y) * x\n",
        "    b = b - (1/2) * (y_hat - y)\n",
        "    return w, b"
      ]
    },
    {
      "cell_type": "code",
      "execution_count": null,
      "metadata": {
        "colab": {
          "base_uri": "https://localhost:8080/"
        },
        "id": "MinzFpevAsqS",
        "outputId": "1076e72f-f42e-4860-d219-d21847811e0b"
      },
      "outputs": [
        {
          "name": "stdout",
          "output_type": "stream",
          "text": [
            "Iteration 0: Loss = 50.0\n",
            "Iteration 100: Loss = 1.0\n",
            "Iteration 200: Loss = 1.0\n",
            "Iteration 300: Loss = 2.0\n",
            "Iteration 400: Loss = 1.0\n",
            "Iteration 500: Loss = 1.0\n",
            "Iteration 600: Loss = 1.0\n",
            "Iteration 700: Loss = 1.0\n",
            "Iteration 800: Loss = 0.0\n",
            "Iteration 900: Loss = 0.0\n",
            "Iteration 1000: Loss = 0.0\n",
            "Iteration 1100: Loss = 0.0\n",
            "Iteration 1200: Loss = 0.0\n",
            "Iteration 1300: Loss = 0.0\n",
            "Iteration 1400: Loss = 0.0\n",
            "Iteration 1500: Loss = 0.0\n",
            "Iteration 1600: Loss = 0.0\n",
            "Iteration 1700: Loss = 0.0\n",
            "Iteration 1800: Loss = 0.0\n",
            "Iteration 1900: Loss = 0.0\n",
            "Iteration 2000: Loss = 0.0\n",
            "Iteration 2100: Loss = 0.0\n",
            "Iteration 2200: Loss = 0.0\n",
            "Iteration 2300: Loss = 0.0\n",
            "Iteration 2400: Loss = 0.0\n",
            "Iteration 2500: Loss = 0.0\n",
            "Iteration 2600: Loss = 0.0\n",
            "Iteration 2700: Loss = 0.0\n",
            "Iteration 2800: Loss = 0.0\n",
            "Iteration 2900: Loss = 0.0\n",
            "Iteration 3000: Loss = 0.0\n",
            "Iteration 3100: Loss = 0.0\n",
            "Iteration 3200: Loss = 0.0\n",
            "Iteration 3300: Loss = 0.0\n",
            "Iteration 3400: Loss = 0.0\n",
            "Iteration 3500: Loss = 0.0\n",
            "Iteration 3600: Loss = 0.0\n",
            "Iteration 3700: Loss = 0.0\n",
            "Iteration 3800: Loss = 0.0\n",
            "Iteration 3900: Loss = 0.0\n",
            "Iteration 4000: Loss = 0.0\n",
            "Iteration 4100: Loss = 0.0\n",
            "Iteration 4200: Loss = 0.0\n",
            "Iteration 4300: Loss = 0.0\n",
            "Iteration 4400: Loss = 0.0\n",
            "Iteration 4500: Loss = 0.0\n",
            "Iteration 4600: Loss = 0.0\n",
            "Iteration 4700: Loss = 0.0\n",
            "Iteration 4800: Loss = 0.0\n",
            "Iteration 4900: Loss = 0.0\n"
          ]
        }
      ],
      "source": [
        "losses_over_time = []\n",
        "w = w0\n",
        "b = b0\n",
        "for i in range(5_000):\n",
        "    current_loss = total_loss(D, w, b)\n",
        "    losses_over_time.append(current_loss)\n",
        "    if i % 100 == 0:\n",
        "        print(f\"Iteration {i}: Loss = {current_loss}\")\n",
        "    for x, y in D:\n",
        "        w, b = perceptron_update(x, y, w, b)\n"
      ]
    },
    {
      "cell_type": "code",
      "execution_count": null,
      "metadata": {
        "colab": {
          "base_uri": "https://localhost:8080/",
          "height": 480
        },
        "id": "70yUqDOZA6Gq",
        "outputId": "78ddc7b6-fc2f-4cb0-fe3b-92bde41a9c3b"
      },
      "outputs": [
        {
          "data": {
            "image/png": "[encoded data removed]",
            "text/plain": [
              "<Figure size 640x480 with 1 Axes>"
            ]
          },
          "metadata": {},
          "output_type": "display_data"
        }
      ],
      "source": [
        "t = range(len(losses_over_time))\n",
        "plt.plot(t, losses_over_time)\n",
        "plt.xlabel('Iteration')\n",
        "plt.ylabel('Loss')\n",
        "plt.title('Loss Over Time')\n",
        "plt.show()"
      ]
    },
    {
      "cell_type": "code",
      "execution_count": null,
      "metadata": {
        "colab": {
          "base_uri": "https://localhost:8080/"
        },
        "id": "5UQ_8ECjBECt",
        "outputId": "212c5693-ad62-4789-bf99-12c8357ec852"
      },
      "outputs": [
        {
          "name": "stdout",
          "output_type": "stream",
          "text": [
            "-1\n",
            "-1\n"
          ]
        }
      ],
      "source": [
        "i = np.random.randint(len(D))\n",
        "x, y = D[i]\n",
        "y_hat = postactivation(x, w, b)\n",
        "print(y_hat)\n",
        "print(y)"
      ]
    },
    {
      "cell_type": "code",
      "execution_count": null,
      "metadata": {
        "colab": {
          "base_uri": "https://localhost:8080/"
        },
        "id": "WRokc2DoBXKG",
        "outputId": "f3c115fa-adf8-4582-88a8-a21ac8af90c0"
      },
      "outputs": [
        {
          "data": {
            "text/plain": [
              "array([-80.06058746, 101.36845366])"
            ]
          },
          "execution_count": 17,
          "metadata": {},
          "output_type": "execute_result"
        }
      ],
      "source": [
        "w"
      ]
    },
    {
      "cell_type": "code",
      "execution_count": null,
      "metadata": {
        "colab": {
          "base_uri": "https://localhost:8080/"
        },
        "id": "VP_9H51CBgcj",
        "outputId": "5b321969-5800-412b-f383-a13354f2d43b"
      },
      "outputs": [
        {
          "data": {
            "text/plain": [
              "128.1223871854132"
            ]
          },
          "execution_count": 18,
          "metadata": {},
          "output_type": "execute_result"
        }
      ],
      "source": [
        "b"
      ]
    },
    {
      "cell_type": "code",
      "execution_count": null,
      "metadata": {
        "colab": {
          "base_uri": "https://localhost:8080/",
          "height": 573
        },
        "id": "M5cEMzyqBhHt",
        "outputId": "b30a68e3-c3de-49b9-f3da-008bf6be6eb8"
      },
      "outputs": [
        {
          "data": {
            "image/png": "[encoded data removed]",
            "text/plain": [
              "<Figure size 800x600 with 1 Axes>"
            ]
          },
          "metadata": {},
          "output_type": "display_data"
        }
      ],
      "source": [
        "import numpy as np\n",
        "import matplotlib.pyplot as plt\n",
        "\n",
        "def plot_decision_boundary(weights, bias, data):\n",
        "    \"\"\"\n",
        "    Plots the decision boundary on the given dataset with setosa (1) in magenta and versicolor (-1) in green.\n",
        "\n",
        "    Parameters:\n",
        "    weights (array): Array of weights [w1, w2].\n",
        "    bias (float): Bias term.\n",
        "    data (DataFrame): Filtered iris dataset with sepal_length, sepal_width, and species labels.\n",
        "    \"\"\"\n",
        "    # Extract features and labels\n",
        "    X = data[['sepal_length', 'sepal_width']].values\n",
        "    y = data['species'].values\n",
        "\n",
        "    # Create figure and scatter plot\n",
        "    plt.figure(figsize=(8, 6))\n",
        "    plt.scatter(X[y == 1, 0], X[y == 1, 1], color='magenta', label='Setosa (1)')\n",
        "    plt.scatter(X[y == -1, 0], X[y == -1, 1], color='green', label='Versicolor (-1)')\n",
        "\n",
        "    # Generate decision boundary line\n",
        "    x_vals = np.linspace(X[:, 0].min(), X[:, 0].max(), 100)\n",
        "    y_vals = (-weights[0] * x_vals - bias) / weights[1]  # Rearranging equation of line\n",
        "\n",
        "    plt.plot(x_vals, y_vals, 'b-', label='Decision Boundary')\n",
        "\n",
        "    # Labels and title\n",
        "    plt.xlabel('Sepal Length (cm)')\n",
        "    plt.ylabel('Sepal Width (cm)')\n",
        "    plt.title('Decision Boundary Visualization')\n",
        "    plt.legend()\n",
        "    plt.grid(True)\n",
        "\n",
        "    # Show the plot\n",
        "    plt.show()\n",
        "\n",
        "# Given weights and bias\n",
        "weights = np.array([-80.06058746, 101.36845366])\n",
        "bias = 128.1223871854132\n",
        "\n",
        "# Visualize the decision boundary\n",
        "plot_decision_boundary(weights, bias, filtered_iris)\n"
      ]
    },
    {
      "cell_type": "code",
      "execution_count": null,
      "metadata": {
        "id": "zLhI2-_0B3jA"
      },
      "outputs": [],
      "source": [
        "class SingleNeuron:\n",
        "    def __init__(self, input_size):\n",
        "        self.weights = np.random.randn(input_size)\n",
        "        self.bias = np.random.randn()"
      ]
    }
  ],
  "metadata": {
    "colab": {
      "provenance": []
    },
    "kernelspec": {
      "display_name": "Python 3",
      "name": "python3"
    },
    "language_info": {
      "codemirror_mode": {
        "name": "ipython",
        "version": 3
      },
      "file_extension": ".py",
      "mimetype": "text/x-python",
      "name": "python",
      "nbconvert_exporter": "python",
      "pygments_lexer": "ipython3",
      "version": "3.12.3"
    }
  },
  "nbformat": 4,
  "nbformat_minor": 0
}
